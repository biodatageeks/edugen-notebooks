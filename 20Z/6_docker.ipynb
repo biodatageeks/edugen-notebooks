{
 "cells": [
  {
   "cell_type": "markdown",
   "metadata": {},
   "source": [
    "## How to run edugen image locally"
   ]
  },
  {
   "cell_type": "code",
   "execution_count": null,
   "metadata": {},
   "outputs": [],
   "source": [
    "%%bash\n",
    "###Running our image locally\n",
    "export TAG=spark-edugen-2.4.3-0.1.7-ga024cfc \n",
    "docker run --rm -it -p 8888:8888 \\\n",
    "-e HOME=/tmp/jovyan \\\n",
    "-e DS_LAB_GCS_KEY=/tmp/dummy \\\n",
    "-e USER=jovyan \\\n",
    "biodatageeks/ds-notebook:$TAG \\\n",
    "jupyter-lab --ip='*' --NotebookApp.token='' --NotebookApp.password=''"
   ]
  },
  {
   "cell_type": "code",
   "execution_count": null,
   "metadata": {},
   "outputs": [],
   "source": [
    "%%bash\n",
    "##Running and mounting current folder$HOME/work dir\n",
    "mkdir -p shared \n",
    "export TAG=spark-edugen-2.4.3-0.1.7-ga024cfc \n",
    "docker run --rm -it -p 8888:8888 \\\n",
    "-v $PWD/shared:/tmp/jovyan/work \\\n",
    "-e HOME=/tmp/jovyan \\\n",
    "-e DS_LAB_GCS_KEY=/tmp/dummy \\\n",
    "-e USER=jovyan \\\n",
    "biodatageeks/ds-notebook:$TAG \\\n",
    "jupyter-lab --ip='*' --NotebookApp.token='' --NotebookApp.password=''"
   ]
  },
  {
   "cell_type": "markdown",
   "metadata": {},
   "source": [
    "## How to run Spark code on local machine"
   ]
  },
  {
   "cell_type": "code",
   "execution_count": null,
   "metadata": {},
   "outputs": [],
   "source": [
    "from pyspark.sql import SparkSession\n",
    "spark = SparkSession.builder \\\n",
    ".master(\"local[2]\") \\\n",
    ".config(\"spark.driver.host\", \"localhost\") \\\n",
    ".config(\"spark.driver.memory\", \"2g\") \\\n",
    ".getOrCreate()"
   ]
  }
 ],
 "metadata": {
  "kernelspec": {
   "display_name": "edugen",
   "language": "python",
   "name": "edugen"
  },
  "language_info": {
   "codemirror_mode": {
    "name": "ipython",
    "version": 3
   },
   "file_extension": ".py",
   "mimetype": "text/x-python",
   "name": "python",
   "nbconvert_exporter": "python",
   "pygments_lexer": "ipython3",
   "version": "3.6.9"
  }
 },
 "nbformat": 4,
 "nbformat_minor": 4
}
