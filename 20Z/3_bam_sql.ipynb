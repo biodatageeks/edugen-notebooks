{
 "cells": [
  {
   "cell_type": "markdown",
   "metadata": {},
   "source": [
    "# Odczyty uliniowione\n",
    "\n",
    "W tej części zajmiemy się analiża uliniowionych odczytów (BAM) poprzez platformę Spark. Tym razem zamiast korzystać z API DataFrame posłużymy się językiem SQL."
   ]
  },
  {
   "cell_type": "code",
   "execution_count": 2,
   "metadata": {},
   "outputs": [
    {
     "name": "stdout",
     "output_type": "stream",
     "text": [
      "gs://edugen-lab-tgambin2/bam/mother.bam\n"
     ]
    }
   ],
   "source": [
    "! gsutil ls gs://edugen-lab-${USER}2/bam"
   ]
  },
  {
   "cell_type": "markdown",
   "metadata": {},
   "source": [
    "## Przygotowanie sesji Spark\n",
    "Zainicjowanie sesji Spark oraz stworzenie schematu bazy danych z której będziemy korzystać."
   ]
  },
  {
   "cell_type": "code",
   "execution_count": 3,
   "metadata": {},
   "outputs": [],
   "source": [
    "from pyspark.sql import SparkSession\n",
    "spark = SparkSession \\\n",
    ".builder \\\n",
    ".config('spark.driver.memory','1g') \\\n",
    ".config('spark.executor.memory', '2g') \\\n",
    ".getOrCreate()"
   ]
  },
  {
   "cell_type": "code",
   "execution_count": 8,
   "metadata": {},
   "outputs": [
    {
     "name": "stdout",
     "output_type": "stream",
     "text": [
      "gs://edugen-lab-tgambin2\n"
     ]
    }
   ],
   "source": [
    "import os                               # moduł OS języka Python\n",
    "user_name = os.environ.get('USER')      # pobieramy zmienną środowiskową USER\n",
    "bucket = f\"gs://edugen-lab-{user_name}2\" # konstruujemy sciezke dostepowa do pliku\n",
    "print(bucket)"
   ]
  },
  {
   "cell_type": "markdown",
   "metadata": {},
   "source": [
    "Będziemy korzystać z modułu Spark SQL. Możemy nasze dane traktować jako dane tabelaryczne. Zdefiniujmy tabelę.\n",
    "Tym razem korzystamy z DataSource -> BAMDataSource"
   ]
  },
  {
   "cell_type": "code",
   "execution_count": 9,
   "metadata": {},
   "outputs": [
    {
     "data": {
      "text/plain": [
       "DataFrame[]"
      ]
     },
     "execution_count": 9,
     "metadata": {},
     "output_type": "execute_result"
    }
   ],
   "source": [
    "table_bam =  'alignments'\n",
    "\n",
    "alignments_path = f\"{bucket}/bam/mother.bam\"\n",
    "\n",
    "spark.sql(f'DROP TABLE IF EXISTS {table_bam}')\n",
    "spark.sql(f'CREATE TABLE IF NOT EXISTS {table_bam} \\\n",
    "USING org.biodatageeks.sequila.datasources.BAM.BAMDataSource \\\n",
    "OPTIONS(path \"{alignments_path}\")')\n"
   ]
  },
  {
   "cell_type": "code",
   "execution_count": 10,
   "metadata": {},
   "outputs": [
    {
     "name": "stdout",
     "output_type": "stream",
     "text": [
      "+---------+---------+-------+\n",
      "| col_name|data_type|comment|\n",
      "+---------+---------+-------+\n",
      "|sample_id|   string|   null|\n",
      "|    qname|   string|   null|\n",
      "|     flag|      int|   null|\n",
      "|   contig|   string|   null|\n",
      "|      pos|      int|   null|\n",
      "|pos_start|      int|   null|\n",
      "|  pos_end|      int|   null|\n",
      "|     mapq|      int|   null|\n",
      "|    cigar|   string|   null|\n",
      "|    rnext|   string|   null|\n",
      "|    pnext|      int|   null|\n",
      "|     tlen|      int|   null|\n",
      "|      seq|   string|   null|\n",
      "|     qual|   string|   null|\n",
      "|   tag_AM|      int|   null|\n",
      "|   tag_AS|      int|   null|\n",
      "|   tag_BC|   string|   null|\n",
      "|   tag_BQ|   string|   null|\n",
      "|   tag_BZ|   string|   null|\n",
      "|   tag_CB|   string|   null|\n",
      "+---------+---------+-------+\n",
      "only showing top 20 rows\n",
      "\n"
     ]
    }
   ],
   "source": [
    "spark.sql(f\"describe {table_bam}\").show()"
   ]
  },
  {
   "cell_type": "markdown",
   "metadata": {},
   "source": [
    "Żeby dostać się do danych w tabeli, bedziemy korzystać z język SQL (standard ANSI). \n",
    "Struktura polecen SQL jest nastepująca: \n",
    "\n",
    "```sql\n",
    "SELECT kolumny\n",
    "FROM tabela\n",
    "WHERE warunki\n",
    "GROUP BY wyrazenia grupujace\n",
    "HAVING warunki na grupy\n",
    "ORDER BY wyrazenie sortujące\n",
    "```\n",
    "Zapytanie może mieć podzapytania zagnieżdzone. W zapytaniu można korzystać ze złączeń z innymi tabeli poprzez JOIN."
   ]
  },
  {
   "cell_type": "markdown",
   "metadata": {},
   "source": [
    "# Wybór kolumn (klauzula SELECT)"
   ]
  },
  {
   "cell_type": "code",
   "execution_count": 11,
   "metadata": {},
   "outputs": [
    {
     "name": "stdout",
     "output_type": "stream",
     "text": [
      "+---------+--------------------+----+------+--------+---------+--------+----+------------+-----+--------+----+--------------------+--------------------+------+------+------+------+------+------+------+------+------+------+------+------+------+------+------+------+------+------+------+------+------+------+------+------+------+------+-------+--------------------+------+------+------+------+------+------+-------+--------------------+------+--------------+------+------+------+------+------+------+------+-------+------+------+------+------+------+------+\n",
      "|sample_id|               qname|flag|contig|     pos|pos_start| pos_end|mapq|       cigar|rnext|   pnext|tlen|                 seq|                qual|tag_AM|tag_AS|tag_BC|tag_BQ|tag_BZ|tag_CB|tag_CC|tag_CG|tag_CM|tag_CO|tag_CP|tag_CQ|tag_CR|tag_CS|tag_CT|tag_CY|tag_E2|tag_FI|tag_FS|tag_FZ|tag_H0|tag_H1|tag_H2|tag_HI|tag_IH|tag_LB| tag_MC|              tag_MD|tag_MI|tag_MQ|tag_NH|tag_NM|tag_OA|tag_OC| tag_OP|              tag_OQ|tag_OX|        tag_PG|tag_PQ|tag_PT|tag_PU|tag_Q2|tag_QT|tag_QX|tag_R2| tag_RG|tag_RX|tag_SA|tag_SM|tag_TC|tag_U2|tag_UQ|\n",
      "+---------+--------------------+----+------+--------+---------+--------+----+------------+-----+--------+----+--------------------+--------------------+------+------+------+------+------+------+------+------+------+------+------+------+------+------+------+------+------+------+------+------+------+------+------+------+------+------+-------+--------------------+------+------+------+------+------+------+-------+--------------------+------+--------------+------+------+------+------+------+------+------+-------+------+------+------+------+------+------+\n",
      "|   mother|H0164ALXX140820:2...|  99|    20| 9999879|  9999879|10000027|  60|   118M2I31M|   20|10000037| 149|CCCATTAGATGGTCTTG...|===>?<?>=><>>>?=>...|  null|   141|  null|  null|  null|  null|  null|  null|  null|  null|  null|  null|  null|  null|  null|  null|  null|  null|  null|  null|  null|  null|  null|  null|  null|  null|13S138M|                 149|  null|    60|  null|     2|  null|  null|   null|FFFFFAJFAJFFJJJFJ...|  null|MarkDuplicates|  null|  null|  null|  null|  null|  null|  null|H0164.2|  null|  null|  null|  null|  null|     0|\n",
      "|   mother|H0164ALXX140820:2...|1123|    20| 9999879|  9999879|10000027|  60|   118M2I31M|   20|10000037| 149|CCCATTAGATGGTCTTG...|===>?>??>><>>>@=>...|  null|   141|  null|  null|  null|  null|  null|  null|  null|  null|  null|  null|  null|  null|  null|  null|  null|  null|  null|  null|  null|  null|  null|  null|  null|  null|13S138M|                 149|  null|    60|  null|     2|  null|  null|   null|FFFFFFJJJFFJJFFJJ...|  null|MarkDuplicates|  null|  null|  null|  null|  null|  null|  null|H0164.2|  null|  null|  null|  null|  null|     0|\n",
      "|   mother|H0164ALXX140820:2...| 163|    20| 9999896|  9999896|10000044|  60|   101M2I48M|   20|10000096| 149|AAACGTTGTTAAAATTC...|;1;;6=====<=;7=<=...|  null|   136|  null|  null|  null|  null|  null|  null|  null|  null|  null|  null|  null|  null|  null|  null|  null|  null|  null|  null|  null|  null|  null|  null|  null|  null|   151M|              136C12|  null|    60|  null|     3|  null|  null|   null|A-FFFFFJFJFJA<JJJ...|  null|MarkDuplicates|  null|  null|  null|  null|  null|  null|  null|H0164.2|  null|  null|  null|  null|  null|    12|\n",
      "|   mother|H0164ALXX140820:2...|  99|    20| 9999905|  9999905|10000053|  60|    92M2I57M|   20|10000151| 149|TAAAATTCAACTGACCA...|====;?>>?>7@>>>=?...|  null|   140|  null|  null|  null|  null|  null|  null|  null|  null|  null|  null|  null|  null|  null|  null|  null|  null|  null|  null|  null|  null|  null|  null|  null|  null|   151M|               148A0|  null|    60|  null|     3|  null|  null|   null|AFFF<JFJJJAFJFJFJ...|  null|MarkDuplicates|  null|  null|  null|  null|  null|  null|  null|H0164.2|  null|  null|  null|  null|  null|     2|\n",
      "|   mother|H0164ALXX140820:2...|  99|    20| 9999906|  9999906|10000054|  60|    91M2I58M|   20|10000135| 149|AAAATTCAACTGACCAT...|====?>>?<>?>>>>>>...|  null|   141|  null|  null|  null|  null|  null|  null|  null|  null|  null|  null|  null|  null|  null|  null|  null|  null|  null|  null|  null|  null|  null|  null|  null|  null|13S138M|                 149|  null|    60|  null|     2|  null|  null|   null|FFFFFFJJ<JJJJJFFJ...|  null|MarkDuplicates|  null|  null|  null|  null|  null|  null|  null|H0164.2|  null|  null|  null|  null|  null|     0|\n",
      "|   mother|H0164ALXX140820:2...| 163|    20| 9999909|  9999909|10000044|  60| 88M2I48M13S|   20|10000272| 136|ATTCAACTGACCATAGG...|;;;/>=9>6:8=.=,9=...|  null|   106|  null|  null|  null|  null|  null|  null|  null|  null|  null|  null|  null|  null|  null|  null|  null|  null|  null|  null|  null|  null|  null|  null|  null|  null|   151M|    22T26T13T36A32T2|  null|    60|  null|     7|  null|  null|   null|AFF-FFAJ<AAF-J-AJ...|  null|MarkDuplicates|  null|  null|  null|  null|  null|  null|  null|H0164.2|  null|  null|  null|  null|  null|    65|\n",
      "|   mother|H0164ALXX140820:2...|1123|    20| 9999930|  9999930|10000078|  60|    67M2I82M|   20|10000100| 149|TTGGTTTATTTCTGTAC...|=====>=?>==>?>>?>...|  null|   136|  null|  null|  null|  null|  null|  null|  null|  null|  null|  null|  null|  null|  null|  null|  null|  null|  null|  null|  null|  null|  null|  null|  null|  null|   151M|              124C24|  null|    60|  null|     3|  null|  null|   null|FFFFAJJJJJJJJJJJJ...|  null|MarkDuplicates|  null|  null|  null|  null|  null|  null|  null|H0164.2|  null|  null|  null|  null|  null|    12|\n",
      "|   mother|H0164ALXX140820:2...|  99|    20| 9999930|  9999930|10000078|  60|    67M2I82M|   20|10000100| 149|TTGGTTTATTTCTGTAC...|====?>=?>==>?>>?>...|  null|   141|  null|  null|  null|  null|  null|  null|  null|  null|  null|  null|  null|  null|  null|  null|  null|  null|  null|  null|  null|  null|  null|  null|  null|  null|   151M|                 149|  null|    60|  null|     2|  null|  null|   null|FFFFFFJJJJJJJJJJJ...|  null|MarkDuplicates|  null|  null|  null|  null|  null|  null|  null|H0164.2|  null|  null|  null|  null|  null|     0|\n",
      "|   mother|H0164ALXX140820:2...|  99|    20| 9999945|  9999945|10000093|  60|    52M2I97M|   20|10000103| 149|ACTCTTAGTAGATTCCA...|=<==A>>?;=<>==>>=...|  null|   131|  null|  null|  null|  null|  null|  null|  null|  null|  null|  null|  null|  null|  null|  null|  null|  null|  null|  null|  null|  null|  null|  null|  null|  null| 5S146M|            125A6T16|  null|    60|  null|     4|  null|  null|   null|AFAFFJFJ<AFFFJJJA...|  null|MarkDuplicates|  null|  null|  null|  null|  null|  null|  null|H0164.2|  null|  null|  null|  null|  null|    24|\n",
      "|   mother|H0164ALXX140820:2...|  99|    20| 9999976|  9999976|10000124|  60|   21M2I128M|   20|10000161| 149|TATCCTTATGCCAGTAC...|====?@=?>>?>??>?>...|  null|   136|  null|  null|  null|  null|  null|  null|  null|  null|  null|  null|  null|  null|  null|  null|  null|  null|  null|  null|  null|  null|  null|  null|  null|  null|   151M|               141C7|  null|    60|  null|     3|  null|  null|   null|FFFFFJJJJJJJJJJJJ...|  null|MarkDuplicates|  null|  null|  null|  null|  null|  null|  null|H0164.2|  null|  null|  null|  null|  null|    41|\n",
      "|   mother|H0164ALXX140820:2...| 163|    20| 9999979|  9999979|10000127|  60|   18M2I131M|   20|10000157| 149|CCTTATGCCAGTACCAC...|:;=<=>0:;><=>7=>7...|  null|   136|  null|  null|  null|  null|  null|  null|  null|  null|  null|  null|  null|  null|  null|  null|  null|  null|  null|  null|  null|  null|  null|  null|  null|  null|   151M|              138C10|  null|    60|  null|     3|  null|  null|   null|<<FFFJ7AAFFJJAFJA...|  null|MarkDuplicates|  null|  null|  null|  null|  null|  null|  null|H0164.2|  null|  null|  null|  null|  null|    32|\n",
      "|   mother|H0164ALXX140820:2...|  99|    20| 9999982|  9999982|10000130|  60|   15M2I134M|   20|10000237| 149|TATGCCAGTACCACACT...|====????>?>>?>?>?...|  null|   136|  null|  null|  null|  null|  null|  null|  null|  null|  null|  null|  null|  null|  null|  null|  null|  null|  null|  null|  null|  null|  null|  null|  null|  null|   151M|              135C13|  null|    60|  null|     3|  null|  null|   null|AFFFFJJJJJJJJJJJJ...|  null|MarkDuplicates|  null|  null|  null|  null|  null|  null|  null|H0164.2|  null|  null|  null|  null|  null|    41|\n",
      "|   mother|H0164ALXX140820:2...| 163|    20| 9999987|  9999987|10000114|  60|10M2I118M21S|   20|10000235| 128|CAGTACCACACTGTTTT...|;<;8=<>>=?;;=-=<8...|  null|   115|  null|  null|  null|  null|  null|  null|  null|  null|  null|  null|  null|  null|  null|  null|  null|  null|  null|  null|  null|  null|  null|  null|  null|  null|   151M|              117A10|  null|    60|  null|     3|  null|  null|   null|AAF7FFJJJJF<J-FJA...|  null|MarkDuplicates|  null|  null|  null|  null|  null|  null|  null|H0164.2|  null|  null|  null|  null|  null|    12|\n",
      "|   mother|H0164ALXX140820:2...| 163|    20| 9999987|  9999987|10000135|  60|   10M2I139M|   20|10000196| 149|CAGTACCACACTGTTTT...|;<;<=>=>=?;>=97=<...|  null|   135|  null|  null|  null|  null|  null|  null|  null|  null|  null|  null|  null|  null|  null|  null|  null|  null|  null|  null|  null|  null|  null|  null|  null|  null|   151M|             141G6C0|  null|    60|  null|     4|  null|  null|   null|A<FFFJFJJJFJFA<FF...|  null|MarkDuplicates|  null|  null|  null|  null|  null|  null|  null|H0164.2|  null|  null|  null|  null|  null|     4|\n",
      "|   mother|H0164ALXX140820:2...|  99|    20| 9999997|  9999997|10000146|  70|      1I150M|   20|10000209| 150|TGTTTTGTTTACTACAG...|==1=?>>>==<>??=/=...|  null|   145|  null|  null|  null|  null|  null|  null|  null|  null|  null|  null|  null|  null|  null|  null|  null|  null|  null|  null|  null|  null|  null|  null|  null|  null|   151M|                null|  null|    60|  null|     2|  null|  151M|9999996|FF-FFFJJJJFJJJF-F...|  null|MarkDuplicates|  null|  null|  null|  null|  null|  null|  null|H0164.2|  null|  null|  null|  null|  null|    32|\n",
      "|   mother|H0164ALXX140820:2...|  99|    20| 9999997|  9999997|10000142|  60|      5S146M|   20|10000210| 146|ACACTGTTTTGTTTACT...|=:><5>>==>>>==?8?...|  null|   131|  null|  null|  null|  null|  null|  null|  null|  null|  null|  null|  null|  null|  null|  null|  null|  null|  null|  null|  null|  null|  null|  null|  null|  null|   151M|          120C12C3T8|  null|    60|  null|     3|  null|  null|   null|FAFF-FFJJFJJJJJAJ...|  null|MarkDuplicates|  null|  null|  null|  null|  null|  null|  null|H0164.2|  null|  null|  null|  null|  null|    36|\n",
      "|   mother|H0164ALXX140820:2...| 163|    20| 9999997|  9999997|10000143|  60|      147M4S|   20|10000378| 147|GTTTTGTTTACTACAGC...|/18.86;6=:4/2)51<...|  null|    82|  null|  null|  null|  null|  null|  null|  null|  null|  null|  null|  null|  null|  null|  null|  null|  null|  null|  null|  null|  null|  null|  null|  null|  null|   151M|55A7T2T6A0G2T1T11...|  null|    60|  null|    13|  null|  null|   null|--A-<<A<FA<-7-77F...|  null|MarkDuplicates|  null|  null|  null|  null|  null|  null|  null|H0164.2|  null|  null|  null|  null|  null|    26|\n",
      "|   mother|H0164ALXX140820:2...|  99|    20| 9999999|  9999999|10000149|  60|        151M|   20|10000207| 151|TTTGTTTACTACAGCTT...|====?>=?>??=9?=?=...|  null|   151|  null|  null|  null|  null|  null|  null|  null|  null|  null|  null|  null|  null|  null|  null|  null|  null|  null|  null|  null|  null|  null|  null|  null|  null|   151M|                 151|  null|    60|  null|     0|  null|  null|   null|FFFFFJJJJJJF<JAJF...|  null|MarkDuplicates|  null|  null|  null|  null|  null|  null|  null|H0164.2|  null|  null|  null|  null|  null|     0|\n",
      "|   mother|H0164ALXX140820:2...|  99|    20|10000023| 10000023|10000173|  60|        151M|   20|10000187| 151|AATTTTGAACTCTAAAG...|====?>>>>>?>??>>?...|  null|   151|  null|  null|  null|  null|  null|  null|  null|  null|  null|  null|  null|  null|  null|  null|  null|  null|  null|  null|  null|  null|  null|  null|  null|  null|13S138M|                 151|  null|    60|  null|     0|  null|  null|   null|FFFFFJJJJJJFJJJJJ...|  null|MarkDuplicates|  null|  null|  null|  null|  null|  null|  null|H0164.2|  null|  null|  null|  null|  null|     0|\n",
      "|   mother|H0164ALXX140820:2...|  99|    20|10000027| 10000027|10000177|  60|        151M|   20|10000114| 151|TTGAACTCTAAAGTGTT...|====???>??>>?>>>=...|  null|   146|  null|  null|  null|  null|  null|  null|  null|  null|  null|  null|  null|  null|  null|  null|  null|  null|  null|  null|  null|  null|  null|  null|  null|  null|   151M|               90C60|  null|    60|  null|     1|  null|  null|   null|FFFFFJJJJJJJJJJJJ...|  null|MarkDuplicates|  null|  null|  null|  null|  null|  null|  null|H0164.2|  null|  null|  null|  null|  null|    41|\n",
      "+---------+--------------------+----+------+--------+---------+--------+----+------------+-----+--------+----+--------------------+--------------------+------+------+------+------+------+------+------+------+------+------+------+------+------+------+------+------+------+------+------+------+------+------+------+------+------+------+-------+--------------------+------+------+------+------+------+------+-------+--------------------+------+--------------+------+------+------+------+------+------+------+-------+------+------+------+------+------+------+\n",
      "only showing top 20 rows\n",
      "\n"
     ]
    }
   ],
   "source": [
    "spark.sql(f\"select * from {table_bam}\").show()"
   ]
  },
  {
   "cell_type": "code",
   "execution_count": 12,
   "metadata": {},
   "outputs": [
    {
     "name": "stdout",
     "output_type": "stream",
     "text": [
      "+---------+------+--------+----+\n",
      "|sample_id|contig|     pos|mapq|\n",
      "+---------+------+--------+----+\n",
      "|   mother|    20| 9999879|  60|\n",
      "|   mother|    20| 9999879|  60|\n",
      "|   mother|    20| 9999896|  60|\n",
      "|   mother|    20| 9999905|  60|\n",
      "|   mother|    20| 9999906|  60|\n",
      "|   mother|    20| 9999909|  60|\n",
      "|   mother|    20| 9999930|  60|\n",
      "|   mother|    20| 9999930|  60|\n",
      "|   mother|    20| 9999945|  60|\n",
      "|   mother|    20| 9999976|  60|\n",
      "|   mother|    20| 9999979|  60|\n",
      "|   mother|    20| 9999982|  60|\n",
      "|   mother|    20| 9999987|  60|\n",
      "|   mother|    20| 9999987|  60|\n",
      "|   mother|    20| 9999997|  70|\n",
      "|   mother|    20| 9999997|  60|\n",
      "|   mother|    20| 9999997|  60|\n",
      "|   mother|    20| 9999999|  60|\n",
      "|   mother|    20|10000023|  60|\n",
      "|   mother|    20|10000027|  60|\n",
      "+---------+------+--------+----+\n",
      "only showing top 20 rows\n",
      "\n"
     ]
    }
   ],
   "source": [
    "spark.sql(f\"select sample_id, contig, pos, mapq from {table_bam}\").show()"
   ]
  },
  {
   "cell_type": "markdown",
   "metadata": {},
   "source": [
    "Pokaż unikalne wartości flag jakie przyjmują wartości z tabeli"
   ]
  },
  {
   "cell_type": "code",
   "execution_count": 13,
   "metadata": {},
   "outputs": [
    {
     "name": "stdout",
     "output_type": "stream",
     "text": [
      "+----+\n",
      "|flag|\n",
      "+----+\n",
      "|  65|\n",
      "|  69|\n",
      "|  73|\n",
      "|  81|\n",
      "|  83|\n",
      "|  89|\n",
      "|  97|\n",
      "|  99|\n",
      "| 101|\n",
      "| 113|\n",
      "| 129|\n",
      "| 133|\n",
      "| 137|\n",
      "| 145|\n",
      "| 147|\n",
      "| 153|\n",
      "| 161|\n",
      "| 163|\n",
      "| 165|\n",
      "| 177|\n",
      "+----+\n",
      "only showing top 20 rows\n",
      "\n"
     ]
    }
   ],
   "source": [
    "spark.sql(f\"select distinct flag from {table_bam} order by flag ASC\").show()  # distinct"
   ]
  },
  {
   "cell_type": "markdown",
   "metadata": {},
   "source": [
    "`Czym (jakim typem danych) są dane zwracane przez spark.sql (\"SELECT..\")?`"
   ]
  },
  {
   "cell_type": "markdown",
   "metadata": {},
   "source": [
    "## Sortowanie (klauzula ORDER BY)"
   ]
  },
  {
   "cell_type": "code",
   "execution_count": 14,
   "metadata": {},
   "outputs": [
    {
     "name": "stdout",
     "output_type": "stream",
     "text": [
      "<class 'pyspark.sql.dataframe.DataFrame'>\n",
      "root\n",
      " |-- flag: integer (nullable = false)\n",
      "\n"
     ]
    }
   ],
   "source": [
    "df = spark.sql(f\"select distinct flag from {table_bam} order by flag ASC\") \n",
    "print(type(df))\n",
    "df.printSchema()"
   ]
  },
  {
   "cell_type": "markdown",
   "metadata": {},
   "source": [
    "### Filtrowanie wierszy "
   ]
  },
  {
   "cell_type": "code",
   "execution_count": 17,
   "metadata": {},
   "outputs": [
    {
     "name": "stdout",
     "output_type": "stream",
     "text": [
      "+---------+------+--------+----+\n",
      "|sample_id|contig|     pos|mapq|\n",
      "+---------+------+--------+----+\n",
      "|   mother|    20| 9999879|  60|\n",
      "|   mother|    20| 9999879|  60|\n",
      "|   mother|    20| 9999896|  60|\n",
      "|   mother|    20| 9999905|  60|\n",
      "|   mother|    20| 9999906|  60|\n",
      "|   mother|    20| 9999909|  60|\n",
      "|   mother|    20| 9999930|  60|\n",
      "|   mother|    20| 9999930|  60|\n",
      "|   mother|    20| 9999945|  60|\n",
      "|   mother|    20| 9999976|  60|\n",
      "|   mother|    20| 9999979|  60|\n",
      "|   mother|    20| 9999982|  60|\n",
      "|   mother|    20| 9999987|  60|\n",
      "|   mother|    20| 9999987|  60|\n",
      "|   mother|    20| 9999997|  70|\n",
      "|   mother|    20| 9999997|  60|\n",
      "|   mother|    20| 9999997|  60|\n",
      "|   mother|    20| 9999999|  60|\n",
      "|   mother|    20|10000023|  60|\n",
      "|   mother|    20|10000027|  60|\n",
      "+---------+------+--------+----+\n",
      "only showing top 20 rows\n",
      "\n"
     ]
    }
   ],
   "source": [
    "spark.sql(f\"select sample_id, contig, pos, mapq from {table_bam} where pos < 13858310\").show()"
   ]
  },
  {
   "cell_type": "code",
   "execution_count": 19,
   "metadata": {},
   "outputs": [
    {
     "name": "stdout",
     "output_type": "stream",
     "text": [
      "+---------+------+--------+----+\n",
      "|sample_id|contig|     pos|mapq|\n",
      "+---------+------+--------+----+\n",
      "|   mother|    20| 9999879|  60|\n",
      "|   mother|    20| 9999879|  60|\n",
      "|   mother|    20| 9999896|  60|\n",
      "|   mother|    20| 9999905|  60|\n",
      "|   mother|    20| 9999906|  60|\n",
      "|   mother|    20| 9999909|  60|\n",
      "|   mother|    20| 9999930|  60|\n",
      "|   mother|    20| 9999930|  60|\n",
      "|   mother|    20| 9999945|  60|\n",
      "|   mother|    20| 9999976|  60|\n",
      "|   mother|    20| 9999979|  60|\n",
      "|   mother|    20| 9999982|  60|\n",
      "|   mother|    20| 9999987|  60|\n",
      "|   mother|    20| 9999987|  60|\n",
      "|   mother|    20| 9999997|  70|\n",
      "|   mother|    20| 9999997|  60|\n",
      "|   mother|    20| 9999997|  60|\n",
      "|   mother|    20| 9999999|  60|\n",
      "|   mother|    20|10000023|  60|\n",
      "|   mother|    20|10000027|  60|\n",
      "+---------+------+--------+----+\n",
      "only showing top 20 rows\n",
      "\n"
     ]
    }
   ],
   "source": [
    "spark.sql(f\"select sample_id, contig, pos, mapq from {table_bam} where pos < 13858310 and flag NOT IN (113,117,121) and mapq > 50\").show()"
   ]
  },
  {
   "cell_type": "markdown",
   "metadata": {},
   "source": [
    "<div class=\"alert alert-block alert-warning\">\n",
    "<b>Zadanie 3_1:</b> \n",
    "Napisz zapytanie które zwróci unikalne wartości CIGAR na contigu 20 na pozycjach 1-1000000. Posortuj względem długości pola cigar malejąco. Jesli kilka CIGAR ma taką samą długość to posortuj rosnąco alfebatycznie. Ile jest takich unikalnych wartości?\n",
    "    </div>\n"
   ]
  },
  {
   "cell_type": "code",
   "execution_count": null,
   "metadata": {},
   "outputs": [],
   "source": []
  },
  {
   "cell_type": "markdown",
   "metadata": {},
   "source": [
    "# Grupowanie danych"
   ]
  },
  {
   "cell_type": "markdown",
   "metadata": {},
   "source": [
    "Pokaż ile jest wierszy o konkretnej wartości flagi"
   ]
  },
  {
   "cell_type": "code",
   "execution_count": 20,
   "metadata": {},
   "outputs": [
    {
     "name": "stdout",
     "output_type": "stream",
     "text": [
      "+----+-----+\n",
      "|flag|  cnt|\n",
      "+----+-----+\n",
      "|  99|28753|\n",
      "| 147|28735|\n",
      "| 163|28660|\n",
      "|  83|28638|\n",
      "|1123| 4334|\n",
      "|1171| 4331|\n",
      "|1187| 4284|\n",
      "|1107| 4282|\n",
      "| 165|  317|\n",
      "| 133|  268|\n",
      "|  89|  250|\n",
      "|  73|  222|\n",
      "|1113|   67|\n",
      "|1097|   46|\n",
      "|  65|    9|\n",
      "| 129|    9|\n",
      "| 101|    5|\n",
      "|  69|    3|\n",
      "| 137|    3|\n",
      "| 177|    3|\n",
      "+----+-----+\n",
      "only showing top 20 rows\n",
      "\n"
     ]
    }
   ],
   "source": [
    "spark.sql(f\"select flag, count(*) as cnt from {table_bam} group by flag order by cnt desc\").show()  # AS - alias kolumny"
   ]
  },
  {
   "cell_type": "markdown",
   "metadata": {},
   "source": [
    "Mozna wykorzystac kilka funkcji agregujących (na roznych kolumnach) w jednym zapytaniu. \n",
    "\n",
    "Pokaz ile odczytow ma dana flage. Pokaz takze ich srednia jakosc mapowania oraz minimalna pozycje na ktorej wystepuja"
   ]
  },
  {
   "cell_type": "code",
   "execution_count": 21,
   "metadata": {},
   "outputs": [
    {
     "name": "stdout",
     "output_type": "stream",
     "text": [
      "+----+---+------------------+--------+\n",
      "|flag|cnt|             avg_m|     min|\n",
      "+----+---+------------------+--------+\n",
      "|1201|  1|              60.0|16037158|\n",
      "| 145|  1|              60.0|16019143|\n",
      "| 161|  1|              60.0|15966265|\n",
      "|  97|  1|              60.0|16031210|\n",
      "|1137|  1|               0.0|16034939|\n",
      "|  81|  1|               0.0|15960755|\n",
      "|1153|  2|              60.0|10065628|\n",
      "|1089|  2|              60.0|10065594|\n",
      "|1177|  2|              20.0|10101679|\n",
      "| 177|  3|              40.0|10144245|\n",
      "| 113|  3|              40.0|10144245|\n",
      "| 153|  3|              10.0|10101686|\n",
      "| 137|  3|               0.0|15863674|\n",
      "|  69|  3|               0.0|15863674|\n",
      "| 101|  5|               0.0|10101679|\n",
      "| 129|  9| 52.22222222222222|10000816|\n",
      "|  65|  9|49.111111111111114|10000670|\n",
      "|1097| 46| 59.67391304347826|10019625|\n",
      "|1113| 67| 56.35820895522388|10003067|\n",
      "|  73|222|56.509009009009006|10000788|\n",
      "+----+---+------------------+--------+\n",
      "only showing top 20 rows\n",
      "\n"
     ]
    }
   ],
   "source": [
    "spark.sql(f\"select flag, count(*) as cnt, avg(mapq) as avg_m, min(pos_start) as min from {table_bam} group by flag order by cnt, avg_m desc\").show()  # AS - alias kolumny"
   ]
  },
  {
   "cell_type": "markdown",
   "metadata": {},
   "source": [
    "Funkcje mozemy zagniezdzac. Np: round(avg(kolumna))"
   ]
  },
  {
   "cell_type": "code",
   "execution_count": 23,
   "metadata": {},
   "outputs": [
    {
     "name": "stdout",
     "output_type": "stream",
     "text": [
      "+----+---+-----+--------+\n",
      "|flag|cnt|avg_m|     min|\n",
      "+----+---+-----+--------+\n",
      "|1201|  1|   60|16037158|\n",
      "| 145|  1|   60|16019143|\n",
      "| 161|  1|   60|15966265|\n",
      "|  97|  1|   60|16031210|\n",
      "|1137|  1|    0|16034939|\n",
      "|  81|  1|    0|15960755|\n",
      "|1153|  2|   60|10065628|\n",
      "|1089|  2|   60|10065594|\n",
      "|1177|  2|   20|10101679|\n",
      "| 177|  3|   40|10144245|\n",
      "| 113|  3|   40|10144245|\n",
      "| 153|  3|   10|10101686|\n",
      "| 137|  3|    0|15863674|\n",
      "|  69|  3|    0|15863674|\n",
      "| 101|  5|    0|10101679|\n",
      "| 129|  9|   52|10000816|\n",
      "|  65|  9|   49|10000670|\n",
      "|1097| 46|   59|10019625|\n",
      "|1113| 67|   56|10003067|\n",
      "|  73|222|   56|10000788|\n",
      "+----+---+-----+--------+\n",
      "only showing top 20 rows\n",
      "\n"
     ]
    }
   ],
   "source": [
    "# Uzycie funkcji floor na średniej\n",
    "spark.sql(f\"select flag, count(*) as cnt, floor(avg(mapq)) as avg_m, min(pos_start) as min from {table_bam} group by flag order by cnt, avg_m desc\").show()  # AS - alias kolumny"
   ]
  },
  {
   "cell_type": "markdown",
   "metadata": {},
   "source": [
    "<div class=\"alert alert-block alert-warning\">\n",
    "<b>Zadanie 3_2:</b> \n",
    "Wiedząc, że jako wyrażenie grupujące można wykorzystać wywołanie funkcji na kolumnie napisz zapytanie które policzy ile odczytów ma określoną długość CIGARa. Dla tych grup policz także zaokrągloną (ROUND) wartość jakości mapowania odczytów. Wynik zawęź tylko do odczytów występujących na chromosomie 20 lub 21. Posortuj malejaco liczności grup.\n",
    "    </div>\n",
    "\n",
    "\n"
   ]
  },
  {
   "cell_type": "code",
   "execution_count": null,
   "metadata": {},
   "outputs": [],
   "source": []
  },
  {
   "cell_type": "markdown",
   "metadata": {},
   "source": [
    "# Filtrowanie grup danych\n",
    "\n",
    "Warunki na pojedyncze wiersze nakładamy za pomocą klauzuli WHERE. Jeśli dokonujemy grupowania danych i chcemy w wynikach uzyskać jedynie informacje o grupach, które spełniają określone warunki używamy klauzuli HAVING. (HAVING moze wystapic wylacznie z GROUP BY)."
   ]
  },
  {
   "cell_type": "code",
   "execution_count": 24,
   "metadata": {},
   "outputs": [
    {
     "name": "stdout",
     "output_type": "stream",
     "text": [
      "+----+-----+-----+--------+\n",
      "|flag|  cnt|avg_m|     min|\n",
      "+----+-----+-----+--------+\n",
      "|1107| 4282|   59|10000397|\n",
      "|1187| 4284|   59|10000189|\n",
      "|1171| 4331|   59|10000037|\n",
      "|1123| 4334|   59| 9999879|\n",
      "|  83|28638|   59|10000096|\n",
      "| 163|28660|   59| 9999896|\n",
      "| 147|28735|   59|10000037|\n",
      "|  99|28753|   59| 9999879|\n",
      "+----+-----+-----+--------+\n",
      "\n"
     ]
    }
   ],
   "source": [
    "# Zrob podsumowanie dla grup odczytów o zgodnym flag. Policz srednie mapq oraz minmalna pozycje\n",
    "# Pokaz jedynie informacja o flagach dla ktorych jest ponad 1000 odczytów.\n",
    "spark.sql(f\"select flag, count(*) as cnt, floor(avg(mapq)) as avg_m, min(pos_start) as min \\\n",
    "            from {table_bam} \\\n",
    "            group by flag \\\n",
    "            having count(*) > 1000 \\\n",
    "            order by cnt, avg_m desc\").show()"
   ]
  },
  {
   "cell_type": "markdown",
   "metadata": {},
   "source": [
    "`Czy w klauzuli HAVING możemy użyc aliasu kolumny cnt?`"
   ]
  },
  {
   "cell_type": "markdown",
   "metadata": {},
   "source": [
    "Warunki w HAVING też mogą być złożone (złączone AND, OR). Ale warunki w HAVING mogą się odnosić jedynie do kolumn grupujących lub funkcji agregujących"
   ]
  },
  {
   "cell_type": "code",
   "execution_count": 25,
   "metadata": {},
   "outputs": [
    {
     "name": "stdout",
     "output_type": "stream",
     "text": [
      "+----+-----+-----+--------+\n",
      "|flag|  cnt|avg_m|     min|\n",
      "+----+-----+-----+--------+\n",
      "|1107| 4282|   59|10000397|\n",
      "|1187| 4284|   59|10000189|\n",
      "|1171| 4331|   59|10000037|\n",
      "|1123| 4334|   59| 9999879|\n",
      "|  83|28638|   59|10000096|\n",
      "| 163|28660|   59| 9999896|\n",
      "| 147|28735|   59|10000037|\n",
      "+----+-----+-----+--------+\n",
      "\n"
     ]
    }
   ],
   "source": [
    "spark.sql(f\"select flag, count(*) as cnt, floor(avg(mapq)) as avg_m, min(pos_start) as min \\\n",
    "            from {table_bam} \\\n",
    "            group by flag \\\n",
    "            having count(*) > 1000 and flag != 99 \\\n",
    "            order by cnt, avg_m desc\").show()"
   ]
  },
  {
   "cell_type": "code",
   "execution_count": null,
   "metadata": {},
   "outputs": [],
   "source": [
    "# Bledna konstrukcja - W HAVING mamy warunek na kolumny niegrupujace\n",
    "# spark.sql(f\"select flag, count(*) as cnt, floor(avg(mapq)) as avg_m, min(pos_start) as min \\\n",
    "#             from {table_bam} \\\n",
    "#             group by flag \\\n",
    "#             having count(*) > 1000 and sample_id ='mother' \\\n",
    "#             order by cnt, avg_m desc\").show()"
   ]
  },
  {
   "cell_type": "markdown",
   "metadata": {},
   "source": [
    "<div class=\"alert alert-block alert-warning\">\n",
    "<b>Zadanie 3_3:</b> \n",
    "Wiedząc, że jako wyrażenie grupujące można wykorzystać wywołanie funkcji na kolumnie napisz zapytanie które policzy ile odczytów ma określoną długość CIGARa. \n",
    "Dla tych grup policz także zaokrągloną (ROUND) wartość jakości mapowania odczytów. \n",
    "Wynik zawęź tylko do odczytów występujących na chromosomie 20 lub 21. Pokaż tylko grupy mające średnia jakosc mapowania powyzej 30. Posortuj malejaco liczności grup.\n",
    "    </div>"
   ]
  },
  {
   "cell_type": "code",
   "execution_count": null,
   "metadata": {},
   "outputs": [],
   "source": []
  },
  {
   "cell_type": "markdown",
   "metadata": {},
   "source": [
    "## Podzapytania zagnieżdżone\n",
    "\n",
    "Chcemy zobaczyć, jaka jest najwyższa wartość mapq w naszym zbiorze danych."
   ]
  },
  {
   "cell_type": "code",
   "execution_count": 26,
   "metadata": {},
   "outputs": [
    {
     "name": "stdout",
     "output_type": "stream",
     "text": [
      "+---------+\n",
      "|max(mapq)|\n",
      "+---------+\n",
      "|       70|\n",
      "+---------+\n",
      "\n"
     ]
    }
   ],
   "source": [
    "spark.sql(f\"select max(mapq) from {table_bam} \").show()"
   ]
  },
  {
   "cell_type": "markdown",
   "metadata": {},
   "source": [
    "Zobaczmy zatem jakie są dane tych odczytów które charakteryzują się najwyższą wartością jakosci mapowania"
   ]
  },
  {
   "cell_type": "code",
   "execution_count": 27,
   "metadata": {},
   "outputs": [
    {
     "name": "stdout",
     "output_type": "stream",
     "text": [
      "+---------+------+--------+----+\n",
      "|sample_id|contig|     pos|mapq|\n",
      "+---------+------+--------+----+\n",
      "|   mother|    20| 9999879|  60|\n",
      "|   mother|    20| 9999879|  60|\n",
      "|   mother|    20| 9999896|  60|\n",
      "|   mother|    20| 9999905|  60|\n",
      "|   mother|    20| 9999906|  60|\n",
      "|   mother|    20| 9999909|  60|\n",
      "|   mother|    20| 9999930|  60|\n",
      "|   mother|    20| 9999930|  60|\n",
      "|   mother|    20| 9999945|  60|\n",
      "|   mother|    20| 9999976|  60|\n",
      "|   mother|    20| 9999979|  60|\n",
      "|   mother|    20| 9999982|  60|\n",
      "|   mother|    20| 9999987|  60|\n",
      "|   mother|    20| 9999987|  60|\n",
      "|   mother|    20| 9999997|  60|\n",
      "|   mother|    20| 9999997|  60|\n",
      "|   mother|    20| 9999999|  60|\n",
      "|   mother|    20|10000023|  60|\n",
      "|   mother|    20|10000027|  60|\n",
      "|   mother|    20|10000037|  60|\n",
      "+---------+------+--------+----+\n",
      "only showing top 20 rows\n",
      "\n"
     ]
    }
   ],
   "source": [
    "spark.sql(f\"select sample_id, contig, pos, mapq from {table_bam} where mapq=60 \").show()"
   ]
  },
  {
   "cell_type": "markdown",
   "metadata": {},
   "source": [
    "Teraz sprobujmy to zapisac bez zaszywania wartości 60 w zapytaniu."
   ]
  },
  {
   "cell_type": "code",
   "execution_count": 28,
   "metadata": {},
   "outputs": [
    {
     "name": "stdout",
     "output_type": "stream",
     "text": [
      "+---------+------+--------+----+\n",
      "|sample_id|contig|     pos|mapq|\n",
      "+---------+------+--------+----+\n",
      "|   mother|    20| 9999997|  70|\n",
      "|   mother|    20|10006697|  70|\n",
      "|   mother|    20|10006697|  70|\n",
      "|   mother|    20|10006698|  70|\n",
      "|   mother|    20|10006698|  70|\n",
      "|   mother|    20|10006819|  70|\n",
      "|   mother|    20|10008145|  70|\n",
      "|   mother|    20|10008682|  70|\n",
      "|   mother|    20|10008684|  70|\n",
      "|   mother|    20|10008759|  70|\n",
      "|   mother|    20|10008759|  70|\n",
      "|   mother|    20|10010396|  70|\n",
      "|   mother|    20|10010433|  70|\n",
      "|   mother|    20|10010481|  70|\n",
      "|   mother|    20|10010481|  70|\n",
      "|   mother|    20|10011484|  70|\n",
      "|   mother|    20|10015532|  70|\n",
      "|   mother|    20|10015534|  70|\n",
      "|   mother|    20|10015539|  70|\n",
      "|   mother|    20|10015546|  70|\n",
      "+---------+------+--------+----+\n",
      "only showing top 20 rows\n",
      "\n"
     ]
    }
   ],
   "source": [
    "spark.sql(f\"select sample_id, contig, pos, mapq from {table_bam} where mapq=(select max(mapq) from {table_bam}) \").show()"
   ]
  },
  {
   "cell_type": "markdown",
   "metadata": {},
   "source": [
    "<div class=\"alert alert-block alert-warning\">\n",
    "<b>Zadanie 3_4:</b> \n",
    "\n",
    "1) Sprawdź ile jest odczytów mających maksymalna wartosc mapq. \n",
    "\n",
    "2) Zobacz ile jest odczytów ktorych mapq jest w pierwszej 3 wartosci mapq ze zbioru danych.\n",
    "\n",
    " * podpowiedzi: ograniczenie liczby zwracanych wierszy (LIMIT). \n",
    " * przemyślenie operatora porównania wartosci mapq oraz wartosci zwracanych przez podzapytanie\n",
    "    </div>\n",
    "\n"
   ]
  },
  {
   "cell_type": "code",
   "execution_count": null,
   "metadata": {},
   "outputs": [],
   "source": []
  },
  {
   "cell_type": "markdown",
   "metadata": {},
   "source": [
    "# Wykorzystanie funkcji wbudowanych"
   ]
  },
  {
   "cell_type": "markdown",
   "metadata": {},
   "source": [
    "Niektóre funkcje do wykorzystania:\n",
    "ROUND, FLOOR, SIGN, POW, LEAST, LOG\n",
    "UPPER, LOWER, SUBSTR, \n",
    "NVL\n",
    "CURRENT_DATE\n",
    "MIN, MAX, SUM, STDDEV, AVG"
   ]
  },
  {
   "cell_type": "code",
   "execution_count": 29,
   "metadata": {},
   "outputs": [
    {
     "name": "stdout",
     "output_type": "stream",
     "text": [
      "+---------+----------------+--------------+\n",
      "|sample_id|upper(sample_id)|current_date()|\n",
      "+---------+----------------+--------------+\n",
      "|   mother|          MOTHER|    2022-05-13|\n",
      "+---------+----------------+--------------+\n",
      "\n"
     ]
    }
   ],
   "source": [
    "spark.sql(f\"select distinct sample_id, upper(sample_id), current_date() from {table_bam} \").show()"
   ]
  },
  {
   "cell_type": "markdown",
   "metadata": {},
   "source": [
    "# Wykorzystanie funkcji rozszerzonych"
   ]
  },
  {
   "cell_type": "markdown",
   "metadata": {},
   "source": [
    "Istnieją rozszerzenia Sparka do obslugi genomicznych danych. Na przykład pakiet sequila dostarcza metod do rozproszonego wyliczenia glebokosci pokrycia i pileup.\n",
    "\n",
    "http://biodatageeks.org/sequila/"
   ]
  },
  {
   "cell_type": "code",
   "execution_count": 30,
   "metadata": {},
   "outputs": [],
   "source": [
    "# zeby skorzystac z rozszerzen importujemy modul i tworzymy obiekt ss, opakowanie na sesje sparkową\n",
    "from pysequila import SequilaSession\n",
    "ss = SequilaSession(spark)"
   ]
  },
  {
   "cell_type": "markdown",
   "metadata": {},
   "source": [
    "Coverage jest dostępny jako funkcja tabelaryczna, czyli funkcja zwracająca tabelę."
   ]
  },
  {
   "cell_type": "code",
   "execution_count": 33,
   "metadata": {},
   "outputs": [],
   "source": [
    "# konstruujemy zapytanie\n",
    "cov_query = f\"select * from coverage ('{table_bam}', 'mother', 'blocks')\"\n"
   ]
  },
  {
   "cell_type": "code",
   "execution_count": 34,
   "metadata": {},
   "outputs": [
    {
     "name": "stdout",
     "output_type": "stream",
     "text": [
      "+------+---------+--------+--------+\n",
      "|contig|pos_start| pos_end|coverage|\n",
      "+------+---------+--------+--------+\n",
      "|    20|  9999879| 9999895|       1|\n",
      "|    20|  9999896| 9999904|       2|\n",
      "|    20|  9999905| 9999905|       3|\n",
      "|    20|  9999906| 9999908|       4|\n",
      "|    20|  9999909| 9999929|       5|\n",
      "|    20|  9999930| 9999944|       6|\n",
      "|    20|  9999945| 9999975|       7|\n",
      "|    20|  9999976| 9999978|       8|\n",
      "|    20|  9999979| 9999981|       9|\n",
      "|    20|  9999982| 9999986|      10|\n",
      "|    20|  9999987| 9999996|      12|\n",
      "|    20|  9999997| 9999998|      15|\n",
      "|    20|  9999999|10000022|      16|\n",
      "|    20| 10000023|10000026|      17|\n",
      "|    20| 10000027|10000027|      18|\n",
      "|    20| 10000028|10000036|      17|\n",
      "|    20| 10000037|10000044|      18|\n",
      "|    20| 10000045|10000053|      16|\n",
      "|    20| 10000054|10000054|      15|\n",
      "|    20| 10000055|10000061|      14|\n",
      "+------+---------+--------+--------+\n",
      "only showing top 20 rows\n",
      "\n"
     ]
    }
   ],
   "source": [
    "ss.sql(cov_query).show()"
   ]
  },
  {
   "cell_type": "markdown",
   "metadata": {},
   "source": [
    "<div class=\"alert alert-block alert-warning\">\n",
    "<b>Zadanie 3_5:</b> \n",
    "Pokaż tylko pozycje, które mają głębokość pokrycia większą niż 5.\n",
    "    </div>\n"
   ]
  },
  {
   "cell_type": "code",
   "execution_count": null,
   "metadata": {},
   "outputs": [],
   "source": []
  },
  {
   "cell_type": "markdown",
   "metadata": {},
   "source": [
    "<div class=\"alert alert-block alert-warning\">\n",
    "<b>Zadanie 3_6:</b> \n",
    "Korzystając z opcji uruchomienia funkcji coverage ktora zwraca pokrycie dla kazdej pozycji niezaleznie (bases zamiast blocks) napisz  zapytanie które zwróci ile pozycji ma daną głębokość pokrycia. Posortuj po liczności malejąco.\n",
    "    </div>\n",
    "\n"
   ]
  },
  {
   "cell_type": "code",
   "execution_count": null,
   "metadata": {},
   "outputs": [],
   "source": []
  },
  {
   "cell_type": "code",
   "execution_count": 35,
   "metadata": {},
   "outputs": [],
   "source": [
    "ss.stop()"
   ]
  },
  {
   "cell_type": "markdown",
   "metadata": {},
   "source": [
    "# Wykrywanie wariantów\n",
    " W wersji rozproszonej można użyć GATK HaplotypeCaller\n",
    " "
   ]
  },
  {
   "cell_type": "code",
   "execution_count": 40,
   "metadata": {},
   "outputs": [],
   "source": [
    "#! gatk-hpt-caller-k8s.sh \\\n",
    "  #--conf \"spark.executor.memory=1g\" \\\n",
    "  #--conf \"spark.driver.memory=1g\" \\\n",
    "  #--conf \"spark.executor.instances=2\" \\\n",
    "  #--conf \"spark.hadoop.fs.gs.block.size=8388608\" \n",
    "  #-R /mnt/data/mapping/ref/ref.fasta \\\n",
    "  #-I gs://edugen-lab-$USER/bam/mother10.bam \\\n",
    "  #-O gs://edugen-lab-$USER/vcf/mother10.vcf"
   ]
  },
  {
   "cell_type": "code",
   "execution_count": null,
   "metadata": {},
   "outputs": [],
   "source": []
  },
  {
   "cell_type": "code",
   "execution_count": 41,
   "metadata": {},
   "outputs": [
    {
     "name": "stdout",
     "output_type": "stream",
     "text": [
      "#!/usr/bin/env bash\n",
      "echo \"####Running GATK with users' params: $@ on Kubernetes\"\n",
      "gatk HaplotypeCallerSpark \\\n",
      "  --spark-runner SPARK \\\n",
      "  --spark-master k8s://https://$KUBERNETES_SERVICE_HOST:$KUBERNETES_SERVICE_PORT \\\n",
      "  --conf spark.jars=/tmp/gcs-connector-${GCS_CONNECTOR_VERSION}-shaded.jar,/tmp/google-cloud-nio-${GCS_NIO_VERSION}-shaded.jar \\\n",
      "  --conf spark.hadoop.google.cloud.auth.service.account.enable=true \\\n",
      "  --conf spark.hadoop.google.cloud.auth.service.account.json.keyfile=$GOOGLE_APPLICATION_CREDENTIALS \\\n",
      "  --conf spark.kubernetes.driverEnv.GCS_PROJECT_ID=$PROJECT_ID \\\n",
      "  --conf spark.kubernetes.driverEnv.GOOGLE_APPLICATION_CREDENTIALS=$GOOGLE_APPLICATION_CREDENTIALS \\\n",
      "  --conf spark.executorEnv.GCS_PROJECT_ID=$PROJECT_ID \\\n",
      "  --conf spark.executorEnv.GOOGLE_APPLICATION_CREDENTIALS=$GOOGLE_APPLICATION_CREDENTIALS \\\n",
      "  --conf spark.kubernetes.driver.secrets.$SERVICE_ACCOUNT-secret=$SECRETS_MOUNT_DIR \\\n",
      "  --conf spark.kubernetes.executor.secrets.$SERVICE_ACCOUNT-secret=$SECRETS_MOUNT_DIR \\\n",
      "  --conf spark.hadoop.fs.gs.project.id=$PROJECT_ID \\\n",
      "  --conf spark.hadoop.fs.gs.impl=com.google.cloud.hadoop.fs.gcs.GoogleHadoopFileSystem \\\n",
      "  --conf spark.hadoop.fs.AbstractFileSystem.gs.impl=com.google.cloud.hadoop.fs.gcs.GoogleHadoopFS \\\n",
      "  --conf spark.kubernetes.container.image=gcr.io/studiapodyplomowe/biodatageeks/spark-py:v2.4.3-edugen-0.1.7-gatk \\\n",
      "  --conf spark.kubernetes.authenticate.driver.serviceAccountName=$SERVICE_ACCOUNT \\\n",
      "  --conf spark.kubernetes.authenticate.serviceAccountName=$SERVICE_ACCOUNT \\\n",
      "  --conf spark.kubernetes.executor.podNamePrefix=gatk-exec-$USER \\\n",
      "  --conf spark.kubernetes.executor.label.spark-owner=$USER \\\n",
      "  --conf spark.kubernetes.executor.request.cores=0.4 \\\n",
      "  --conf spark.driver.port=29010 \\\n",
      "  --conf spark.blockManager.port=29011 \\\n",
      "  --conf spark.kubernetes.namespace=default \\\n",
      "  --conf spark.driver.host=jupyter-service-$USER \\\n",
      "  --conf spark.driver.bindAddress=$HOSTNAME \\\n",
      "  --conf spark.executorEnv.PYSPARK_PYTHON=$PYSPARK_PYTHON \\\n",
      "  \"$@\""
     ]
    }
   ],
   "source": [
    "! cat /usr/local/bin/gatk-hpt-caller-k8s.sh  # podejrzymy konfiguracje"
   ]
  }
 ],
 "metadata": {
  "kernelspec": {
   "display_name": "edugen",
   "language": "python",
   "name": "edugen"
  },
  "language_info": {
   "codemirror_mode": {
    "name": "ipython",
    "version": 3
   },
   "file_extension": ".py",
   "mimetype": "text/x-python",
   "name": "python",
   "nbconvert_exporter": "python",
   "pygments_lexer": "ipython3",
   "version": "3.7.10"
  }
 },
 "nbformat": 4,
 "nbformat_minor": 4
}
