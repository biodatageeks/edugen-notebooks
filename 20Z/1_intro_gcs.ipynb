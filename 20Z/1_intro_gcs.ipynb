{
 "cells": [
  {
   "cell_type": "markdown",
   "metadata": {},
   "source": [
    "# Big data w genomice \n",
    "\n",
    "Zakres zajęć:\n",
    "* wprowadzenie do środowiska chmury obliczeniowej, omówienie architektury rozwiązań zbudowanych w oparciu o Apache Spark i Kubernetes\n",
    "* obiektowa pamięć masowa\n",
    "* zrównoleglony potok przetwarzania\n",
    "* dostęp/analiza/wizualizacja danych poprzez rozproszone operacje"
   ]
  },
  {
   "cell_type": "markdown",
   "metadata": {},
   "source": [
    "## Środowisko Google Kubernetes Engine"
   ]
  },
  {
   "cell_type": "markdown",
   "metadata": {},
   "source": [
    "## Kubernetes\n",
    "\n",
    "Kubernetes (k8s) to otwarta platforma do koordynacji wysoko dostępnego klastra. \n",
    "* Umożliwia  deklaratywną konfigurację, automatyzację wdrażania, skalowanie i autoskalowanie rozwiązań.\n",
    "* Pozwala uruchamiać aplikacje/narzędzie bez przypisywania ich do konkretnej maszyny. Aplikacje muszą być niezależne od konkretnego serwera: muszą być skonteneryzowane.\n",
    "* Możliwe do uruchomienia na prywatnym centrum danych, infrastrukturze hybrydowej lub chmurze publicznej.\n",
    "\n",
    "\n",
    "**Klaster Kubernetes**  \n",
    "* **Węzeł sterujący (Master node)** koordynuje działanie klastra np. zlecanie uruchomienia aplikacji, utrzymywanie pożądanego stanu aplikacji, skalowanie aplikacji i instalowanie nowych wersji\n",
    "* **Węzeł roboczy (Worker node)** Na węzłach uruchamiane są aplikacje. Na każdym węźle działa agent zarządzający tym węzłem i komunikujący się z masterem Kubernetes (API). Węzeł zawiera także narzędzia do obsługi kontenerów\n",
    "\n",
    "**Pod** to grupa jednego/wielu kontenerów wraz ze wspólnymi zasobami (np. dysk). Pod tworzy \"wirtualney serwer\" i może zawierać różne kontenery aplikacji współdzielące zasoby i kontekst wykonawczy na tym samym węźle.\n",
    "* Pod jest uruchamiany na węźle roboczym. Węzeł jest maszyną roboczą, fizyczną lub wirtualną, w zależności od klastra. \n",
    "* Węzeł może zawierać wiele podów. \n",
    "* Kubernetes master automatycznie zleca uruchomienie podów na różnych węzłach w ramach klastra. Automatyczne zlecanie uruchomienia bierze pod uwagę zasoby dostępne na każdym z węzłów."
   ]
  },
  {
   "cell_type": "markdown",
   "metadata": {},
   "source": [
    "![](gke.png)"
   ]
  },
  {
   "cell_type": "markdown",
   "metadata": {},
   "source": [
    "## Apache Spark na GKE\n",
    "\n",
    "* Apache Spark platforma ogólnego zastosowania, opensource, do przetwarzania duzych zbiorow danych.\n",
    "* Posiada  API dla języków programowania: Scala, Python i R. \n",
    "* Przetwarzanie w Spark przetwarzanie jest wykonywane w większości  wprost w pamięci operacyjnej.\n",
    "* Przeznaczenie: do uruchamiania  aplikacji i skryptów z wykorzystaniem uczenia maszynowego lub interaktywnych kwerend.\n",
    "* Spark ten wspiera SQL (typ DataFrames), przetwarzanie strumieniowe oraz przetwarzanie grafów.\n",
    "* Integracja z lokalną pamięci masową, rozproszonymi lub obiektowymi systemu plików.\n",
    "* Spark można uruchamić na pojedynczej maszynie na środowisku klastrowym, lub w chmurze. \n",
    "* **Spark jest rozszerzalny**. Z tej właściwości będziemy dzisiaj korzystać\n"
   ]
  },
  {
   "cell_type": "markdown",
   "metadata": {},
   "source": [
    "## Obiektowa pamięć masowa (Google Cloud Storage)\n",
    "\n",
    "**Projekt**\n",
    "* Wszystkie dane przynależą do konkretnego projektu.\n",
    "* Do projektu mogą mieć dostęp użytkownicy.\n",
    "* Projekt ma zdefiniowane metody uwierzytelniające, rozliczenia, monitorowanie etc.\n",
    "\n",
    "**Kubełek (bucket)** to kontener na pliki/obiekty.\n",
    "* Nazwa Bucketu musi być unikalna w skali całej usługi u wszystkich użytkowników (!)\n",
    "* Kubełków nie można zagnieżdzać\n",
    "* W kubełkach możemy tworzyć foldery i tam logicznie grupować pliki.\n",
    "* Kubełek wraz z zawartością może zostać udostępniony publicznie.\n",
    "* Kubełkowi nie można zmienić nazwy lub metadanych. Trzeba go usunąć i stworzyć ponownie. \n",
    "\n",
    "**Obiekt**\n",
    "* obiekty przechowywane w kubełkach\n",
    "* obiekty mają zawartość oraz metadane\n",
    "* obiekty są niemodyfikowalne\n",
    "\n",
    "Do operacji na Google Storage można wykorzystać narzędzie `gsutil`:\n",
    "\n",
    "Operacje na kubełkach\n",
    "* listowanie kubełków (buckets) - `ls`\n",
    "* tworzenie nowego kubełka - `mb`\n",
    "* usuwania kubełka - `rm`\n",
    "* listowanie zawartości kubełków - `ls`\n",
    "* udostępnianie - `iam`\n",
    "\n",
    "Operacje na obiektach\n",
    "* dodawania pliku do kubełka - `cp`\n",
    "* kopiowanie między kubełkami - `cp`\n",
    "* usuniecie z kubełka - `cp`\n",
    "* pobranie informacji o obiekcie - `stat`"
   ]
  },
  {
   "cell_type": "code",
   "execution_count": 1,
   "metadata": {},
   "outputs": [
    {
     "name": "stdout",
     "output_type": "stream",
     "text": [
      "gs://bucket-edugen22/\n",
      "gs://bucket-edugen33/\n",
      "gs://edugen-common-data2/\n",
      "gs://edugen-lab-matdaw2/\n",
      "gs://edugen-lab-tgambin2/\n",
      "gs://edugen-test100/\n"
     ]
    }
   ],
   "source": [
    "! gsutil ls | grep edugen"
   ]
  },
  {
   "cell_type": "code",
   "execution_count": 2,
   "metadata": {},
   "outputs": [
    {
     "name": "stdout",
     "output_type": "stream",
     "text": [
      "Creating gs://edugen-lab-tgambin2/...\n",
      "ServiceException: 409 Bucket edugen-lab-tgambin2 already exists.\n"
     ]
    }
   ],
   "source": [
    "! gsutil mb gs://edugen-lab-${USER}2  # stworzenie swojego bucketu"
   ]
  },
  {
   "cell_type": "code",
   "execution_count": 3,
   "metadata": {},
   "outputs": [
    {
     "name": "stdout",
     "output_type": "stream",
     "text": [
      "gs://edugen-lab-tgambin2/ :\n",
      "\tStorage class:\t\t\tSTANDARD\n",
      "\tLocation type:\t\t\tmulti-region\n",
      "\tLocation constraint:\t\tUS\n",
      "\tVersioning enabled:\t\tNone\n",
      "\tLogging configuration:\t\tNone\n",
      "\tWebsite configuration:\t\tNone\n",
      "\tCORS configuration: \t\tNone\n",
      "\tLifecycle configuration:\tNone\n",
      "\tRequester Pays enabled:\t\tNone\n",
      "\tLabels:\t\t\t\tNone\n",
      "\tDefault KMS key:\t\tNone\n",
      "\tTime created:\t\t\tThu, 12 May 2022 19:07:21 GMT\n",
      "\tTime updated:\t\t\tThu, 12 May 2022 19:07:21 GMT\n",
      "\tMetageneration:\t\t\t1\n",
      "\tBucket Policy Only enabled:\tFalse\n",
      "\tACL:\t\t\t\t\n",
      "\t  [\n",
      "\t    {\n",
      "\t      \"entity\": \"project-owners-9940977455\",\n",
      "\t      \"projectTeam\": {\n",
      "\t        \"projectNumber\": \"9940977455\",\n",
      "\t        \"team\": \"owners\"\n",
      "\t      },\n",
      "\t      \"role\": \"OWNER\"\n",
      "\t    },\n",
      "\t    {\n",
      "\t      \"entity\": \"project-editors-9940977455\",\n",
      "\t      \"projectTeam\": {\n",
      "\t        \"projectNumber\": \"9940977455\",\n",
      "\t        \"team\": \"editors\"\n",
      "\t      },\n",
      "\t      \"role\": \"OWNER\"\n",
      "\t    },\n",
      "\t    {\n",
      "\t      \"entity\": \"project-viewers-9940977455\",\n",
      "\t      \"projectTeam\": {\n",
      "\t        \"projectNumber\": \"9940977455\",\n",
      "\t        \"team\": \"viewers\"\n",
      "\t      },\n",
      "\t      \"role\": \"READER\"\n",
      "\t    }\n",
      "\t  ]\n",
      "\tDefault ACL:\t\t\t\n",
      "\t  [\n",
      "\t    {\n",
      "\t      \"entity\": \"project-owners-9940977455\",\n",
      "\t      \"projectTeam\": {\n",
      "\t        \"projectNumber\": \"9940977455\",\n",
      "\t        \"team\": \"owners\"\n",
      "\t      },\n",
      "\t      \"role\": \"OWNER\"\n",
      "\t    },\n",
      "\t    {\n",
      "\t      \"entity\": \"project-editors-9940977455\",\n",
      "\t      \"projectTeam\": {\n",
      "\t        \"projectNumber\": \"9940977455\",\n",
      "\t        \"team\": \"editors\"\n",
      "\t      },\n",
      "\t      \"role\": \"OWNER\"\n",
      "\t    },\n",
      "\t    {\n",
      "\t      \"entity\": \"project-viewers-9940977455\",\n",
      "\t      \"projectTeam\": {\n",
      "\t        \"projectNumber\": \"9940977455\",\n",
      "\t        \"team\": \"viewers\"\n",
      "\t      },\n",
      "\t      \"role\": \"READER\"\n",
      "\t    }\n",
      "\t  ]\n"
     ]
    }
   ],
   "source": [
    "! gsutil ls -L -b gs://edugen-lab-${USER}2 # listowanie zawartości"
   ]
  },
  {
   "cell_type": "code",
   "execution_count": 4,
   "metadata": {},
   "outputs": [
    {
     "name": "stdout",
     "output_type": "stream",
     "text": [
      "282162031    gs://edugen-lab-tgambin2\n"
     ]
    }
   ],
   "source": [
    "! gsutil du -s  gs://edugen-lab-${USER}2 # ile zajmuje przestrzeni?"
   ]
  },
  {
   "cell_type": "markdown",
   "metadata": {},
   "source": [
    "## Kopiowanie danych\n",
    "Dane do naszych zajęć są udostępnione w kubełku gs://edugen-common-data/ . Wylistujmy jego zawartość"
   ]
  },
  {
   "cell_type": "code",
   "execution_count": 5,
   "metadata": {},
   "outputs": [
    {
     "name": "stdout",
     "output_type": "stream",
     "text": [
      "gs://edugen-common-data2/mother.fastq\n",
      "gs://edugen-common-data2/mother.fq\n",
      "gs://edugen-common-data2/bam/:\n",
      "gs://edugen-common-data2/bam/mother.bam\n",
      "\n",
      "gs://edugen-common-data2/fastq/:\n",
      "gs://edugen-common-data2/fastq/father.fastq\n",
      "gs://edugen-common-data2/fastq/mother.fastq\n",
      "gs://edugen-common-data2/fastq/son.fastq\n",
      "\n",
      "gs://edugen-common-data2/ref/:\n",
      "gs://edugen-common-data2/ref/ref.dict\n",
      "gs://edugen-common-data2/ref/ref.fasta\n",
      "gs://edugen-common-data2/ref/ref.fasta.amb\n",
      "gs://edugen-common-data2/ref/ref.fasta.ann\n",
      "gs://edugen-common-data2/ref/ref.fasta.bwt\n",
      "gs://edugen-common-data2/ref/ref.fasta.fai\n",
      "gs://edugen-common-data2/ref/ref.fasta.pac\n",
      "gs://edugen-common-data2/ref/ref.fasta.sa\n"
     ]
    }
   ],
   "source": [
    "! gsutil ls -r gs://edugen-common-data2/"
   ]
  },
  {
   "cell_type": "code",
   "execution_count": 1,
   "metadata": {},
   "outputs": [
    {
     "name": "stdout",
     "output_type": "stream",
     "text": [
      "Copying gs://edugen-common-data2/fastq/father.fastq [Content-Type=application/octet-stream]...\n",
      "Copying gs://edugen-common-data2/fastq/mother.fastq [Content-Type=application/octet-stream]...\n",
      "Copying gs://edugen-common-data2/fastq/son.fastq [Content-Type=application/octet-stream]...\n",
      "- [3 files][ 79.0 MiB/ 79.0 MiB]                                                \n",
      "Operation completed over 3 objects/79.0 MiB.                                     \n",
      "Copying gs://edugen-common-data2/bam/mother.bam [Content-Type=application/octet-stream]...\n",
      "/ [1 files][ 23.8 MiB/ 23.8 MiB]                                                \n",
      "Operation completed over 1 objects/23.8 MiB.                                     \n",
      "Copying gs://edugen-common-data2/vcf/motherHC.vcf [Content-Type=text/vcard]...\n",
      "/ [1 files][ 90.8 KiB/ 90.8 KiB]                                                \n",
      "Operation completed over 1 objects/90.8 KiB.                                     \n"
     ]
    }
   ],
   "source": [
    "! gsutil cp gs://edugen-common-data2/fastq/* gs://edugen-lab-${USER}2/fastq/  # kopiowanie danych między kubełkami do kubełka\n",
    "! gsutil cp gs://edugen-common-data2/bam/* gs://edugen-lab-${USER}2/bam/  # kopiowanie danych między kubełkami do kubełka\n",
    "! gsutil cp gs://edugen-common-data2/vcf/* gs://edugen-lab-${USER}2/vcf/  # kopiowanie danych między kubełkami do kubełka"
   ]
  },
  {
   "cell_type": "markdown",
   "metadata": {},
   "source": [
    "---\n",
    "`Jaka operacja narzędzia gsutil służy do kopiowania danych z lokalnego systemu plików` ? \n"
   ]
  },
  {
   "cell_type": "code",
   "execution_count": 7,
   "metadata": {},
   "outputs": [
    {
     "name": "stdout",
     "output_type": "stream",
     "text": [
      "gs://edugen-lab-tgambin2/bam/:\n",
      "gs://edugen-lab-tgambin2/bam/mother.bam\n",
      "\n",
      "gs://edugen-lab-tgambin2/fastq/:\n",
      "gs://edugen-lab-tgambin2/fastq/\n",
      "gs://edugen-lab-tgambin2/fastq/father.fastq\n",
      "gs://edugen-lab-tgambin2/fastq/mother.fastq\n",
      "gs://edugen-lab-tgambin2/fastq/son.fastq\n",
      "\n",
      "gs://edugen-lab-tgambin2/ref/:\n",
      "gs://edugen-lab-tgambin2/ref/ref.dict\n",
      "gs://edugen-lab-tgambin2/ref/ref.fasta\n",
      "gs://edugen-lab-tgambin2/ref/ref.fasta.amb\n",
      "gs://edugen-lab-tgambin2/ref/ref.fasta.ann\n",
      "gs://edugen-lab-tgambin2/ref/ref.fasta.bwt\n",
      "gs://edugen-lab-tgambin2/ref/ref.fasta.fai\n",
      "gs://edugen-lab-tgambin2/ref/ref.fasta.pac\n",
      "gs://edugen-lab-tgambin2/ref/ref.fasta.sa\n"
     ]
    }
   ],
   "source": [
    "! gsutil ls -r gs://edugen-lab-${USER}2/ # listowanie zawartosci kubełka"
   ]
  },
  {
   "cell_type": "markdown",
   "metadata": {},
   "source": [
    "<div class=\"alert alert-block alert-warning\">\n",
    "<b>Zadanie 1_1:</b> Stwórz na swoim kubełku katalog fastq_backup z zwartością identyczną jak katalog fastq. Sprawdź czy dane się skopiowały.\n",
    "</div>\n"
   ]
  },
  {
   "cell_type": "code",
   "execution_count": null,
   "metadata": {},
   "outputs": [],
   "source": []
  }
 ],
 "metadata": {
  "kernelspec": {
   "display_name": "edugen",
   "language": "python",
   "name": "edugen"
  },
  "language_info": {
   "codemirror_mode": {
    "name": "ipython",
    "version": 3
   },
   "file_extension": ".py",
   "mimetype": "text/x-python",
   "name": "python",
   "nbconvert_exporter": "python",
   "pygments_lexer": "ipython3",
   "version": "3.7.10"
  }
 },
 "nbformat": 4,
 "nbformat_minor": 4
}
