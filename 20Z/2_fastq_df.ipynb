{
 "cells": [
  {
   "cell_type": "markdown",
   "metadata": {},
   "source": [
    "## Przygotowanie sesji Spark\n",
    "Zainicjowanie sesji Spark oraz stworzenie schematu bazy danych z której będziemy korzystać."
   ]
  },
  {
   "cell_type": "code",
   "execution_count": 1,
   "metadata": {},
   "outputs": [
    {
     "name": "stdout",
     "output_type": "stream",
     "text": [
      "env: PYSPARK_SUBMIT_ARGS=--master local[*]  --jars /tmp/gcs-connector-hadoop2-1.9.17-shaded.jar,/tmp/google-cloud-nio-0.120.0-alpha-shaded.jar --conf spark.driver.port=29010 --conf spark.blockManager.port=29011  --conf spark.driver.host=jupyter-service- --conf spark.executorEnv.PYSPARK_PYTHON=python3 --packages org.biodatageeks:sequila_2.11:0.5.20,io.projectglow:glow-spark2_2.11:0.6.0,org.biodatageeks:seqtender_2.11:0.3.7 pyspark-shell\n"
     ]
    }
   ],
   "source": [
    "%env PYSPARK_SUBMIT_ARGS=--master local[*]  --jars /tmp/gcs-connector-hadoop2-1.9.17-shaded.jar,/tmp/google-cloud-nio-0.120.0-alpha-shaded.jar --conf spark.driver.port=29010 --conf spark.blockManager.port=29011  --conf spark.driver.host=jupyter-service- --conf spark.executorEnv.PYSPARK_PYTHON=python3 --packages org.biodatageeks:sequila_2.11:0.5.20,io.projectglow:glow-spark2_2.11:0.6.0,org.biodatageeks:seqtender_2.11:0.3.7 pyspark-shell\n"
   ]
  },
  {
   "cell_type": "code",
   "execution_count": 2,
   "metadata": {},
   "outputs": [],
   "source": [
    "from pyspark.sql import SparkSession\n",
    "spark = SparkSession \\\n",
    ".builder \\\n",
    ".master(\"local[2]\") \\\n",
    ".config(\"spark.driver.host\", \"localhost\") \\\n",
    ".config('spark.driver.memory','1g') \\\n",
    ".config('spark.executor.memory', '2g') \\\n",
    ".getOrCreate()"
   ]
  },
  {
   "cell_type": "markdown",
   "metadata": {},
   "source": [
    "Pobranie sesji Spark jest proste dla programisty korzystającego z notatnika, wymaga podania tylko kilku parametrów, ale faktyczna konfiguracja jest bardziej rozbudowana"
   ]
  },
  {
   "cell_type": "code",
   "execution_count": 3,
   "metadata": {},
   "outputs": [
    {
     "name": "stdout",
     "output_type": "stream",
     "text": [
      "--master local[*]\n",
      "--jars /tmp/gcs-connector-hadoop2-1.9.17-shaded.jar,/tmp/google-cloud-nio-0.120.0-alpha-shaded.jar --conf spark.driver.port=29010 --conf spark.blockManager.port=29011\n",
      "--conf spark.driver.host=jupyter-service- --conf spark.executorEnv.PYSPARK_PYTHON=python3 --packages org.biodatageeks:sequila_2.11:0.5.20,io.projectglow:glow-spark2_2.11:0.6.0,org.biodatageeks:seqtender_2.11:0.3.7 pyspark-shell\n"
     ]
    }
   ],
   "source": [
    "import os\n",
    "args = os.environ['PYSPARK_SUBMIT_ARGS'].replace(\"  \", \"\\n\")\n",
    "print(args)"
   ]
  },
  {
   "cell_type": "markdown",
   "metadata": {},
   "source": [
    "Mamy pobraną sesję sparkową. Powstały dodatkowe pody gotowe na realizację obliczeń. A jak zwolnić te zasoby?"
   ]
  },
  {
   "cell_type": "code",
   "execution_count": null,
   "metadata": {},
   "outputs": [],
   "source": [
    "spark.stop()"
   ]
  },
  {
   "cell_type": "markdown",
   "metadata": {},
   "source": [
    "Ponownie pobieramy sesję Spark. Będziemy z niej korzystać. Po zakończonej pracy należy pamiętać o zastopowaniu sesji."
   ]
  },
  {
   "cell_type": "code",
   "execution_count": null,
   "metadata": {},
   "outputs": [],
   "source": [
    "from pyspark.sql import SparkSession\n",
    "spark = SparkSession \\\n",
    ".builder \\\n",
    ".config('spark.driver.memory','1g') \\\n",
    ".config('spark.executor.memory', '2g') \\\n",
    ".getOrCreate()"
   ]
  },
  {
   "cell_type": "markdown",
   "metadata": {},
   "source": [
    "## Odczyt danych\n",
    "Korzystając z sesji Spark można odczytać dane zapisane w lokalizacji dostępnej dla executorów (procesów obliczeniowych) koordynowanych przez Spark. \n",
    "Konieczne jest podanie ścieżki dostępowej do pliku i formatu danych (nie jest to jednoznazne z rozszerzeniem pliku).\n",
    "Dystrybucja Spark udostępnia kilka tzw Data Sources, które odczytują i zapisują dane w określonych formatach (CSV, formaty kolumnowe: parquet/orc).\n",
    "Data Sources zgodne z opracowanym interfejsem można samodzielnie tworzyć. Na dzisiejszych zajęciach będziemy korzystać z takich zdefiniowanych DS:\n",
    "* FASTQDataSource\n",
    "* BAMDataSource\n",
    "* VCFDataSource\n",
    "\n",
    "**UWAGA - powyższe sposoby odczytu plików nie są częścią głównej dystrybucji Spark. Wymagana jest dodatkowa konfiguracja.**"
   ]
  },
  {
   "cell_type": "code",
   "execution_count": 4,
   "metadata": {},
   "outputs": [
    {
     "name": "stdout",
     "output_type": "stream",
     "text": [
      "gs://edugen-common-data2\n"
     ]
    }
   ],
   "source": [
    "import os                               # moduł OS języka Python\n",
    "user_name = os.environ.get('USER')      # pobieramy zmienną środowiskową USER\n",
    "bucket = f\"gs://edugen-common-data2\" # konstruujemy sciezke dostepowa do pliku\n",
    "print(bucket)"
   ]
  },
  {
   "cell_type": "code",
   "execution_count": 5,
   "metadata": {},
   "outputs": [
    {
     "name": "stdout",
     "output_type": "stream",
     "text": [
      "gs://edugen-common-data2/mother.fastq\n",
      "gs://edugen-common-data2/mother.fq\n",
      "gs://edugen-common-data2/anno/\n",
      "gs://edugen-common-data2/bam/\n",
      "gs://edugen-common-data2/fastq/\n",
      "gs://edugen-common-data2/ref/\n",
      "gs://edugen-common-data2/vcf/\n"
     ]
    }
   ],
   "source": [
    "!gsutil ls gs://edugen-common-data2"
   ]
  },
  {
   "cell_type": "code",
   "execution_count": 15,
   "metadata": {},
   "outputs": [],
   "source": [
    "! mkdir -p  data/fastq/"
   ]
  },
  {
   "cell_type": "code",
   "execution_count": 16,
   "metadata": {},
   "outputs": [
    {
     "name": "stdout",
     "output_type": "stream",
     "text": [
      "Copying gs://edugen-common-data2/fastq/father.fastq...\n",
      "Copying gs://edugen-common-data2/fastq/mother.fastq...                          \n",
      "Copying gs://edugen-common-data2/fastq/son.fastq...                             \n",
      "/ [3 files][ 79.0 MiB/ 79.0 MiB]    1.2 MiB/s                                   \n",
      "Operation completed over 3 objects/79.0 MiB.                                     \n"
     ]
    }
   ],
   "source": [
    "!gsutil cp gs://edugen-common-data2/fastq/* data/fastq/"
   ]
  },
  {
   "cell_type": "markdown",
   "metadata": {},
   "source": [
    "---\n",
    "\n",
    "`Co oznacza f przed cudzysłowem?`\n",
    "\n",
    "`Czy jest różnica między stosowaniem apostrofu i cudzysłowu przy definicji zmiennych przechowywujących łańcuchy znaków?`"
   ]
  },
  {
   "cell_type": "code",
   "execution_count": 19,
   "metadata": {},
   "outputs": [],
   "source": [
    "reads_path = f\"data/fastq/*\"  # * oznacza wszystkie pliki we wskazanej lokalizacji. Można podać konkretny plik\n",
    "fastq_all = spark.read.load(reads_path, format=\"org.biodatageeks.sequila.datasources.FASTQ.FASTQDataSource\")\n",
    "fastq_all = fastq_all.select(\"sample_id\",\"seq\", \"qual\")"
   ]
  },
  {
   "cell_type": "markdown",
   "metadata": {},
   "source": [
    "### Weryfikacja danych"
   ]
  },
  {
   "cell_type": "code",
   "execution_count": 20,
   "metadata": {},
   "outputs": [
    {
     "data": {
      "text/plain": [
       "pyspark.sql.dataframe.DataFrame"
      ]
     },
     "execution_count": 20,
     "metadata": {},
     "output_type": "execute_result"
    }
   ],
   "source": [
    "type(fastq_all)      # jaki jest typ danych utworzonej zmiennej? "
   ]
  },
  {
   "cell_type": "code",
   "execution_count": 21,
   "metadata": {},
   "outputs": [
    {
     "name": "stdout",
     "output_type": "stream",
     "text": [
      "root\n",
      " |-- sample_id: string (nullable = true)\n",
      " |-- seq: string (nullable = true)\n",
      " |-- qual: string (nullable = true)\n",
      "\n"
     ]
    }
   ],
   "source": [
    "fastq_all.printSchema() # jaki jest schemat danych?"
   ]
  },
  {
   "cell_type": "code",
   "execution_count": 22,
   "metadata": {},
   "outputs": [
    {
     "data": {
      "text/plain": [
       "3"
      ]
     },
     "execution_count": 22,
     "metadata": {},
     "output_type": "execute_result"
    }
   ],
   "source": [
    "len(fastq_all.columns)           # wymiary (liczba kolumn)"
   ]
  },
  {
   "cell_type": "code",
   "execution_count": 23,
   "metadata": {},
   "outputs": [
    {
     "data": {
      "text/plain": [
       "241114"
      ]
     },
     "execution_count": 23,
     "metadata": {},
     "output_type": "execute_result"
    }
   ],
   "source": [
    "fastq_all.count()               # wymiary (liczba wierszy)"
   ]
  },
  {
   "cell_type": "code",
   "execution_count": 24,
   "metadata": {},
   "outputs": [
    {
     "name": "stdout",
     "output_type": "stream",
     "text": [
      "== Parsed Logical Plan ==\n",
      "'Project [unresolvedalias('sample_id, None), unresolvedalias('seq, None), unresolvedalias('qual, None)]\n",
      "+- Relation[sample_id#89,instrument_name#90,run_id#91,flowcell_id#92,lane#93,tile#94,pos_x#95,pos_y#96,filter_passed#97,control_num#98,index_seq#99,seq#100,qual#101] org.biodatageeks.sequila.datasources.FASTQ.SequencedFragmentRelation@16731808\n",
      "\n",
      "== Analyzed Logical Plan ==\n",
      "sample_id: string, seq: string, qual: string\n",
      "Project [sample_id#89, seq#100, qual#101]\n",
      "+- Relation[sample_id#89,instrument_name#90,run_id#91,flowcell_id#92,lane#93,tile#94,pos_x#95,pos_y#96,filter_passed#97,control_num#98,index_seq#99,seq#100,qual#101] org.biodatageeks.sequila.datasources.FASTQ.SequencedFragmentRelation@16731808\n",
      "\n",
      "== Optimized Logical Plan ==\n",
      "Project [sample_id#89, seq#100, qual#101]\n",
      "+- Relation[sample_id#89,instrument_name#90,run_id#91,flowcell_id#92,lane#93,tile#94,pos_x#95,pos_y#96,filter_passed#97,control_num#98,index_seq#99,seq#100,qual#101] org.biodatageeks.sequila.datasources.FASTQ.SequencedFragmentRelation@16731808\n",
      "\n",
      "== Physical Plan ==\n",
      "*(1) Scan org.biodatageeks.sequila.datasources.FASTQ.SequencedFragmentRelation@16731808 [sample_id#89,seq#100,qual#101] PushedFilters: [], ReadSchema: struct<sample_id:string,seq:string,qual:string>\n"
     ]
    }
   ],
   "source": [
    "fastq_all.explain(True)              #  plan wykonania"
   ]
  },
  {
   "cell_type": "markdown",
   "metadata": {},
   "source": [
    "DataFrame jest abstrakcją nad innym typem danych (RDD), który jest podstawową rozproszoną strukturą danych. Poprzez DF możemy dostać się do rdd i zweryfikować na przykład liczbę partycji danych."
   ]
  },
  {
   "cell_type": "code",
   "execution_count": 25,
   "metadata": {},
   "outputs": [
    {
     "data": {
      "text/plain": [
       "4"
      ]
     },
     "execution_count": 25,
     "metadata": {},
     "output_type": "execute_result"
    }
   ],
   "source": [
    "fastq_all.rdd.getNumPartitions() # liczba partycji (bloków danych)"
   ]
  },
  {
   "cell_type": "markdown",
   "metadata": {},
   "source": [
    "### Podgląd danych"
   ]
  },
  {
   "cell_type": "code",
   "execution_count": 26,
   "metadata": {},
   "outputs": [
    {
     "name": "stdout",
     "output_type": "stream",
     "text": [
      "+---------+--------------------+--------------------+\n",
      "|sample_id|                 seq|                qual|\n",
      "+---------+--------------------+--------------------+\n",
      "|   father|TTTGAGTGAGTTTATTA...|=<<:=@=>>=<=<>>=>...|\n",
      "|   father|ACTGTCAATATTAGACA...|;9<;<>9<=<=<=><<>...|\n",
      "|   father|CCTCCCATTTTACTTTT...|==>=???>===>=?===...|\n",
      "|   father|ATTAATTAGATTTCAGT...|:;:<=><=><=;<;>>;...|\n",
      "|   father|GTAGGCAAAGCCTCACA...|=<==>>?>>?=>?>?=>...|\n",
      "|   father|TCTATTCAAAATATTTG...|/9<9=:,<44,,::;<;...|\n",
      "|   father|ATGTGGTTTGCAAATAT...|==:<>?>==><?>=>>>...|\n",
      "|   father|ATGCGGAACTGATGAGT...|:;7<65-=9>9,;4;2;...|\n",
      "|   father|CTATGAAACAATAGTCT...|=>==>>=>=:>>:=>=?...|\n",
      "|   father|GTGAGAAACTGGCTCAT...|;::<=;<<<>;==><>=...|\n",
      "|   father|TGGGAGTTAAATAGCAA...|=<<<?@>=>>>>>?>?>...|\n",
      "|   father|TATTACATTTCAACGTG...|;;;;==>=<<=>=<7==...|\n",
      "|   father|GCCTTTGCTAAATATGA...|==0>>=;>38;11=1<:...|\n",
      "|   father|GTTACCAAATTTAGGGT...|;159,,3---1:<;;1-...|\n",
      "|   father|AAGGACAGAAGCAATAA...|===70<>.>==>>=>>=...|\n",
      "|   father|CAGGTGATCTCATAATT...|/<;9<03<76<=81<<5...|\n",
      "|   father|TGAAGTTGGGGTGCACC...|=<<=?==>->>=>=?:>...|\n",
      "|   father|ACATATTACGCGGAATC...|;7/<8;,,;%)3(,8<=...|\n",
      "|   father|TATTACTATTTCTGTAT...|===<?>?>>==>?>>>>...|\n",
      "|   father|AGTTACTTCTCTGGCCA...|;-8;<8/0=/+=;:=<=...|\n",
      "+---------+--------------------+--------------------+\n",
      "only showing top 20 rows\n",
      "\n"
     ]
    }
   ],
   "source": [
    "fastq_all.show()"
   ]
  },
  {
   "cell_type": "code",
   "execution_count": 27,
   "metadata": {},
   "outputs": [
    {
     "name": "stdout",
     "output_type": "stream",
     "text": [
      "+---------+--------------------+--------------------+\n",
      "|sample_id|                 seq|                qual|\n",
      "+---------+--------------------+--------------------+\n",
      "|   father|TTTGAGTGAGTTTATTA...|=<<:=@=>>=<=<>>=>...|\n",
      "|   father|ACTGTCAATATTAGACA...|;9<;<>9<=<=<=><<>...|\n",
      "|   father|CCTCCCATTTTACTTTT...|==>=???>===>=?===...|\n",
      "|   father|ATTAATTAGATTTCAGT...|:;:<=><=><=;<;>>;...|\n",
      "|   father|GTAGGCAAAGCCTCACA...|=<==>>?>>?=>?>?=>...|\n",
      "+---------+--------------------+--------------------+\n",
      "only showing top 5 rows\n",
      "\n"
     ]
    }
   ],
   "source": [
    "fastq_all.show(5)  # pierwsze 5 wierszy"
   ]
  },
  {
   "cell_type": "code",
   "execution_count": 28,
   "metadata": {},
   "outputs": [
    {
     "name": "stdout",
     "output_type": "stream",
     "text": [
      "+---------+-------------------------------------------------------------------------------------------------------------------------------------------------------+-------------------------------------------------------------------------------------------------------------------------------------------------------+\n",
      "|sample_id|seq                                                                                                                                                    |qual                                                                                                                                                   |\n",
      "+---------+-------------------------------------------------------------------------------------------------------------------------------------------------------+-------------------------------------------------------------------------------------------------------------------------------------------------------+\n",
      "|father   |TTTGAGTGAGTTTATTAATCCTGAGTTCTAATTTGATTGCACTGTGGTCTGAGAGACAGTTTGTTGTGATTTCTGTTCTTTTACATTTGCTGAGGAGTGTTTTACTGCCAACTATGTGGTCAGTTTTAGAATGAGTGCGATGTGGTGCTGA|=<<:=@=>>=<=<>>=>>>>===;>;<<>7==<<===<=<><>=8==>>?>>>>?>=>?4<;<=<=<=<:<<=>:><>?:<==<?>==>><;==>>?>>>>>=?=/?>>@<=@?<?>?1<>>@<>?<@@?=@@?A@@@:-?;A@@@+;=;<|\n",
      "|father   |ACTGTCAATATTAGACAGATCAATGAGACAGAAGGTTAATAAGGATATCCAGGACTTGAACTCAGCTCTGGACCAAGCAGACCTAATAGACATCTACAGAACTCACCAACCCACAACAAGATAATATACATTCTTCTCAGCACCACATCGC|;9<;<>9<=<=<=><<>>7<<99:=8>8<;>>=?=<<>>>>>?>>>>><>??>;=?=>>>9?>??:?><>>>;?>>?>???9?@?>=9@8;=>,>?<>7??;/?5*<--*@==).-6--3<,?<9@@@?A@?8@>=??B@>B;=>??:;4;|\n",
      "|father   |CCTCCCATTTTACTTTTTTTCAGGGAATAGCAGGCTACCAGTTTGGCCCCTTTGCATTTTTCCATTCCCCTGAAAGAAGTAATTGGTTCAGGCAGAAGATGTGATACAAGGGGGTCCAATGAAAATCAGTCTCAAGACTGGCTGAAACTAT|==>=???>===>=?=======>>;<>><=>=>>==><<=:>=9<<==>>9?;<;>>><<<<<<>;<>==:;=<:;?9>?>;>=7>>>=><?;>??>;?<<?:8?>?;?>@;>??6?>@?=??>?>@,=@?@?@A9A92?@@A<@76:<<:<|\n",
      "|father   |ATTAATTAGATTTCAGTCTTTTTCACTCTATGAATAATCTCTTTTCCTCTATGTTGCCTTAATTTACAAGCAGATTTTCTCCATGTGGTGGCACAATGCATGCTGTATTCTCCAGATAGTCATGTTTTCTCCTAAATAACTGCAGCAGAAA|:;:<=><=><=;<;>>;=>;;<<6-)=,>9=:-==>>;>?<>;<:,,?<?>><:=>>,:;,;==4>=?>?>-@;7;=4>?==:<==2(?17).*@9-)*.-2*@*.88,,;,,-*5-+*.84=;=????A89;?:>@->*A?@A@?<>;<;|\n",
      "|father   |GTAGGCAAAGCCTCACATTTGAGTTTTTTTTGACATAATGGAGCCTAGAAGTCACTCAGGTTCCTTGGGTCTCAGTTGTAAAATCAGAATAGTATGAACTGCCCTCACAAGCCGTAAAAGAAGTATGCATAACAATGACATACTGTGATTA|=<==>>?>>?=>?>?=><==>==:<==<<<<==<>====<==>=<<=?>>?>=?=?<>?=:;9=><>====<==>2<>>>;>=:>??>>>>?>>>>9>:?<2>,??@=?=?5?9>=>=?@?-3.,-1*=,@=:6->=@?A@?#########|\n",
      "|father   |TCTATTCAAAATATTTGCGCCAGTAGTTCTGATATGACCCAAGCAGAGTTCACACATTATTAATCTACTCCTTTCAGTCTTCTAGATGTGTTTCCTCCAAAATCTACTAGATTTGTAGAGATTTTCAGGAACTTTCTCTAGAACTAGATTT|/9<9=:,<44,,::;<;12;+4;-<<4,7.*>>>=>;:8,<>*:9?>?>;,>=<;.,;><=:>>9?+8?==.>>?==;<?<=?>@985.69+7?=>>8@99?94?@:.83@83+*.,)5*5,<:,,A7>??*884=@##############|\n",
      "|father   |ATGTGGTTTGCAAATATTTTCTTCTAGTTTGTACCTTGTCTTTTTATCTCCTTAATAGGTTCTTTCACAGAGCAAAATTTTCTAACTTTGGTGGAGTTCACTTTTTCAATTTTTCTTTTTATGAATCACATTTTTGGTGTCTAACGATACT|==:<>?>==><?>=>>>===>><=>>?=;<==<<=><==<><<<;==>?>>=8>>>>>>=<<=<<=?<>>:>=>=<:<==<>>=>=?==>5>>><=:=>?>@9>=>??>?==6>>@=>>>?????@?A<@@7??;*==2>9@=########|\n",
      "|father   |ATGCGGAACTGATGAGTCTATTAAACCTCTTTTTTCTTTATAAATCACCCAGTCTTGGGTATTTTTTCATAGCAGTATGAAAATAGGATACTACAACTTGTAAACCTGACATATTTTTTGTGAAAAAAAAACACAAGAAACATTTTTTGGT|:;7<65-=9>9,;4;2;=>+:<=3=0<><<<;==<3?;<;>;;;>>>8>;?;9+?;;<>;>>=+=:<>2->:)>:->+6:??>-,>),??69;<.<>=,==?5?*,/)-*A4,7;<2+,*.)-;>>@==?=*.:B95.@############|\n",
      "|father   |CTATGAAACAATAGTCTTGGTGCCAACAGCCTCTAATCAAAACTTCTCAGTGATTTATCTGCTCTGTTGGACTGGCTTGATAAAGCAGCCACCACACCGATGTTCACACGATGCCACTCCAGAATTCAATTTGCTGGGGACTGCCAATTGG|=>==>>=>=:>>:=>=?=><>===><=>>==>=>====><==<>;==>=<<>;<==>=>>=<==>=><===<===>;=>;=>:=?>??>>?:>9=<=>8<??>>>@>?;9<;?=>@==??@@<?>??A?,=?;??@@=@9?BA>?:?<8;<|\n",
      "|father   |GTGAGAAACTGGCTCATTATTTTCCAGCAGTTACTCAGCCAATTGGCAGTCCCCAGCAAATTGAATTCTGGAGTGGCATCGTGTGAACATCGGTATGGTGGCTGATGAATAAAAGGGGACAGACAGAGCAGATAAATCACTGAGAAGTTTT|;::<=;<<<>;==><>=<=<;<<=7<>=>>====>><?>>?-><>>>=?>>>=;==<=::>=<49<<>?<0;@<?;>,<>9<?=:??4?<=+=.,-=:.2)?7?>-*8--,->,*))(-*.)-<AA=A?@A@A?A@=@7>AA;A:.?7:9<|\n",
      "|father   |TGGGAGTTAAATAGCAAAAAGTGCTGGGGAACCACAGTTAACTGGAGACCATTTGCCCAGTCTAAAGACATTCACATTCAGAAATTTAACAAATACCTTGTGAAGACCAAACAAAATTTATCTGTAGGTAGAATGAAGCCTATAGCCATTT|=<<<?@>=>>>>>?>?>>>>?===>>>====<=><>>=<<=<>=<=>>=>?<<=>>>=?>=<====?=<>=<=><?==>?>>=:>==>>=?>>>>=>?=;??>???>>??<=@?>?>>>???@??@@@??A@@@@@@A@@?A?;A@>=<;;|\n",
      "|father   |TATTACATTTCAACGTGAGATTTGGAGGGGACAAACATCCAAACTATATCATGACCCTTCCATCTACCACCTTTTCTACCATCACCAGCACCAGTACCCTGATCCCATACGCTATAACGCTGGATTTTTTCCCCACCGCCACGATACTTTG|;;;;==>=<<=>=<7===><<<<===<=====?>==?>>>?>>=?>>>>>?><==>>?=>>?>>?<=<?=>?>>>>?>=<@??;<?@)?@>4.@9;<=5?=?-4>,.4,*0=/29,=)%7?))89?,,7,=,AAB??&=;?>&>:=8>:##|\n",
      "|father   |GCCTTTGCTAAATATGAAAGAGCTAAAGAAGTAAAGAGGTTCCAACCATAGCATCCTCTTTTAACCGTAACGATAAGAGGTTTTATAATGTCTCGTTGATGTGTTTGTTTTAGCTCTTATAGGTTTTAACCATAGCTGTAAGGGCAGCAGT|==0>>=;>38;11=1<::==;>;=.->;==<:9,*5,83,+::6+6=8-+7*--9=5;;:+*3,<+6=,:($,<;>>-<(85*31,>->*-+:,$8+0,,?-):+:)-,<=+=:588167,@6.=71,>4@####################|\n",
      "|father   |GTTACCAAATTTAGGGTTAGCTTGTTACATGGCAATTGTTCATGGAGAAACTTTCAGAGCTAGAATGCGTCGAGTCAATTACTTTGGCTTCACTTGCTCTTTCAGACAGAGGGCACCTTTTTCAGGGAATCTCCCGTGCCCAAGAACGCAC|;159,,3---1:<;;1-51;###################################################################################################################################|\n",
      "|father   |AAGGACAGAAGCAATAAGATTCTTAGCCAGAAAGAAGCGATCCTTGGGCCAAATGCAGTGCTGCCCCCAGTGGTCTGGATAGCAATGCTCTGTGAGACCAGCAGCTTTCAGTCTTGGGAAGAACTCAAATCTCCATCAGATAAAAATGTCT|===70<>.>==>>=>>=90=0=>:=<=8>:<6=>9=9;796::;2:=>;9=;92>><;<;=:<7+6,:877==;5<9>;>=<=>7,97<3<>><<?>7+;@)==>=:5=>?-=/+?4?;,>8<*?>99>,8;,:.5>?>???:-?######|\n",
      "|father   |CAGGTGATCTCATAATTCCTCTTTCTATGAGGTAGCGTCTAGAGCAGAGTCTATTTCCACACTCCTTGGATCTGGGGTTGGTCACTTGAATTGAGTTAGCATATATTGAATCTAAAAGAAGATTTTAGTTATCTATCATCTGTCTATACGT|/<;9<03<76<=81<<56=9+=+:<>+8;:;>.86*6-76<7>:<:6<<.</;##################################################################################################|\n",
      "|father   |TGAAGTTGGGGTGCACCTGGCATCTTCAAGGAAAAGGGAGAAGGCCAGTACTTCTGGAGCAGAGGGAACAGCCGGGAGAATGGAAGGCAAGGAGGTTGTCTATATCCCTCGCCCAATCCTGGAGGGTCTGTTATCTTTGGTAATGACACTG|=<<=?==>->>=>=?:>=>>====>==>=>=:<;7>==9=9:>=<=>?>9=?<>?>;,?<<=9>==<=<>>=<5=>=?-9=>=:>?><;;?(4:;.+04>@+,,9,++/;$88,=?9=?.=<-@)=.87)6,>5<?7;;############|\n",
      "|father   |ACATATTACGCGGAATCGCAGCTCTTAAAGTGTCAGTGGGAAGCTTCTCGTGTCACTGGTCCATACCAGTTTGCTATCAGATGAGGAAATGGCTGCCCGTCCTTCATACAGCAGCCAGGTCCACATTCAGGGAACCTAAGTCAGTGCATAC|;7/<8;,,;%)3(,8<=*<=:=>696+-8).:<>=*.)();967=;,:<85*53.*=>6;<>5<*=;.)9<;56=+9>=<5<??@=8<>3*;?><8?=79<?;+>?939.>=:54,.)).,+9<.97@:8@<??=@@-@@.@#########|\n",
      "|father   |TATTACTATTTCTGTATTGAGATTTACATTTTCCTAGAAAGGTTGAAGTCTTTCTGAATCAATGGCATGATCTGCAGCTGTTTAATCACTAACTCCTAAGGATACTTTTTTTTGGTACTTCTCAGACCCAACCCTTCTTTGTACTTGACTA|===<?>?>>==>?>>>>=>=?<=;<>=>=<<<==><>9=<>==<<==?<>?=<>?>>=>=:<<===:==8====;?8>=>==97>9>?==>>=?>>?><?<?<?6>>=<>==>?>?>;@>?=?>@>8>?>9:>:7,5?=?><99A3+<###|\n",
      "|father   |AGTTACTTCTCTGGCCAGTTATGCTCAGACCAGCTGCTGTGCGTTTTTTAGGATGCCAAAACAGGGAAGCAAAGGAATTAGAAGATCATCTAGGTTTACTACATAAGAAACTTTTGCTGTAGTCAAAATTATTTTTATAATAGAAGGCGAG|;-8;<8/0=/+=;:=<=<78<=099=>=844?==>7=:14;;/8;;6=687;<:<;7:<<98>;>(7-;:<;7@<><<;+@?>;?9,=<?;972.;7=>;>;.4,-*,--*/3+,6*.*.8)?;>>9@@,89<@>3,6=<9@+;:?9+5<6|\n",
      "+---------+-------------------------------------------------------------------------------------------------------------------------------------------------------+-------------------------------------------------------------------------------------------------------------------------------------------------------+\n",
      "only showing top 20 rows\n",
      "\n"
     ]
    }
   ],
   "source": [
    "fastq_all.show(truncate=False) # bez skracania zawartości kolumn"
   ]
  },
  {
   "cell_type": "markdown",
   "metadata": {},
   "source": [
    "Widok \"szerokich\" tabel jest nieczytelny, w kolejnych częściach warsztatów zaradzimy temu korzystając z dodatkowej biblioteki."
   ]
  },
  {
   "cell_type": "markdown",
   "metadata": {},
   "source": [
    "## Dostęp do wybranych danych"
   ]
  },
  {
   "cell_type": "markdown",
   "metadata": {},
   "source": [
    "#### Operacja projekcji (SELECT)"
   ]
  },
  {
   "cell_type": "code",
   "execution_count": 29,
   "metadata": {},
   "outputs": [
    {
     "name": "stdout",
     "output_type": "stream",
     "text": [
      "+---------+\n",
      "|sample_id|\n",
      "+---------+\n",
      "|   father|\n",
      "|   father|\n",
      "|   father|\n",
      "|   father|\n",
      "|   father|\n",
      "|   father|\n",
      "|   father|\n",
      "|   father|\n",
      "|   father|\n",
      "|   father|\n",
      "|   father|\n",
      "|   father|\n",
      "|   father|\n",
      "|   father|\n",
      "|   father|\n",
      "|   father|\n",
      "|   father|\n",
      "|   father|\n",
      "|   father|\n",
      "|   father|\n",
      "+---------+\n",
      "only showing top 20 rows\n",
      "\n"
     ]
    }
   ],
   "source": [
    "fastq_all.select(\"sample_id\").show()"
   ]
  },
  {
   "cell_type": "markdown",
   "metadata": {},
   "source": [
    "`Czy operacja select (sample_id) wpłynęła na oryginalny data frame fastq_all?`"
   ]
  },
  {
   "cell_type": "code",
   "execution_count": 30,
   "metadata": {},
   "outputs": [
    {
     "name": "stdout",
     "output_type": "stream",
     "text": [
      "root\n",
      " |-- sample_id: string (nullable = true)\n",
      " |-- seq: string (nullable = true)\n",
      " |-- qual: string (nullable = true)\n",
      "\n",
      "+---------+--------------------+--------------------+\n",
      "|sample_id|                 seq|                qual|\n",
      "+---------+--------------------+--------------------+\n",
      "|   father|TTTGAGTGAGTTTATTA...|=<<:=@=>>=<=<>>=>...|\n",
      "|   father|ACTGTCAATATTAGACA...|;9<;<>9<=<=<=><<>...|\n",
      "|   father|CCTCCCATTTTACTTTT...|==>=???>===>=?===...|\n",
      "|   father|ATTAATTAGATTTCAGT...|:;:<=><=><=;<;>>;...|\n",
      "|   father|GTAGGCAAAGCCTCACA...|=<==>>?>>?=>?>?=>...|\n",
      "|   father|TCTATTCAAAATATTTG...|/9<9=:,<44,,::;<;...|\n",
      "|   father|ATGTGGTTTGCAAATAT...|==:<>?>==><?>=>>>...|\n",
      "|   father|ATGCGGAACTGATGAGT...|:;7<65-=9>9,;4;2;...|\n",
      "|   father|CTATGAAACAATAGTCT...|=>==>>=>=:>>:=>=?...|\n",
      "|   father|GTGAGAAACTGGCTCAT...|;::<=;<<<>;==><>=...|\n",
      "|   father|TGGGAGTTAAATAGCAA...|=<<<?@>=>>>>>?>?>...|\n",
      "|   father|TATTACATTTCAACGTG...|;;;;==>=<<=>=<7==...|\n",
      "|   father|GCCTTTGCTAAATATGA...|==0>>=;>38;11=1<:...|\n",
      "|   father|GTTACCAAATTTAGGGT...|;159,,3---1:<;;1-...|\n",
      "|   father|AAGGACAGAAGCAATAA...|===70<>.>==>>=>>=...|\n",
      "|   father|CAGGTGATCTCATAATT...|/<;9<03<76<=81<<5...|\n",
      "|   father|TGAAGTTGGGGTGCACC...|=<<=?==>->>=>=?:>...|\n",
      "|   father|ACATATTACGCGGAATC...|;7/<8;,,;%)3(,8<=...|\n",
      "|   father|TATTACTATTTCTGTAT...|===<?>?>>==>?>>>>...|\n",
      "|   father|AGTTACTTCTCTGGCCA...|;-8;<8/0=/+=;:=<=...|\n",
      "+---------+--------------------+--------------------+\n",
      "only showing top 20 rows\n",
      "\n"
     ]
    }
   ],
   "source": [
    "fastq_all.printSchema()\n",
    "fastq_all.show() "
   ]
  },
  {
   "cell_type": "markdown",
   "metadata": {},
   "source": [
    "Jeśli chcemy zachować wynik działania transformacji (w celu późniejszego wykorzystania) trzeba wynik zachować w zmiennej."
   ]
  },
  {
   "cell_type": "code",
   "execution_count": 31,
   "metadata": {},
   "outputs": [],
   "source": [
    "fastq_sample_only = fastq_all.select(\"sample_id\")  "
   ]
  },
  {
   "cell_type": "code",
   "execution_count": 32,
   "metadata": {},
   "outputs": [
    {
     "name": "stdout",
     "output_type": "stream",
     "text": [
      "root\n",
      " |-- sample_id: string (nullable = true)\n",
      "\n",
      "+---------+\n",
      "|sample_id|\n",
      "+---------+\n",
      "|   father|\n",
      "|   father|\n",
      "|   father|\n",
      "|   father|\n",
      "|   father|\n",
      "|   father|\n",
      "|   father|\n",
      "|   father|\n",
      "|   father|\n",
      "|   father|\n",
      "|   father|\n",
      "|   father|\n",
      "|   father|\n",
      "|   father|\n",
      "|   father|\n",
      "|   father|\n",
      "|   father|\n",
      "|   father|\n",
      "|   father|\n",
      "|   father|\n",
      "+---------+\n",
      "only showing top 20 rows\n",
      "\n"
     ]
    }
   ],
   "source": [
    "fastq_sample_only.printSchema()\n",
    "fastq_sample_only.show()"
   ]
  },
  {
   "cell_type": "code",
   "execution_count": 33,
   "metadata": {},
   "outputs": [
    {
     "name": "stdout",
     "output_type": "stream",
     "text": [
      "+---------+--------------------+\n",
      "|sample_id|                 seq|\n",
      "+---------+--------------------+\n",
      "|   father|TTTGAGTGAGTTTATTA...|\n",
      "|   father|ACTGTCAATATTAGACA...|\n",
      "|   father|CCTCCCATTTTACTTTT...|\n",
      "|   father|ATTAATTAGATTTCAGT...|\n",
      "|   father|GTAGGCAAAGCCTCACA...|\n",
      "|   father|TCTATTCAAAATATTTG...|\n",
      "|   father|ATGTGGTTTGCAAATAT...|\n",
      "|   father|ATGCGGAACTGATGAGT...|\n",
      "|   father|CTATGAAACAATAGTCT...|\n",
      "|   father|GTGAGAAACTGGCTCAT...|\n",
      "|   father|TGGGAGTTAAATAGCAA...|\n",
      "|   father|TATTACATTTCAACGTG...|\n",
      "|   father|GCCTTTGCTAAATATGA...|\n",
      "|   father|GTTACCAAATTTAGGGT...|\n",
      "|   father|AAGGACAGAAGCAATAA...|\n",
      "|   father|CAGGTGATCTCATAATT...|\n",
      "|   father|TGAAGTTGGGGTGCACC...|\n",
      "|   father|ACATATTACGCGGAATC...|\n",
      "|   father|TATTACTATTTCTGTAT...|\n",
      "|   father|AGTTACTTCTCTGGCCA...|\n",
      "+---------+--------------------+\n",
      "only showing top 20 rows\n",
      "\n"
     ]
    }
   ],
   "source": [
    "fastq_all.select(\"sample_id\",\"seq\").show()"
   ]
  },
  {
   "cell_type": "markdown",
   "metadata": {},
   "source": [
    "Powiedzmy, że interesują nas wszystkie kolumny poza qual. Jak to zrobic? Można wylistować wszystkie kolumny poza qual, ale to uciazliwe. Mozna skorzystac z operacji drop."
   ]
  },
  {
   "cell_type": "code",
   "execution_count": 34,
   "metadata": {},
   "outputs": [],
   "source": [
    "fastq_no_qual=fastq_all.drop('qual')"
   ]
  },
  {
   "cell_type": "markdown",
   "metadata": {},
   "source": [
    "`Czy operacja usunięcia kolumny qual wpłynęła na oryginalny data frame fastq_all?`"
   ]
  },
  {
   "cell_type": "code",
   "execution_count": 35,
   "metadata": {},
   "outputs": [
    {
     "name": "stdout",
     "output_type": "stream",
     "text": [
      "root\n",
      " |-- sample_id: string (nullable = true)\n",
      " |-- seq: string (nullable = true)\n",
      "\n",
      "+---------+--------------------+\n",
      "|sample_id|                 seq|\n",
      "+---------+--------------------+\n",
      "|   father|TTTGAGTGAGTTTATTA...|\n",
      "|   father|ACTGTCAATATTAGACA...|\n",
      "|   father|CCTCCCATTTTACTTTT...|\n",
      "|   father|ATTAATTAGATTTCAGT...|\n",
      "|   father|GTAGGCAAAGCCTCACA...|\n",
      "|   father|TCTATTCAAAATATTTG...|\n",
      "|   father|ATGTGGTTTGCAAATAT...|\n",
      "|   father|ATGCGGAACTGATGAGT...|\n",
      "|   father|CTATGAAACAATAGTCT...|\n",
      "|   father|GTGAGAAACTGGCTCAT...|\n",
      "|   father|TGGGAGTTAAATAGCAA...|\n",
      "|   father|TATTACATTTCAACGTG...|\n",
      "|   father|GCCTTTGCTAAATATGA...|\n",
      "|   father|GTTACCAAATTTAGGGT...|\n",
      "|   father|AAGGACAGAAGCAATAA...|\n",
      "|   father|CAGGTGATCTCATAATT...|\n",
      "|   father|TGAAGTTGGGGTGCACC...|\n",
      "|   father|ACATATTACGCGGAATC...|\n",
      "|   father|TATTACTATTTCTGTAT...|\n",
      "|   father|AGTTACTTCTCTGGCCA...|\n",
      "+---------+--------------------+\n",
      "only showing top 20 rows\n",
      "\n"
     ]
    }
   ],
   "source": [
    "fastq_no_qual.printSchema()\n",
    "fastq_no_qual.show()"
   ]
  },
  {
   "cell_type": "markdown",
   "metadata": {},
   "source": [
    "## Wartości unikalne\n",
    "Jeśli chcemy uzyskać unikalne wartości w określonych kolumnach korzystamy z metody distinct().\n",
    "Operacje na DF można łańcuchowo łączyć, zatem na wyniku działania select() można wywołać kolejne metody."
   ]
  },
  {
   "cell_type": "code",
   "execution_count": 36,
   "metadata": {},
   "outputs": [
    {
     "name": "stdout",
     "output_type": "stream",
     "text": [
      "+---------+\n",
      "|sample_id|\n",
      "+---------+\n",
      "|   father|\n",
      "|   mother|\n",
      "|      son|\n",
      "+---------+\n",
      "\n"
     ]
    }
   ],
   "source": [
    "fastq_all.select('sample_id').distinct().show()"
   ]
  },
  {
   "cell_type": "code",
   "execution_count": 37,
   "metadata": {},
   "outputs": [
    {
     "data": {
      "text/plain": [
       "241114"
      ]
     },
     "execution_count": 37,
     "metadata": {},
     "output_type": "execute_result"
    }
   ],
   "source": [
    "fastq_all.count()"
   ]
  },
  {
   "cell_type": "markdown",
   "metadata": {},
   "source": [
    "# Sortowanie\n",
    "\n",
    "Do sortowania służy metoda orderBy. Domyślne sortowanie jest rosnące."
   ]
  },
  {
   "cell_type": "code",
   "execution_count": 38,
   "metadata": {},
   "outputs": [
    {
     "name": "stdout",
     "output_type": "stream",
     "text": [
      "+---------+\n",
      "|sample_id|\n",
      "+---------+\n",
      "|   father|\n",
      "|   mother|\n",
      "|      son|\n",
      "+---------+\n",
      "\n"
     ]
    }
   ],
   "source": [
    "fastq_all.select('sample_id').distinct().orderBy('sample_id').show()"
   ]
  },
  {
   "cell_type": "code",
   "execution_count": 39,
   "metadata": {},
   "outputs": [
    {
     "name": "stdout",
     "output_type": "stream",
     "text": [
      "+---------+\n",
      "|sample_id|\n",
      "+---------+\n",
      "|      son|\n",
      "|   mother|\n",
      "|   father|\n",
      "+---------+\n",
      "\n"
     ]
    }
   ],
   "source": [
    "fastq_all.select('sample_id').distinct().orderBy('sample_id', ascending=False).show()"
   ]
  },
  {
   "cell_type": "code",
   "execution_count": 40,
   "metadata": {},
   "outputs": [
    {
     "name": "stdout",
     "output_type": "stream",
     "text": [
      "+---------+--------------------+--------------------+\n",
      "|sample_id|                 seq|                qual|\n",
      "+---------+--------------------+--------------------+\n",
      "|      son|TTTTTTTTTTTTTTTTT...|..--61<:::5:+5:<1...|\n",
      "|      son|TTTTTTTTTTTTTTTTT...|;:;:=++<<=++=<<=+...|\n",
      "|      son|TTTTTTTTTTTTTTTTT...|;;;<=<<+1:1<<9<2+...|\n",
      "|      son|TTTTTTTTTTTTTTTTT...|;;--=+<1<2+<:<<=+...|\n",
      "|      son|TTTTTTTTTTTTTTTTT...|;;;<==<1+:<<<<:<<...|\n",
      "|      son|TTTTTTTTTTTTTTTTT...|;;;<=+<:<=:511:69...|\n",
      "|      son|TTTTTTTTTTTTTTTTT...|.:-<61<<56+<<1++<...|\n",
      "|      son|TTTTTTTTTTTTTTTTT...|;;;<=9+5=,<+<+6<<...|\n",
      "|      son|TTTTTTTTTTTTTTTTT...|;;;<=<<1+=+1:5+<1...|\n",
      "|      son|TTTTTTTTTTTTTTTTT...|;:;<==<<==<<<<<<+...|\n",
      "|      son|TTTTTTTTTTTTTTTTT...|9:-:==:<5:15:<:+9...|\n",
      "|      son|TTTTTTTTTTTTTTTTT...|;:;<==<<56<<1<<<<...|\n",
      "|      son|TTTTTTTTTTTTTTTTT...|;:;<==<<<2<<:<<<<...|\n",
      "|      son|TTTTTTTTTTTTTTTTG...|;:;<=9++5=1+++<<1...|\n",
      "|      son|TTTTTTTTTTTTTTTTG...|;:8<=+<5+255<1<<8...|\n",
      "|      son|TTTTTTTTTTTTTTTTC...|;;;<=+5:5,<<+<663...|\n",
      "|      son|TTTTTTTTTTTTTTTTA...|;;;<=1+<=,1<=<+=9...|\n",
      "|      son|TTTTTTTTTTTTTTTTA...|;;;<==<+<6++:5:++...|\n",
      "|      son|TTTTTTTTTTTTTTTCT...|;.5-;9:<<,+1=+++....|\n",
      "|      son|TTTTTTTTTTTTTTTAA...|.:8:6955<:<5+56+3...|\n",
      "+---------+--------------------+--------------------+\n",
      "only showing top 20 rows\n",
      "\n"
     ]
    }
   ],
   "source": [
    "fastq_all.orderBy('sample_id', 'seq', ascending=False).show()  # kierunek sortowania jest wspólny dla listy kolumn"
   ]
  },
  {
   "cell_type": "code",
   "execution_count": 41,
   "metadata": {},
   "outputs": [
    {
     "name": "stdout",
     "output_type": "stream",
     "text": [
      "+---------+--------------------+--------------------+\n",
      "|sample_id|                 seq|                qual|\n",
      "+---------+--------------------+--------------------+\n",
      "|   mother|AAAAAAAAAAAAAAAAA...|====??=>>>8>>>>>>...|\n",
      "|   mother|AAAAAAAAAAAAAAAAA...|;<9<=>>==:=======...|\n",
      "|   father|AAAAAAAAAAAAAAAAA...|/;.:/78844<8,=<47...|\n",
      "|   mother|AAAAAAAAAAAAAAAAA...|====??>>>>>>>>>>>...|\n",
      "|   mother|AAAAAAAAAAAAAAAAA...|==;=??=>=>9>:>>>>...|\n",
      "|   mother|AAAAAAAAAAAAAAAAA...|====??>>>>>>>>>>>...|\n",
      "|   mother|AAAAAAAAAAAAAAAAA...|;;;<=>===9<==7===...|\n",
      "|   mother|AAAAAAAAAAAAAAAAA...|==;<=?>>=>9>9>==>...|\n",
      "|   mother|AAAAAAAAAAAAAAAAA...|;;;<=>>==>======<...|\n",
      "|   mother|AAAAAAAAAAAAAAAAA...|===<??>>>>>>>>>:>...|\n",
      "|   mother|AAAAAAAAAAAAAAAAA...|===<??>>>>>>=>>>>...|\n",
      "|   mother|AAAAAAAAAAAAAAAAA...|;;;<=>>==>=======...|\n",
      "|   mother|AAAAAAAAAAAAAAAAA...|====??>=>><>>>>>>...|\n",
      "|   mother|AAAAAAAAAAAAAAAAA...|;;9:/9;:=.83=####...|\n",
      "|   mother|AAAAAAAAAAAAAAAAA...|;;;<=>>==>=======...|\n",
      "|   mother|AAAAAAAAAAAAAAAAA...|=====?>>=>>>=>>==...|\n",
      "|   mother|AAAAAAAAAAAAAAAAA...|=====?>>>>>>9=>>=...|\n",
      "|   father|AAAAAAAAAAAAAAAAA...|/07.=;3--8=88=8,,...|\n",
      "|   mother|AAAAAAAAAAAAAAAAA...|====??=>>>>>>>>>>...|\n",
      "|      son|AAAAAAAAAAAAAAAAA...|;<<=>>===>7=;==<=...|\n",
      "+---------+--------------------+--------------------+\n",
      "only showing top 20 rows\n",
      "\n"
     ]
    }
   ],
   "source": [
    "fastq_all.orderBy('sample_id', ascending=False).orderBy('seq', ascending=True).show() # sortowanie malejace i rosnące na dwóch roznych kolumnach "
   ]
  },
  {
   "cell_type": "markdown",
   "metadata": {},
   "source": [
    "### Filtrowanie wynikow\n",
    "Nasz zbiór danych posiada odczyty z 3 próbek. Ograniczmy się do wybranych próbek."
   ]
  },
  {
   "cell_type": "code",
   "execution_count": 42,
   "metadata": {},
   "outputs": [],
   "source": [
    "fastq_mother = fastq_all.filter(\"sample_id = 'mother'\")"
   ]
  },
  {
   "cell_type": "markdown",
   "metadata": {},
   "source": [
    "`Czy już odbył się odczyt danych z fastq?`"
   ]
  },
  {
   "cell_type": "code",
   "execution_count": 43,
   "metadata": {},
   "outputs": [
    {
     "name": "stdout",
     "output_type": "stream",
     "text": [
      "+---------+--------------------+--------------------+\n",
      "|sample_id|                 seq|                qual|\n",
      "+---------+--------------------+--------------------+\n",
      "|   mother|TGGAGTTCTAAATTGTG...|==:=?>=>?>>>>>>>>...|\n",
      "|   mother|GCATGTGCAAGTATCTT...|;;<<9>>>>9>:=<=?<...|\n",
      "|   mother|GCCATTAGACGACATTT...|=<=2?<0?=;5>>?>70...|\n",
      "|   mother|AGGCAGGACTAGTTCCT...|::;,::*-=0:>88-+;...|\n",
      "|   mother|ATAAGGGGGCCACTTTT...|==8=??>>>?>?>@>==...|\n",
      "|   mother|TGAAAAACCACATGGAA...|/99;;9=8=>=-2=::3...|\n",
      "|   mother|GAAATGCTTAATTACCC...|====2??@<=>>==8=0...|\n",
      "|   mother|CCACAAAAGCCTTTATC...|;;<6<.>=>2+>=8,=9...|\n",
      "|   mother|CAACTTAACAAATTCAT...|=>;<?>?>>?>=>=>?>...|\n",
      "|   mother|TTCTCCTAAGTGAAATA...|;:;=9>?==?===<==>...|\n",
      "|   mother|AGAATTACTGTTTGACT...|</;=:>>>?9/:7;<>4...|\n",
      "|   mother|AGATATAAATTATATTG...|:.9/;-?.=8+>->-+7...|\n",
      "|   mother|TTTGAACCTTTACTACA...|====??>>?==?>?=>?...|\n",
      "|   mother|TCAAGGACTAAGATATA...|;0:<=>>=>?<=9=>=>...|\n",
      "|   mother|AGTAAAGGTTCTAGTTA...|<=;==?>>=><@7<;9=...|\n",
      "|   mother|GAGGGTGTCATGGGAAC...|;;8:+.>:;.==*=-=;...|\n",
      "|   mother|ATAAATGGTCCTTAAAT...|===<??>>>>>@==>>>...|\n",
      "|   mother|TTAATTTATGTACTCAA...|;;;<===>=>=>=>=>=...|\n",
      "|   mother|AGTTTCCTGGGGCATGC...|==9=??>?>><>??>>?...|\n",
      "|   mother|AATGCTAGACTTTTCAT...|:;;<;??>=><<<<=>=...|\n",
      "+---------+--------------------+--------------------+\n",
      "only showing top 20 rows\n",
      "\n"
     ]
    }
   ],
   "source": [
    "fastq_mother.show()"
   ]
  },
  {
   "cell_type": "code",
   "execution_count": 44,
   "metadata": {},
   "outputs": [
    {
     "name": "stdout",
     "output_type": "stream",
     "text": [
      "+---------+\n",
      "|sample_id|\n",
      "+---------+\n",
      "|   mother|\n",
      "+---------+\n",
      "\n"
     ]
    }
   ],
   "source": [
    "fastq_mother.select('sample_id').distinct().show()"
   ]
  },
  {
   "cell_type": "code",
   "execution_count": 45,
   "metadata": {},
   "outputs": [
    {
     "data": {
      "text/plain": [
       "133160"
      ]
     },
     "execution_count": 45,
     "metadata": {},
     "output_type": "execute_result"
    }
   ],
   "source": [
    "fastq_mother.count()"
   ]
  },
  {
   "cell_type": "markdown",
   "metadata": {},
   "source": [
    "Warunki można łączyć spójnikami logicznymi. \n",
    "Można używać\n",
    "* operatorów arytmetycznych (=, !=, >, >=, <, <=)\n",
    "* przynależności do zbioru (IN/NOT IN) \n",
    "* porównania znaków (LIKE/NOT LIKE)\n",
    "* przyrównania do wartości NULL (IS NULL/ IS NOT NULL)\n",
    "\n",
    "Przy korzystaniu z LIKE można użyć % jako oznaczenie dowolnego ciągu znaków.\n",
    "\n",
    "Konstrukcja warunku w metodzie filter() jak taka jak w klauzuli WHERE W SQL."
   ]
  },
  {
   "cell_type": "markdown",
   "metadata": {},
   "source": [
    "Pokaż odczyty spełniające warunek ze nazwa instrumentu jest pusta, run_id jest >=0 a odczyt zaczyna sie od liter GCA. Pokaz tylko kolumny z filtra oraz nazwe probki"
   ]
  },
  {
   "cell_type": "code",
   "execution_count": 46,
   "metadata": {},
   "outputs": [
    {
     "name": "stdout",
     "output_type": "stream",
     "text": [
      "+---------+--------------------+\n",
      "|sample_id|                 seq|\n",
      "+---------+--------------------+\n",
      "|   mother|GCATGTGCAAGTATCTT...|\n",
      "|   mother|GCAGGTACTCATGTTCA...|\n",
      "|   mother|GCACATCCTGGCCTCCT...|\n",
      "|   mother|GCAACCTCCACCTCCTA...|\n",
      "|   mother|GCAGAAGGTGCAAAAGC...|\n",
      "|   mother|GCATCGAATTTTTTTTC...|\n",
      "|   mother|GCACTTCCCTGGCCACA...|\n",
      "|   mother|GCAGTCACCTTCCCAGC...|\n",
      "|   mother|GCACCTCTGATGCTGGA...|\n",
      "|   mother|GCAGAAAGCTGGGTGCA...|\n",
      "|   mother|GCATAATAGACACTAGG...|\n",
      "|   mother|GCAATCAATCAGATGGC...|\n",
      "|   mother|GCAACTTCAGTAAAGTC...|\n",
      "|   mother|GCAAACGAACACAGGAA...|\n",
      "|   mother|GCATATCATTTCCCATA...|\n",
      "|   mother|GCATTTTCACTTGCATG...|\n",
      "|   mother|GCAGTTACAGTCTTAGA...|\n",
      "|   mother|GCAACTTATAAAATGGG...|\n",
      "|   mother|GCAACATATAAAATGGG...|\n",
      "|   mother|GCAACGGACAAGGAGAA...|\n",
      "+---------+--------------------+\n",
      "only showing top 20 rows\n",
      "\n"
     ]
    }
   ],
   "source": [
    "fastq_mother.filter('seq LIKE \"GCA%\"').select('sample_id',  'seq').show()"
   ]
  },
  {
   "cell_type": "code",
   "execution_count": 47,
   "metadata": {},
   "outputs": [
    {
     "name": "stdout",
     "output_type": "stream",
     "text": [
      "+---------+--------------------+\n",
      "|sample_id|                 seq|\n",
      "+---------+--------------------+\n",
      "|   mother|GCATGTGCAAGTATCTT...|\n",
      "|   mother|GCAGGTACTCATGTTCA...|\n",
      "|   mother|GCACATCCTGGCCTCCT...|\n",
      "|   mother|GCAACCTCCACCTCCTA...|\n",
      "|   mother|GCAGAAGGTGCAAAAGC...|\n",
      "|   mother|GCATCGAATTTTTTTTC...|\n",
      "|   mother|GCACTTCCCTGGCCACA...|\n",
      "|   mother|GCAGTCACCTTCCCAGC...|\n",
      "|   mother|GCACCTCTGATGCTGGA...|\n",
      "|   mother|GCAGAAAGCTGGGTGCA...|\n",
      "|   mother|GCATAATAGACACTAGG...|\n",
      "|   mother|GCAATCAATCAGATGGC...|\n",
      "|   mother|GCAACTTCAGTAAAGTC...|\n",
      "|   mother|GCAAACGAACACAGGAA...|\n",
      "|   mother|GCATATCATTTCCCATA...|\n",
      "|   mother|GCATTTTCACTTGCATG...|\n",
      "|   mother|GCAGTTACAGTCTTAGA...|\n",
      "|   mother|GCAACTTATAAAATGGG...|\n",
      "|   mother|GCAACATATAAAATGGG...|\n",
      "|   mother|GCAACGGACAAGGAGAA...|\n",
      "+---------+--------------------+\n",
      "only showing top 20 rows\n",
      "\n"
     ]
    }
   ],
   "source": [
    "fastq_mother.select('sample_id', 'seq').filter('seq LIKE \"GCA%\"').show() # kolejnosc select i filter bez znaczenia"
   ]
  },
  {
   "cell_type": "markdown",
   "metadata": {},
   "source": [
    "<div class=\"alert alert-block alert-warning\">\n",
    "\n",
    "<b>Zadanie 2_2:</b>Napisz polecenie które policzy ile jest rekordów dla próbki syna które spełniają warunki, że sekwencja odczytu konczy się na TGG a qual zaczyna się od ==. </div>\n",
    "\n"
   ]
  },
  {
   "cell_type": "code",
   "execution_count": null,
   "metadata": {},
   "outputs": [],
   "source": []
  },
  {
   "cell_type": "markdown",
   "metadata": {},
   "source": [
    "## Używanie funkcji, kolumny wyliczane\n",
    "\n",
    "Dostępne są funkcje skalarne (przykład: ROUND, UPPER, CURRENT_DATE) oraz agregujące (MIN, MAX, AVG, SUM, COUNT).\n",
    "Niektóre funkcje są dostępne \"od razu\" bez dodatkowych poleceń import. \n",
    "Lista funkcji znajduje się : https://spark.apache.org/docs/latest/api/sql/index.html "
   ]
  },
  {
   "cell_type": "code",
   "execution_count": 48,
   "metadata": {},
   "outputs": [
    {
     "name": "stdout",
     "output_type": "stream",
     "text": [
      "+---------+--------------------+--------------------+\n",
      "|sample_id|                 seq|                qual|\n",
      "+---------+--------------------+--------------------+\n",
      "|   father|TTTGAGTGAGTTTATTA...|=<<:=@=>>=<=<>>=>...|\n",
      "|   father|ACTGTCAATATTAGACA...|;9<;<>9<=<=<=><<>...|\n",
      "|   father|CCTCCCATTTTACTTTT...|==>=???>===>=?===...|\n",
      "|   father|ATTAATTAGATTTCAGT...|:;:<=><=><=;<;>>;...|\n",
      "|   father|GTAGGCAAAGCCTCACA...|=<==>>?>>?=>?>?=>...|\n",
      "|   father|TCTATTCAAAATATTTG...|/9<9=:,<44,,::;<;...|\n",
      "|   father|ATGTGGTTTGCAAATAT...|==:<>?>==><?>=>>>...|\n",
      "|   father|ATGCGGAACTGATGAGT...|:;7<65-=9>9,;4;2;...|\n",
      "|   father|CTATGAAACAATAGTCT...|=>==>>=>=:>>:=>=?...|\n",
      "|   father|GTGAGAAACTGGCTCAT...|;::<=;<<<>;==><>=...|\n",
      "|   father|TGGGAGTTAAATAGCAA...|=<<<?@>=>>>>>?>?>...|\n",
      "|   father|TATTACATTTCAACGTG...|;;;;==>=<<=>=<7==...|\n",
      "|   father|GCCTTTGCTAAATATGA...|==0>>=;>38;11=1<:...|\n",
      "|   father|GTTACCAAATTTAGGGT...|;159,,3---1:<;;1-...|\n",
      "|   father|AAGGACAGAAGCAATAA...|===70<>.>==>>=>>=...|\n",
      "|   father|CAGGTGATCTCATAATT...|/<;9<03<76<=81<<5...|\n",
      "|   father|TGAAGTTGGGGTGCACC...|=<<=?==>->>=>=?:>...|\n",
      "|   father|ACATATTACGCGGAATC...|;7/<8;,,;%)3(,8<=...|\n",
      "|   father|TATTACTATTTCTGTAT...|===<?>?>>==>?>>>>...|\n",
      "|   father|AGTTACTTCTCTGGCCA...|;-8;<8/0=/+=;:=<=...|\n",
      "+---------+--------------------+--------------------+\n",
      "only showing top 20 rows\n",
      "\n"
     ]
    }
   ],
   "source": [
    "fastq_all.selectExpr(\"*\").show()  # pokaż wszystkie kolumny tego DF"
   ]
  },
  {
   "cell_type": "markdown",
   "metadata": {},
   "source": [
    "Dodanie dwóch dodatkowych kolumn wyliczanych "
   ]
  },
  {
   "cell_type": "code",
   "execution_count": 49,
   "metadata": {},
   "outputs": [
    {
     "name": "stdout",
     "output_type": "stream",
     "text": [
      "+---------+--------------------+--------------------+-------+--------+\n",
      "|sample_id|                 seq|                qual|len_seq|len_qual|\n",
      "+---------+--------------------+--------------------+-------+--------+\n",
      "|   father|TTTGAGTGAGTTTATTA...|=<<:=@=>>=<=<>>=>...|    151|     151|\n",
      "|   father|ACTGTCAATATTAGACA...|;9<;<>9<=<=<=><<>...|    151|     151|\n",
      "|   father|CCTCCCATTTTACTTTT...|==>=???>===>=?===...|    151|     151|\n",
      "|   father|ATTAATTAGATTTCAGT...|:;:<=><=><=;<;>>;...|    151|     151|\n",
      "|   father|GTAGGCAAAGCCTCACA...|=<==>>?>>?=>?>?=>...|    151|     151|\n",
      "|   father|TCTATTCAAAATATTTG...|/9<9=:,<44,,::;<;...|    151|     151|\n",
      "|   father|ATGTGGTTTGCAAATAT...|==:<>?>==><?>=>>>...|    151|     151|\n",
      "|   father|ATGCGGAACTGATGAGT...|:;7<65-=9>9,;4;2;...|    151|     151|\n",
      "|   father|CTATGAAACAATAGTCT...|=>==>>=>=:>>:=>=?...|    151|     151|\n",
      "|   father|GTGAGAAACTGGCTCAT...|;::<=;<<<>;==><>=...|    151|     151|\n",
      "|   father|TGGGAGTTAAATAGCAA...|=<<<?@>=>>>>>?>?>...|    151|     151|\n",
      "|   father|TATTACATTTCAACGTG...|;;;;==>=<<=>=<7==...|    151|     151|\n",
      "|   father|GCCTTTGCTAAATATGA...|==0>>=;>38;11=1<:...|    151|     151|\n",
      "|   father|GTTACCAAATTTAGGGT...|;159,,3---1:<;;1-...|    151|     151|\n",
      "|   father|AAGGACAGAAGCAATAA...|===70<>.>==>>=>>=...|    151|     151|\n",
      "|   father|CAGGTGATCTCATAATT...|/<;9<03<76<=81<<5...|    151|     151|\n",
      "|   father|TGAAGTTGGGGTGCACC...|=<<=?==>->>=>=?:>...|    151|     151|\n",
      "|   father|ACATATTACGCGGAATC...|;7/<8;,,;%)3(,8<=...|    151|     151|\n",
      "|   father|TATTACTATTTCTGTAT...|===<?>?>>==>?>>>>...|    151|     151|\n",
      "|   father|AGTTACTTCTCTGGCCA...|;-8;<8/0=/+=;:=<=...|    151|     151|\n",
      "+---------+--------------------+--------------------+-------+--------+\n",
      "only showing top 20 rows\n",
      "\n"
     ]
    }
   ],
   "source": [
    "fastq_all.selectExpr(\"*\", \"length(seq) as len_seq\", \"length(qual) as len_qual\" ).show() ## dodanie dwóch kolumn wyliczanych przy uzyciu funkcji LENGTH"
   ]
  },
  {
   "cell_type": "markdown",
   "metadata": {},
   "source": [
    "Alias - nadanie kolumnie lub kolumnie wyliczanej nazwy"
   ]
  },
  {
   "cell_type": "code",
   "execution_count": 50,
   "metadata": {},
   "outputs": [],
   "source": [
    "extended_fastq = fastq_all.selectExpr(\"*\", \"length(seq) as len_s\", \"length(qual) as len_q\" ) # AS alias"
   ]
  },
  {
   "cell_type": "code",
   "execution_count": 51,
   "metadata": {},
   "outputs": [
    {
     "name": "stdout",
     "output_type": "stream",
     "text": [
      "root\n",
      " |-- sample_id: string (nullable = true)\n",
      " |-- seq: string (nullable = true)\n",
      " |-- qual: string (nullable = true)\n",
      " |-- len_s: integer (nullable = true)\n",
      " |-- len_q: integer (nullable = true)\n",
      "\n"
     ]
    }
   ],
   "source": [
    "extended_fastq.printSchema()"
   ]
  },
  {
   "cell_type": "markdown",
   "metadata": {},
   "source": [
    "Dodanie nowej kolumny, dla każdego wiersza zostanie dodana wartość zwracana przez funkcję current_date()"
   ]
  },
  {
   "cell_type": "code",
   "execution_count": 52,
   "metadata": {},
   "outputs": [
    {
     "name": "stdout",
     "output_type": "stream",
     "text": [
      "+---------+--------------------+--------------------+-----+-----+----------+\n",
      "|sample_id|                 seq|                qual|len_s|len_q|      date|\n",
      "+---------+--------------------+--------------------+-----+-----+----------+\n",
      "|   father|TTTGAGTGAGTTTATTA...|=<<:=@=>>=<=<>>=>...|  151|  151|2023-05-26|\n",
      "|   father|ACTGTCAATATTAGACA...|;9<;<>9<=<=<=><<>...|  151|  151|2023-05-26|\n",
      "|   father|CCTCCCATTTTACTTTT...|==>=???>===>=?===...|  151|  151|2023-05-26|\n",
      "|   father|ATTAATTAGATTTCAGT...|:;:<=><=><=;<;>>;...|  151|  151|2023-05-26|\n",
      "|   father|GTAGGCAAAGCCTCACA...|=<==>>?>>?=>?>?=>...|  151|  151|2023-05-26|\n",
      "|   father|TCTATTCAAAATATTTG...|/9<9=:,<44,,::;<;...|  151|  151|2023-05-26|\n",
      "|   father|ATGTGGTTTGCAAATAT...|==:<>?>==><?>=>>>...|  151|  151|2023-05-26|\n",
      "|   father|ATGCGGAACTGATGAGT...|:;7<65-=9>9,;4;2;...|  151|  151|2023-05-26|\n",
      "|   father|CTATGAAACAATAGTCT...|=>==>>=>=:>>:=>=?...|  151|  151|2023-05-26|\n",
      "|   father|GTGAGAAACTGGCTCAT...|;::<=;<<<>;==><>=...|  151|  151|2023-05-26|\n",
      "|   father|TGGGAGTTAAATAGCAA...|=<<<?@>=>>>>>?>?>...|  151|  151|2023-05-26|\n",
      "|   father|TATTACATTTCAACGTG...|;;;;==>=<<=>=<7==...|  151|  151|2023-05-26|\n",
      "|   father|GCCTTTGCTAAATATGA...|==0>>=;>38;11=1<:...|  151|  151|2023-05-26|\n",
      "|   father|GTTACCAAATTTAGGGT...|;159,,3---1:<;;1-...|  151|  151|2023-05-26|\n",
      "|   father|AAGGACAGAAGCAATAA...|===70<>.>==>>=>>=...|  151|  151|2023-05-26|\n",
      "|   father|CAGGTGATCTCATAATT...|/<;9<03<76<=81<<5...|  151|  151|2023-05-26|\n",
      "|   father|TGAAGTTGGGGTGCACC...|=<<=?==>->>=>=?:>...|  151|  151|2023-05-26|\n",
      "|   father|ACATATTACGCGGAATC...|;7/<8;,,;%)3(,8<=...|  151|  151|2023-05-26|\n",
      "|   father|TATTACTATTTCTGTAT...|===<?>?>>==>?>>>>...|  151|  151|2023-05-26|\n",
      "|   father|AGTTACTTCTCTGGCCA...|;-8;<8/0=/+=;:=<=...|  151|  151|2023-05-26|\n",
      "+---------+--------------------+--------------------+-----+-----+----------+\n",
      "only showing top 20 rows\n",
      "\n"
     ]
    }
   ],
   "source": [
    "from pyspark.sql.functions import current_date\n",
    "extended_fastq.withColumn (\"date\", current_date()).show()"
   ]
  },
  {
   "cell_type": "markdown",
   "metadata": {},
   "source": [
    "Dodanie kolumny o stałej wartości dla każdej wartości wymaga wykorzystania funkcji lit (), która przekształci stała wartość w kolumnę."
   ]
  },
  {
   "cell_type": "code",
   "execution_count": 53,
   "metadata": {},
   "outputs": [
    {
     "name": "stdout",
     "output_type": "stream",
     "text": [
      "+---------+--------------------+--------------------+-----+-----+-----------+------+\n",
      "|sample_id|                 seq|                qual|len_s|len_q|imported_by|format|\n",
      "+---------+--------------------+--------------------+-----+-----+-----------+------+\n",
      "|   father|TTTGAGTGAGTTTATTA...|=<<:=@=>>=<=<>>=>...|  151|  151|     jovyan| FASTQ|\n",
      "|   father|ACTGTCAATATTAGACA...|;9<;<>9<=<=<=><<>...|  151|  151|     jovyan| FASTQ|\n",
      "|   father|CCTCCCATTTTACTTTT...|==>=???>===>=?===...|  151|  151|     jovyan| FASTQ|\n",
      "|   father|ATTAATTAGATTTCAGT...|:;:<=><=><=;<;>>;...|  151|  151|     jovyan| FASTQ|\n",
      "|   father|GTAGGCAAAGCCTCACA...|=<==>>?>>?=>?>?=>...|  151|  151|     jovyan| FASTQ|\n",
      "|   father|TCTATTCAAAATATTTG...|/9<9=:,<44,,::;<;...|  151|  151|     jovyan| FASTQ|\n",
      "|   father|ATGTGGTTTGCAAATAT...|==:<>?>==><?>=>>>...|  151|  151|     jovyan| FASTQ|\n",
      "|   father|ATGCGGAACTGATGAGT...|:;7<65-=9>9,;4;2;...|  151|  151|     jovyan| FASTQ|\n",
      "|   father|CTATGAAACAATAGTCT...|=>==>>=>=:>>:=>=?...|  151|  151|     jovyan| FASTQ|\n",
      "|   father|GTGAGAAACTGGCTCAT...|;::<=;<<<>;==><>=...|  151|  151|     jovyan| FASTQ|\n",
      "|   father|TGGGAGTTAAATAGCAA...|=<<<?@>=>>>>>?>?>...|  151|  151|     jovyan| FASTQ|\n",
      "|   father|TATTACATTTCAACGTG...|;;;;==>=<<=>=<7==...|  151|  151|     jovyan| FASTQ|\n",
      "|   father|GCCTTTGCTAAATATGA...|==0>>=;>38;11=1<:...|  151|  151|     jovyan| FASTQ|\n",
      "|   father|GTTACCAAATTTAGGGT...|;159,,3---1:<;;1-...|  151|  151|     jovyan| FASTQ|\n",
      "|   father|AAGGACAGAAGCAATAA...|===70<>.>==>>=>>=...|  151|  151|     jovyan| FASTQ|\n",
      "|   father|CAGGTGATCTCATAATT...|/<;9<03<76<=81<<5...|  151|  151|     jovyan| FASTQ|\n",
      "|   father|TGAAGTTGGGGTGCACC...|=<<=?==>->>=>=?:>...|  151|  151|     jovyan| FASTQ|\n",
      "|   father|ACATATTACGCGGAATC...|;7/<8;,,;%)3(,8<=...|  151|  151|     jovyan| FASTQ|\n",
      "|   father|TATTACTATTTCTGTAT...|===<?>?>>==>?>>>>...|  151|  151|     jovyan| FASTQ|\n",
      "|   father|AGTTACTTCTCTGGCCA...|;-8;<8/0=/+=;:=<=...|  151|  151|     jovyan| FASTQ|\n",
      "+---------+--------------------+--------------------+-----+-----+-----------+------+\n",
      "only showing top 20 rows\n",
      "\n"
     ]
    }
   ],
   "source": [
    "from pyspark.sql.functions import lit\n",
    "\n",
    "extended_fastq.withColumn(\"imported_by\", lit(user_name)).withColumn(\"format\", lit('FASTQ')).show()"
   ]
  },
  {
   "cell_type": "markdown",
   "metadata": {},
   "source": [
    "<div class=\"alert alert-block alert-warning\">\n",
    "\n",
    "<b>Zadanie 2_3:</b>\n",
    "\n",
    "Napisz polecenie które stworzy ramkę danych zawierającą sklejenie wartości dwóch kolumn (sample_id) oraz daty eksperymentu (dodaj kolumne z wartościami 2019-01-15) . W wynikach chcemy mieć tylko dane matki i ojca. Kolumny wynikowe: nazwa próbki, seq, qual, data eksperymentu oraz scalona nazwa probki oraz data eksperymenty (np father-2019-01-15). Posortuj po nazwie próbki. Pokaż schemat ramki. Upewnij się, że data eksperymentu jest typu date. \n",
    "\n",
    "* Zwróć uwagę na potrzebę konwersji ciągu znaków na datę\n",
    "</div>\n"
   ]
  },
  {
   "cell_type": "code",
   "execution_count": null,
   "metadata": {},
   "outputs": [],
   "source": []
  },
  {
   "cell_type": "markdown",
   "metadata": {},
   "source": [
    "### Instrukcje warunkowe przy kolumnach wyliczanych"
   ]
  },
  {
   "cell_type": "code",
   "execution_count": 54,
   "metadata": {},
   "outputs": [],
   "source": [
    "fastq_dates=fastq_all.selectExpr('*', 'if(sample_id = \"son\",to_date(\"2018-11-10\"), to_date(\"2019-01-15\")) as experiment_date')"
   ]
  },
  {
   "cell_type": "markdown",
   "metadata": {},
   "source": [
    "<div class=\"alert alert-block alert-warning\">\n",
    "<b>Zadanie 2_4:</b> Napisz polecenia, które zweryfikuje czy daty eksperymentów zostały dodane poprawnie </div>\n"
   ]
  },
  {
   "cell_type": "code",
   "execution_count": null,
   "metadata": {},
   "outputs": [],
   "source": []
  },
  {
   "cell_type": "markdown",
   "metadata": {},
   "source": [
    "## Grupowanie"
   ]
  },
  {
   "cell_type": "code",
   "execution_count": 55,
   "metadata": {},
   "outputs": [
    {
     "ename": "AttributeError",
     "evalue": "'GroupedData' object has no attribute 'show'",
     "output_type": "error",
     "traceback": [
      "\u001b[0;31m---------------------------------------------------------------------------\u001b[0m",
      "\u001b[0;31mAttributeError\u001b[0m                            Traceback (most recent call last)",
      "\u001b[0;32m<ipython-input-55-94a969d9aa65>\u001b[0m in \u001b[0;36m<module>\u001b[0;34m\u001b[0m\n\u001b[0;32m----> 1\u001b[0;31m \u001b[0mfastq_all\u001b[0m\u001b[0;34m.\u001b[0m\u001b[0mgroupBy\u001b[0m\u001b[0;34m(\u001b[0m\u001b[0;34m\"sample_id\"\u001b[0m\u001b[0;34m)\u001b[0m\u001b[0;34m.\u001b[0m\u001b[0mshow\u001b[0m\u001b[0;34m(\u001b[0m\u001b[0;34m)\u001b[0m\u001b[0;34m\u001b[0m\u001b[0;34m\u001b[0m\u001b[0m\n\u001b[0m",
      "\u001b[0;31mAttributeError\u001b[0m: 'GroupedData' object has no attribute 'show'"
     ]
    }
   ],
   "source": [
    "fastq_all.groupBy(\"sample_id\").show()"
   ]
  },
  {
   "cell_type": "code",
   "execution_count": 56,
   "metadata": {},
   "outputs": [
    {
     "data": {
      "text/plain": [
       "pyspark.sql.group.GroupedData"
      ]
     },
     "execution_count": 56,
     "metadata": {},
     "output_type": "execute_result"
    }
   ],
   "source": [
    "type(fastq_all.groupBy(\"sample_id\")) # to nie jest DF"
   ]
  },
  {
   "cell_type": "code",
   "execution_count": 57,
   "metadata": {},
   "outputs": [],
   "source": [
    "sample_count=fastq_all.groupBy(\"sample_id\").count()"
   ]
  },
  {
   "cell_type": "code",
   "execution_count": 58,
   "metadata": {},
   "outputs": [
    {
     "data": {
      "text/plain": [
       "pyspark.sql.dataframe.DataFrame"
      ]
     },
     "execution_count": 58,
     "metadata": {},
     "output_type": "execute_result"
    }
   ],
   "source": [
    "type(sample_count)"
   ]
  },
  {
   "cell_type": "code",
   "execution_count": 59,
   "metadata": {},
   "outputs": [
    {
     "name": "stdout",
     "output_type": "stream",
     "text": [
      "+---------+------+\n",
      "|sample_id| count|\n",
      "+---------+------+\n",
      "|   father| 53770|\n",
      "|   mother|133160|\n",
      "|      son| 54184|\n",
      "+---------+------+\n",
      "\n"
     ]
    }
   ],
   "source": [
    "sample_count.show()"
   ]
  },
  {
   "cell_type": "code",
   "execution_count": 60,
   "metadata": {},
   "outputs": [
    {
     "name": "stdout",
     "output_type": "stream",
     "text": [
      "+---------+------+\n",
      "|sample_id| count|\n",
      "+---------+------+\n",
      "|   father| 53770|\n",
      "|      son| 54184|\n",
      "|   mother|133160|\n",
      "+---------+------+\n",
      "\n"
     ]
    }
   ],
   "source": [
    "sample_count.orderBy(\"count\").show()"
   ]
  },
  {
   "cell_type": "markdown",
   "metadata": {},
   "source": [
    "<div class=\"alert alert-block alert-warning\">\n",
    "<b>Zadanie 2_5:</b> Napisz funkcje, ktora znajdzie rozklady jakosci dla 1, 2, 3 i 4 pozycji odczytu.\n",
    "*Nastepnie zaprezentuj wyniki w postaci serii histogramów </div>"
   ]
  },
  {
   "cell_type": "code",
   "execution_count": null,
   "metadata": {},
   "outputs": [],
   "source": []
  },
  {
   "cell_type": "markdown",
   "metadata": {},
   "source": [
    "### Mapowanie do genomu referencyjnego\n",
    "\n",
    "UWAGA - na dzisiejszych zajęciach ten kod nie będzie uruchamiany\n",
    "\n",
    "Wykonamy mapowanie do genomu referencyjnych korzystając z rozproszenia danych miedzy procesy obliczeniowe sparka."
   ]
  },
  {
   "cell_type": "markdown",
   "metadata": {},
   "source": [
    "Przygotowanie ścieżek do plików."
   ]
  },
  {
   "cell_type": "code",
   "execution_count": null,
   "metadata": {},
   "outputs": [],
   "source": [
    "#import os\n",
    "#user_name = os.environ.get('USER')\n",
    "#bucket = f\"gs://edugen-lab-{user_name}\"\n",
    "\n",
    "#reads_file_path = f\"{bucket}/fastq/mother.fastq\"\n",
    "#ref_path = \"/mnt/data/mapping/ref/ref.fasta\""
   ]
  },
  {
   "cell_type": "markdown",
   "metadata": {},
   "source": [
    "Konstruujemy komendę, która będzie uruchamiana na procesach obliczeniowych. Potrzebne narzędzia muszą być dostępne na węzłach obliczeniowych."
   ]
  },
  {
   "cell_type": "code",
   "execution_count": null,
   "metadata": {},
   "outputs": [],
   "source": [
    "#command = f'bwa mem -p {ref_path} - | samtools fixmate -m - - | samtools sort  | samtools markdup -r -S - -  | samtools addreplacerg  -r \"ID:S1\" -r \"SM:S1\"  -r \"PL:ILLUMINA\" - | samtools view -b -'"
   ]
  },
  {
   "cell_type": "markdown",
   "metadata": {},
   "source": [
    "Żeby wykonać rozproszone obliczenia na danych genomicznych nalezy wykorzystac dodatkową bibliotekę."
   ]
  },
  {
   "cell_type": "code",
   "execution_count": null,
   "metadata": {},
   "outputs": [],
   "source": [
    "#from pyseqtender import SeqTenderAlignment\n",
    "\n",
    "#seq_aligner = SeqTenderAlignment(spark, reads_file_path, command)\n",
    "#alignments_rdd = seq_aligner.pipe_reads()"
   ]
  },
  {
   "cell_type": "markdown",
   "metadata": {},
   "source": [
    "Zapisujemy plik na kubełek."
   ]
  },
  {
   "cell_type": "code",
   "execution_count": null,
   "metadata": {},
   "outputs": [],
   "source": [
    "#bam_file_path = f\"{bucket}/bam/mother10.bam\"\n",
    "#seq_aligner.save_reads(bam_file_path, alignments_rdd)"
   ]
  },
  {
   "cell_type": "code",
   "execution_count": null,
   "metadata": {},
   "outputs": [],
   "source": [
    "#!gsutil ls gs://edugen-lab-$USER/bam"
   ]
  },
  {
   "cell_type": "markdown",
   "metadata": {},
   "source": [
    "<div class=\"alert alert-block alert-warning\">\n",
    "<b>Zadanie 2_6:</b> Na podstawie notatników z zajęć z genomiki wyświetl fragment pliku BAM w widge'cie IGV.  </div>\n",
    "\n"
   ]
  },
  {
   "cell_type": "code",
   "execution_count": null,
   "metadata": {},
   "outputs": [],
   "source": []
  },
  {
   "cell_type": "markdown",
   "metadata": {},
   "source": [
    "Kończymy notatniki, należy zamknąć sesję."
   ]
  },
  {
   "cell_type": "code",
   "execution_count": null,
   "metadata": {},
   "outputs": [],
   "source": [
    "spark.stop()"
   ]
  }
 ],
 "metadata": {
  "kernelspec": {
   "display_name": "edugen",
   "language": "python",
   "name": "edugen"
  },
  "language_info": {
   "codemirror_mode": {
    "name": "ipython",
    "version": 3
   },
   "file_extension": ".py",
   "mimetype": "text/x-python",
   "name": "python",
   "nbconvert_exporter": "python",
   "pygments_lexer": "ipython3",
   "version": "3.6.9"
  }
 },
 "nbformat": 4,
 "nbformat_minor": 4
}
