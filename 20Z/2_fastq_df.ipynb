{
 "cells": [
  {
   "cell_type": "markdown",
   "metadata": {},
   "source": [
    "## Przygotowanie sesji Spark\n",
    "Zainicjowanie sesji Spark oraz stworzenie schematu bazy danych z której będziemy korzystać."
   ]
  },
  {
   "cell_type": "code",
   "execution_count": 1,
   "metadata": {},
   "outputs": [],
   "source": [
    "from pyspark.sql import SparkSession\n",
    "spark = SparkSession \\\n",
    ".builder \\\n",
    ".config('spark.driver.memory','1g') \\\n",
    ".config('spark.executor.memory', '2g') \\\n",
    ".getOrCreate()"
   ]
  },
  {
   "cell_type": "markdown",
   "metadata": {},
   "source": [
    "Pobranie sesji Spark jest proste dla programisty korzystającego z notatnika, wymaga podania tylko kilku parametrów, ale faktyczna konfiguracja jest bardziej rozbudowana"
   ]
  },
  {
   "cell_type": "code",
   "execution_count": 2,
   "metadata": {},
   "outputs": [
    {
     "name": "stdout",
     "output_type": "stream",
     "text": [
      "--repositories https://oss.sonatype.org/content/repositories/snapshots/\n",
      " --jars /tmp/gcs-connector-hadoop2-1.9.17-shaded.jar,/tmp/google-cloud-nio-0.120.0-alpha-shaded.jar\n",
      " --conf spark.hadoop.google.cloud.auth.service.account.enable=true\n",
      " --conf spark.hadoop.google.cloud.auth.service.account.json.keyfile=/tmp/secrets/ds-lab-sa.json\n",
      " --conf spark.kubernetes.driverEnv.GCS_PROJECT_ID=bigdata-datascience\n",
      " --conf spark.kubernetes.driverEnv.GOOGLE_APPLICATION_CREDENTIALS=/tmp/secrets/ds-lab-sa.json\n",
      " --conf spark.executorEnv.GCS_PROJECT_ID=bigdata-datascience\n",
      " --conf spark.executorEnv.GOOGLE_APPLICATION_CREDENTIALS=/tmp/secrets/ds-lab-sa.json\n",
      " --conf spark.kubernetes.driver.secrets.ds-lab-sa-secret=/tmp/secrets\n",
      " --conf spark.kubernetes.executor.secrets.ds-lab-sa-secret=/tmp/secrets\n",
      " --conf spark.hadoop.fs.gs.project.id=bigdata-datascience\n",
      " --conf spark.hadoop.fs.gs.impl=com.google.cloud.hadoop.fs.gcs.GoogleHadoopFileSystem\n",
      " --conf spark.hadoop.fs.AbstractFileSystem.gs.impl=com.google.cloud.hadoop.fs.gcs.GoogleHadoopFS\n",
      " --master k8s://https://10.44.64.1:443\n",
      " --conf spark.kubernetes.container.image=biodatageeks/spark-py:v3.0.1\n",
      " --conf spark.kubernetes.authenticate.driver.serviceAccountName=ds-lab-sa\n",
      " --conf spark.kubernetes.authenticate.serviceAccountName=ds-lab-sa\n",
      " --conf spark.kubernetes.executor.podNamePrefix=pyspark-exec-tgambin\n",
      " --conf spark.kubernetes.executor.label.spark-owner=tgambin\n",
      " --conf spark.kubernetes.executor.request.cores=0.4\n",
      " --conf spark.kubernetes.executor.volumes.persistentVolumeClaim.pvc-shared-pipeline.options.claimName=pvc-shared-pipeline\n",
      " --conf spark.kubernetes.executor.volumes.persistentVolumeClaim.pvc-shared-pipeline.mount.path=/mnt/data\n",
      " --conf spark.kubernetes.executor.volumes.persistentVolumeClaim.pvc-shared-pipeline.mount.readOnly=true\n",
      " --conf spark.kubernetes.executor.podTemplateFile=/tmp/exec_pod_template.template\n",
      "\n",
      "--conf spark.driver.port=29010\n",
      " --conf spark.blockManager.port=29011\n",
      " --conf spark.kubernetes.namespace=default\n",
      " --conf spark.driver.host=jupyter-service-tgambin\n",
      " --conf spark.driver.bindAddress=jupyter-tgambin\n",
      " --conf spark.executorEnv.PYSPARK_PYTHON=python3\n",
      " --packages org.biodatageeks:sequila_2.12:0.6.6,io.projectglow:glow-spark3_2.12:0.6.0,org.biodatageeks:seqtender_2.11:0.3.7\n",
      "\n",
      "pyspark-shell\n"
     ]
    }
   ],
   "source": [
    "import os\n",
    "args = os.environ['PYSPARK_SUBMIT_ARGS'].replace(\"  \", \"\\n\")\n",
    "print(args)"
   ]
  },
  {
   "cell_type": "markdown",
   "metadata": {},
   "source": [
    "Mamy pobraną sesję sparkową. Powstały dodatkowe pody gotowe na realizację obliczeń. A jak zwolnić te zasoby?"
   ]
  },
  {
   "cell_type": "code",
   "execution_count": null,
   "metadata": {},
   "outputs": [],
   "source": [
    "spark.stop()"
   ]
  },
  {
   "cell_type": "markdown",
   "metadata": {},
   "source": [
    "Ponownie pobieramy sesję Spark. Będziemy z niej korzystać. Po zakończonej pracy należy pamiętać o zastopowaniu sesji."
   ]
  },
  {
   "cell_type": "code",
   "execution_count": null,
   "metadata": {},
   "outputs": [],
   "source": [
    "from pyspark.sql import SparkSession\n",
    "spark = SparkSession \\\n",
    ".builder \\\n",
    ".config('spark.driver.memory','1g') \\\n",
    ".config('spark.executor.memory', '2g') \\\n",
    ".getOrCreate()"
   ]
  },
  {
   "cell_type": "markdown",
   "metadata": {},
   "source": [
    "## Odczyt danych\n",
    "Korzystając z sesji Spark można odczytać dane zapisane w lokalizacji dostępnej dla executorów (procesów obliczeniowych) koordynowanych przez Spark. \n",
    "Konieczne jest podanie ścieżki dostępowej do pliku i formatu danych (nie jest to jednoznazne z rozszerzeniem pliku).\n",
    "Dystrybucja Spark udostępnia kilka tzw Data Sources, które odczytują i zapisują dane w określonych formatach (CSV, formaty kolumnowe: parquet/orc).\n",
    "Data Sources zgodne z opracowanym interfejsem można samodzielnie tworzyć. Na dzisiejszych zajęciach będziemy korzystać z takich zdefiniowanych DS:\n",
    "* FASTQDataSource\n",
    "* BAMDataSource\n",
    "* VCFDataSource\n",
    "\n",
    "**UWAGA - powyższe sposoby odczytu plików nie są częścią głównej dystrybucji Spark. Wymagana jest dodatkowa konfiguracja.**"
   ]
  },
  {
   "cell_type": "code",
   "execution_count": 5,
   "metadata": {},
   "outputs": [
    {
     "name": "stdout",
     "output_type": "stream",
     "text": [
      "gs://edugen-lab-tgambin2\n"
     ]
    }
   ],
   "source": [
    "import os                               # moduł OS języka Python\n",
    "user_name = os.environ.get('USER')      # pobieramy zmienną środowiskową USER\n",
    "bucket = f\"gs://edugen-lab-{user_name}2\" # konstruujemy sciezke dostepowa do pliku\n",
    "print(bucket)"
   ]
  },
  {
   "cell_type": "markdown",
   "metadata": {},
   "source": [
    "---\n",
    "\n",
    "`Co oznacza f przed cudzysłowem?`\n",
    "\n",
    "`Czy jest różnica między stosowaniem apostrofu i cudzysłowu przy definicji zmiennych przechowywujących łańcuchy znaków?`"
   ]
  },
  {
   "cell_type": "code",
   "execution_count": 21,
   "metadata": {},
   "outputs": [],
   "source": [
    "reads_path = f\"{bucket}/fastq/*\"  # * oznacza wszystkie pliki we wskazanej lokalizacji. Można podać konkretny plik\n",
    "fastq_all = spark.read.load(reads_path, format=\"org.biodatageeks.sequila.datasources.FASTQ.FASTQDataSource\")\n",
    "fastq_all = fastq_all.select(\"sample_id\",\"seq\", \"qual\")"
   ]
  },
  {
   "cell_type": "markdown",
   "metadata": {},
   "source": [
    "### Weryfikacja danych"
   ]
  },
  {
   "cell_type": "code",
   "execution_count": 22,
   "metadata": {},
   "outputs": [
    {
     "data": {
      "text/plain": [
       "pyspark.sql.dataframe.DataFrame"
      ]
     },
     "execution_count": 22,
     "metadata": {},
     "output_type": "execute_result"
    }
   ],
   "source": [
    "type(fastq_all)      # jaki jest typ danych utworzonej zmiennej? "
   ]
  },
  {
   "cell_type": "code",
   "execution_count": 23,
   "metadata": {},
   "outputs": [
    {
     "name": "stdout",
     "output_type": "stream",
     "text": [
      "root\n",
      " |-- sample_id: string (nullable = true)\n",
      " |-- seq: string (nullable = true)\n",
      " |-- qual: string (nullable = true)\n",
      "\n"
     ]
    }
   ],
   "source": [
    "fastq_all.printSchema() # jaki jest schemat danych?"
   ]
  },
  {
   "cell_type": "code",
   "execution_count": 24,
   "metadata": {},
   "outputs": [
    {
     "data": {
      "text/plain": [
       "3"
      ]
     },
     "execution_count": 24,
     "metadata": {},
     "output_type": "execute_result"
    }
   ],
   "source": [
    "len(fastq_all.columns)           # wymiary (liczba kolumn)"
   ]
  },
  {
   "cell_type": "code",
   "execution_count": 25,
   "metadata": {},
   "outputs": [
    {
     "data": {
      "text/plain": [
       "241114"
      ]
     },
     "execution_count": 25,
     "metadata": {},
     "output_type": "execute_result"
    }
   ],
   "source": [
    "fastq_all.count()               # wymiary (liczba wierszy)"
   ]
  },
  {
   "cell_type": "code",
   "execution_count": 26,
   "metadata": {},
   "outputs": [
    {
     "name": "stdout",
     "output_type": "stream",
     "text": [
      "== Parsed Logical Plan ==\n",
      "'Project [unresolvedalias('sample_id, None), unresolvedalias('seq, None), unresolvedalias('qual, None)]\n",
      "+- Relation[sample_id#250,instrument_name#251,run_id#252,flowcell_id#253,lane#254,tile#255,pos_x#256,pos_y#257,filter_passed#258,control_num#259,index_seq#260,seq#261,qual#262] org.biodatageeks.sequila.datasources.FASTQ.SequencedFragmentRelation@372e5706\n",
      "\n",
      "== Analyzed Logical Plan ==\n",
      "sample_id: string, seq: string, qual: string\n",
      "Project [sample_id#250, seq#261, qual#262]\n",
      "+- Relation[sample_id#250,instrument_name#251,run_id#252,flowcell_id#253,lane#254,tile#255,pos_x#256,pos_y#257,filter_passed#258,control_num#259,index_seq#260,seq#261,qual#262] org.biodatageeks.sequila.datasources.FASTQ.SequencedFragmentRelation@372e5706\n",
      "\n",
      "== Optimized Logical Plan ==\n",
      "Project [sample_id#250, seq#261, qual#262]\n",
      "+- Relation[sample_id#250,instrument_name#251,run_id#252,flowcell_id#253,lane#254,tile#255,pos_x#256,pos_y#257,filter_passed#258,control_num#259,index_seq#260,seq#261,qual#262] org.biodatageeks.sequila.datasources.FASTQ.SequencedFragmentRelation@372e5706\n",
      "\n",
      "== Physical Plan ==\n",
      "*(1) Scan org.biodatageeks.sequila.datasources.FASTQ.SequencedFragmentRelation@372e5706 [sample_id#250,seq#261,qual#262] PushedFilters: [], ReadSchema: struct<sample_id:string,seq:string,qual:string>\n",
      "\n"
     ]
    }
   ],
   "source": [
    "fastq_all.explain(True)              #  plan wykonania"
   ]
  },
  {
   "cell_type": "markdown",
   "metadata": {},
   "source": [
    "DataFrame jest abstrakcją nad innym typem danych (RDD), który jest podstawową rozproszoną strukturą danych. Poprzez DF możemy dostać się do rdd i zweryfikować na przykład liczbę partycji danych."
   ]
  },
  {
   "cell_type": "code",
   "execution_count": 27,
   "metadata": {},
   "outputs": [
    {
     "data": {
      "text/plain": [
       "3"
      ]
     },
     "execution_count": 27,
     "metadata": {},
     "output_type": "execute_result"
    }
   ],
   "source": [
    "fastq_all.rdd.getNumPartitions() # liczba partycji (bloków danych)"
   ]
  },
  {
   "cell_type": "markdown",
   "metadata": {},
   "source": [
    "### Podgląd danych"
   ]
  },
  {
   "cell_type": "code",
   "execution_count": 28,
   "metadata": {},
   "outputs": [
    {
     "name": "stdout",
     "output_type": "stream",
     "text": [
      "+---------+--------------------+--------------------+\n",
      "|sample_id|                 seq|                qual|\n",
      "+---------+--------------------+--------------------+\n",
      "|      son|GATGCTCAAACTCCAGG...|=>>=@==?>>=>>>?9<...|\n",
      "|      son|ATTGTGCTTAACAATGC...|995+7))>:,,94=,=9...|\n",
      "|      son|CATCTATTTAGCTGAAA...|=>:>A?>0=:?=?>;1>...|\n",
      "|      son|TTCCTGTACCTCCTTCC...|..6=:8,:=>.=+;<>=...|\n",
      "|      son|CATACCTAGCATGGCCT...|=>>=>??>?>?>>=>?@...|\n",
      "|      son|ACTAAATTGCCATGGTA...|;:=<>>=<>>=>==<=9...|\n",
      "|      son|AACACAGGTGGGAATTG...|10<:;=.>>78:>==>>...|\n",
      "|      son|CATGTTAAGCTGCATGT...|;<<+7===?>>9>=:=<...|\n",
      "|      son|CTTTAGTAATTTTCCTC...|=?7=?@>>>>===>>?>...|\n",
      "|      son|TAAATATTTCACAACAC...|;;<=>>:<=>>;>=;<<...|\n",
      "|      son|ATCTTTGCATTTGACAC...|=>>??><=?>9=;>=?=...|\n",
      "|      son|AACACCAGCCTGGCCAA...|9<:=:>4)>8><==+5,...|\n",
      "|      son|AACACTTCTGTAGAAAA...|1><>>@>>@><>?>?1>...|\n",
      "|      son|GTGAGAAAATAAACCAA...|;9;8>,;==>27=;+83...|\n",
      "|      son|TATACCTGGGAATGGGG...|==>=>??>>>=>>>>>>...|\n",
      "|      son|AGGAAATGTCCAGCTTA...|.<;=>===>>7>>=:<=...|\n",
      "|      son|GAATCTAATTGTCTTGG...|1:>>@@=?>=>>>?=>>...|\n",
      "|      son|TATAGAGCCCCAACCAC...|;;<<>>>=:>=>><=><...|\n",
      "|      son|TTTGAGAAAACTTACAG...|====@@>>>>=?=>=??...|\n",
      "|      son|ATCTGCTACTATAAGCA...|;<<>=9><=?<===>>=...|\n",
      "+---------+--------------------+--------------------+\n",
      "only showing top 20 rows\n",
      "\n"
     ]
    }
   ],
   "source": [
    "fastq_all.show()"
   ]
  },
  {
   "cell_type": "code",
   "execution_count": 29,
   "metadata": {},
   "outputs": [
    {
     "name": "stdout",
     "output_type": "stream",
     "text": [
      "+---------+--------------------+--------------------+\n",
      "|sample_id|                 seq|                qual|\n",
      "+---------+--------------------+--------------------+\n",
      "|      son|GATGCTCAAACTCCAGG...|=>>=@==?>>=>>>?9<...|\n",
      "|      son|ATTGTGCTTAACAATGC...|995+7))>:,,94=,=9...|\n",
      "|      son|CATCTATTTAGCTGAAA...|=>:>A?>0=:?=?>;1>...|\n",
      "|      son|TTCCTGTACCTCCTTCC...|..6=:8,:=>.=+;<>=...|\n",
      "|      son|CATACCTAGCATGGCCT...|=>>=>??>?>?>>=>?@...|\n",
      "+---------+--------------------+--------------------+\n",
      "only showing top 5 rows\n",
      "\n"
     ]
    }
   ],
   "source": [
    "fastq_all.show(5)  # pierwsze 5 wierszy"
   ]
  },
  {
   "cell_type": "code",
   "execution_count": 30,
   "metadata": {},
   "outputs": [
    {
     "name": "stdout",
     "output_type": "stream",
     "text": [
      "+---------+-------------------------------------------------------------------------------------------------------------------------------------------------------+-------------------------------------------------------------------------------------------------------------------------------------------------------+\n",
      "|sample_id|seq                                                                                                                                                    |qual                                                                                                                                                   |\n",
      "+---------+-------------------------------------------------------------------------------------------------------------------------------------------------------+-------------------------------------------------------------------------------------------------------------------------------------------------------+\n",
      "|son      |GATGCTCAAACTCCAGGTAGTAACCTCAGGTTGTATCATAGCTCCTTTAGGGTACCTCACTGTTTTTAATAAGCACATGGTAAGGATGATGACTTCTCGTCATCTGAACGTATAATATAACAAAAACCTAAGCTACCCAAAGATGAGGAGT|=>>=@==?>>=>>>?9<=>?>>9:>?8>=>9<>=:==-=28=58=.;+;?)466;>?1.8>67<+9;>>=>=>:6<5>>':=5'5<=)9*),=-*1,+'*3=,)9)7+)$,,+?>;,,35?.?,@?*6=?@*8A,3,,7>9=..*<7=.-;|\n",
      "|son      |ATTGTGCTTAACAATGCTGTTCTGATCATGTCGAGCCCTAGATCGACAGGAGTTATTCACTATCCAAGATTATCAGGGCATAGCAAGAGAAGTTGTAGCATACACAATGATGCGCATGTCCCCCAGACTCTTCGATATGCGCAAAGTCGCT|995+7))>:,,94=,=96=,+79)6=+.,)6,$,)3++<+=,>269*;*=>)8<+;34?:/:,+?.-*6;>>;?@6???########################################################################|\n",
      "|son      |CATCTATTTAGCTGAAAGTATTAGAATTTCCAACTCAGAATTAAATAATATGAGAGCCATAAGGATTCAAACTGAAATGTCCAAAGATTGATTTGGCTTTAGGTAAAGCTTGATCTAGGCTCTTAACATGTGTGGGTTTCTTTTCTCTAAT|=>:>A?>0=:?=?>;1>?==>=>?9>>==7>=><>=>>:7=6=<=>==>>>>=>,?><?9;;7:<>=>-=,<>=:81<>=4;-0:9=>;=<==*/:=?864?;72=7(=@>5=??@;>?:/</>68*9-+5*8*?)-4?6;?=??:-?70<|\n",
      "|son      |TTCCTGTACCTCCTTCCCTTACCAATCCACCACTAATCTCTTTCTCTCCTCCCTGGATGTTCAGCTGGATTCTTACATCAGAGGCCTGAAATAATATCACCGATTGAGCTGCTTTGCTTACGGTGATGAAAGACTTGTGCTGGTACTGGCG|..6=:8,:=>.=+;<>===;+<7-<7==68=>:9+=>:7>>+;<;8/>>;>>,<1=-,)=6:=)?=638-,8/+7>.:>6*6>7*</)-8,-79-;-8-??%5->*,;>9+;#######################################|\n",
      "|son      |CATACCTAGCATGGCCTGCTACTCAATCCAAAAGATTTTCCGTACAAGGAGGTAAAATTACATACTAGAATGCCCATCACAATTTAACAGGGAGATTGTTTATGAAGATTTGCAGTTTCCTTGCAGCCATTTAACTACATCTTTTCAACTT|=>>=>??>?>?>>=>?@>>?==?>?>>>>?>=>>=8<<<==7==<?=>>>?>>==>>>=><>===?>?>=>=<=<>=>?:>==<;<==>>==>>;=<><)8>>>>?@=>=>=(@@>>=?>/?@5?A*6.<>,<-;@@>?98B@???/=;=;|\n",
      "|son      |ACTAAATTGCCATGGTAAGGGTTTGAGTTCCCACCATCTATCTACATGGTTTCACACCAGCAAAATAGAGAGATCATGCAGGTTTTAATAGTTTTAAGGTGTTATAAAAACAGATAATTTTGGGGTATTGATTATAAACAATGCGAGTGTG|;:=<>>=<>>=>==<=9=>===<<==>=;6=><;=->>?2>:?=8<>>=;;<>==><>??>=:>???;?@?8->?@;9*9@?:>>,????9?>>,;@A9@?-=;;,?<8@+.*@9;-;,>5*)9?5,@?*9>6A@;6;:>###########|\n",
      "|son      |AACACAGGTGGGAATTGACCCCAGAGACTTGGGATAGACACAATTCTTCAATAACATAGAATAGGCCTGAAGTGCTCAGTTCTGTCTAGAAGCTCACTACTCAAATATATACTGTGGGGGAAAGTAACCGCCTGATGGTTAAAAGGCTGGC|10<:;=.>>78:>==>>>=<>>>;>>>=.:>8>6==>:<>)>==;6><>9>8>==?;>>><;=>>9>=<+=>509<49?4<;>5<5.>839=9>;;1:2'>928==?+>?39@==??==?---2>@8:,:4;9@=@@)6?>.A@*?8><<<|\n",
      "|son      |CATGTTAAGCTGCATGTTAAGTTGTCGCAATCTATTTAAACCAGGAACCCCTAACTATGAGTGTCTTAGAAAGTCTGGGCTGAAGTAAATCTCCAAAATGTCTACTGATTTCATGAATGAGGAAACTGAGGAAGAGGATGAAATACGGGGC|;<<+7===?>>9>=:=<+==)=:<;:7><=6>=<,22>;==+58>><<>9,7==:?>7><*48>>?;?@??>;,???=6>@=;?>??;?7+@8,.6@5,)-?9,:=)?78-,.-?>--@-5;6>-*/?@A)-5B:?@A5@@.-@@######|\n",
      "|son      |CTTTAGTAATTTTCCTCCTTTCCTGTCTTATTTCCTCACTCCTGTCCATTGTTTCCTGGGATCACTCCCGAAGCAAATCACTTGCACTCACATCCACATCTCTACTTCTGGGGAGTCCCAAACTCACACGACATTTTTCTACAAAGGAAAA|=?7=?@>>>>===>>?>>?==>>=>>>?=<><===>=><>==>==>=>>=>>=<>>?>>><==>=?>>>3><>=<=<>>><><=<=<?=><>9=<><?<===?>9@>=>=????>7?576<?*?,<?A*&@=A=>???@?><A@@@>=9=<|\n",
      "|son      |TAAATATTTCACAACACTGCAAAACTTGCACCGCTGCTGCACACAGGCAAACAGTATGAATTCCCACAGGGCTTGGCCAAGACACTGTGTCATCAGTGCATCCATAGTGTTATCTACAGTTTTTAATTGCCGCTATTCTTGCTGCTTAATC|;;<=>>:<=>>;>=;<<>==>=;=<><=<>;>7:>>7?>>5=?<=?>:?98;??;;>=<>>=9:?@>@>??>@>?=??>?@?>?>>??=:?@??@?@@:-?@>??;@;999@@@B=??8;9?3>;????8?.7>8@?A=?@:??@?==::=|\n",
      "|son      |ATCTTTGCATTTGACACAATGGAACATTTTTTAAAATAAACTAAAAATTCAAATGAAAGCAAATGGTTTCCAGTGTGTGTCCTTTTTTAGATTGATGTTGGCATTTTTAAAATAAGGAACTTAATCAACTGTAAGTTTTTTGTTGTTGTTT|=>>??><=?>9=;>=?=?>>=>9><?>==<=<>==<==3=<>======;5?>>=>>><?=<4+=;>>;+==9>+)3(>>==;><;-44=53=<;<;:;;1=5?>+>>:+>?>???6???</>;?@@??:>*@@@=-??>?7AA8@--:<;8|\n",
      "|son      |AACACCAGCCTGGCCAACAAGGCAAAACCGCGCCTCTACTAACAATGCAAAAAAAAATTAGCCAGGGGAGGTGACGGCGCCTGTAATAACAGTTGCTTAGAATACAAAGGCAAAATTGAAACTTAAAGTACATAGGCAAAGGTTGAAGATA|9<:=:>4)>8><==+5,9><)==>=,=5<6=,94>:?69>+><>>4>:>>>><><9>:=>?79?@=?:-*7,=?*7)>/4?;=;=?-+->@>;;#########################################################|\n",
      "|son      |AACACTTCTGTAGAAAAGCAGTTGAAATAACCTAGTGTCATTCTAAAATGATTTGTATACTATGCAGACCAGAATCTAGGGCTATACCTAAAAATACATAAATGAAATTATTCTAGAAGTTATATCTTTATGAAAAAACAAATTAAATGGT|1><>>@>>@><>?>?1><=>?>=4>>>>>>:=?;;56==>=<:>=>==>>>>=<8>;>>=:==2)??+==?4<=9==>=;=;>=<88>>=<===7=<?;6<+5;4;;===,>5@;?<,@:;<-=@,=;,57*--75-:?@9A9?,->>9,<|\n",
      "|son      |GTGAGAAAATAAACCAACACATAAGCCAACTCTCAGAATATGGTTATACATAGGTGTAGCCTATGACTTTGAATGTATTTGTTTGAATAGCGTAAAACAAAATAAAAATAAAATCTGTTTACGGTGCAAGAGAGGGCATTGATACAACGAA|;9;8>,;==>27=;+83<>0>>=88=+5<8;,.=>:>84+,<==<7>6=?>>>),>;6<*8:9,??*?=;?>?7=?;:,;?8+>?:-?46)/6,-6<=78-9:,-@,-,8.6=@,@*-,6,4%?>3*.=4=*;*;>###############|\n",
      "|son      |TATACCTGGGAATGGGGCAAGAATATCTCGTGCGATTTTATTGATACTAGCGGAGAAGGGCATCACACTTCTGCCAGCTCACAGGCACCAGCCTAGGCAAGGCACATTCTAAGACATCAGCAGATTGCATCAATAATCTCTTGGTCATGGT|==>=>??>>>=>>>>>>>?>?>>>>>>?>8>=>5==<;<==<=<=><>>?>8>=?>>?><=;==?=8=?<>>=:=8>>?<><;>.<-=3><=>=<>=>==>>><=@::=@??=?:@??@>?AA?@>@??@@A@@?@@@@@A@A@;??=<<;|\n",
      "|son      |AGGAAATGTCCAGCTTAACCTGCTGGGCACAACAATTTTGCTGCTTCAACCCATCTGCTATGGAAAATGAGGAGCCAACAAAAAAGGGAGAAACAGAGGTGAAGGCACCTGATGATCGAAGCTTCGAGAAGGGGAAGGGGTAAGTACATGC|.<;=>===>>7>>=:<==<=>==>==<=<<>><>:>===>>?>=?=>?;:>>?><=>)=>><>=?>?>?>@>9@;?>?>@?????@==>>??<>@?@A=>3?,?:*7:+/A-8*@-5%--3*?+,%-8:6*)@A@?@<6@>=6A@-7<9:=|\n",
      "|son      |GAATCTAATTGTCTTGGAGTCCTTCAGCTGACTGATTTTTCAACTGGTTTGGAGGAGGTTTTTTGGACATTTTGGTGGAATATAAGGAAACAGAGTTTGTCTCTTTGACTACCTTCATCACAGAGTAACAGCTACATACTTACCTGAAGCC|1:>>@@=?>=>>>?=>>>?=>>?=>??>;>><?==<<<<<=>=:>>====>>>>>>?>=<<<<:>>>=?=<<<====>><====7=<===<=?<==<=<:=><?=>?83<?<=@>???:>?A?:3@,@*@A?>=>A?????A5@=?7>=-:|\n",
      "|son      |TATAGAGCCCCAACCACTCATAGTTTATCCGTAGCTTTTTTTGAAGCCATTCTTCATGTTTATTGAAGGAGCCACCCACTGAGCCCAACATCTGCTTTCCTCAGAAGCTCAAGGGCTAGGTCAACTGAAATAGTAAGTCACGTGGAGTTGT|;;<<>>>=:>=>><=><>;>==>:<<==<=7>=>=>======>9>;7>>>=:?:8?;>;==>>=???>9?@)>@>8>@>?=?>8??@>>@9>@??A>?:@@@;??9@@@<@@<)??8;@>>,?5>@>@@?@<:?@8AA5@?2=?;@>7;:;|\n",
      "|son      |TTTGAGAAAACTTACAGTAAAGATTTACATTCATCTTCTAGGTACCAGAAACTACACTGTTATCTTGTCCAGGCAAAAACTGGTCCACAAGAGAGTCCTATCATATTTGGGTTGTACCAGCAAAAAATAAGTTGGGCTGGGTCTAGATCTG|====@@>>>>=?=>=??>>>>>>>==>=?>==?==><=>=>===:>>>><>=?==?<?=<<===?=>>>=?>;=>==>><>==2<<>=>=>===;7=><==>?>>?><>???>???>?;>@A@,-@@?6@A;??<@@A>@@AAA>;>9<<9|\n",
      "|son      |ATCTGCTACTATAAGCAATTTTATAAGTTCCTTGAGGTTGAAGAAATTAAACAATATGCTTGATCTGGTCTTTGGATTACAGATCTTTCATTTCAGATCTAGACCCAGCCCAACTTATTGTTTGCTGGTACAACCCAAATATGATAGGACT|;<<>=9><=?<===>>==><5<===;>=<===5==?>::>==6<>>>==>>=?>8>>>9?=<,>?@?????8>??>;>?>@@???@>>?@=>>?@A@@>A>A@=??@A?@AAA@B>4??>>?=??@?@@@;?>@@@AA@@7@9@<@>5<9>|\n",
      "+---------+-------------------------------------------------------------------------------------------------------------------------------------------------------+-------------------------------------------------------------------------------------------------------------------------------------------------------+\n",
      "only showing top 20 rows\n",
      "\n"
     ]
    }
   ],
   "source": [
    "fastq_all.show(truncate=False) # bez skracania zawartości kolumn"
   ]
  },
  {
   "cell_type": "markdown",
   "metadata": {},
   "source": [
    "Widok \"szerokich\" tabel jest nieczytelny, w kolejnych częściach warsztatów zaradzimy temu korzystając z dodatkowej biblioteki."
   ]
  },
  {
   "cell_type": "markdown",
   "metadata": {},
   "source": [
    "## Dostęp do wybranych danych"
   ]
  },
  {
   "cell_type": "markdown",
   "metadata": {},
   "source": [
    "#### Operacja projekcji (SELECT)"
   ]
  },
  {
   "cell_type": "code",
   "execution_count": 31,
   "metadata": {},
   "outputs": [
    {
     "name": "stdout",
     "output_type": "stream",
     "text": [
      "+---------+\n",
      "|sample_id|\n",
      "+---------+\n",
      "|      son|\n",
      "|      son|\n",
      "|      son|\n",
      "|      son|\n",
      "|      son|\n",
      "|      son|\n",
      "|      son|\n",
      "|      son|\n",
      "|      son|\n",
      "|      son|\n",
      "|      son|\n",
      "|      son|\n",
      "|      son|\n",
      "|      son|\n",
      "|      son|\n",
      "|      son|\n",
      "|      son|\n",
      "|      son|\n",
      "|      son|\n",
      "|      son|\n",
      "+---------+\n",
      "only showing top 20 rows\n",
      "\n"
     ]
    }
   ],
   "source": [
    "fastq_all.select(\"sample_id\").show()"
   ]
  },
  {
   "cell_type": "markdown",
   "metadata": {},
   "source": [
    "`Czy operacja select (sample_id) wpłynęła na oryginalny data frame fastq_all?`"
   ]
  },
  {
   "cell_type": "code",
   "execution_count": 32,
   "metadata": {},
   "outputs": [
    {
     "name": "stdout",
     "output_type": "stream",
     "text": [
      "root\n",
      " |-- sample_id: string (nullable = true)\n",
      " |-- seq: string (nullable = true)\n",
      " |-- qual: string (nullable = true)\n",
      "\n",
      "+---------+--------------------+--------------------+\n",
      "|sample_id|                 seq|                qual|\n",
      "+---------+--------------------+--------------------+\n",
      "|      son|GATGCTCAAACTCCAGG...|=>>=@==?>>=>>>?9<...|\n",
      "|      son|ATTGTGCTTAACAATGC...|995+7))>:,,94=,=9...|\n",
      "|      son|CATCTATTTAGCTGAAA...|=>:>A?>0=:?=?>;1>...|\n",
      "|      son|TTCCTGTACCTCCTTCC...|..6=:8,:=>.=+;<>=...|\n",
      "|      son|CATACCTAGCATGGCCT...|=>>=>??>?>?>>=>?@...|\n",
      "|      son|ACTAAATTGCCATGGTA...|;:=<>>=<>>=>==<=9...|\n",
      "|      son|AACACAGGTGGGAATTG...|10<:;=.>>78:>==>>...|\n",
      "|      son|CATGTTAAGCTGCATGT...|;<<+7===?>>9>=:=<...|\n",
      "|      son|CTTTAGTAATTTTCCTC...|=?7=?@>>>>===>>?>...|\n",
      "|      son|TAAATATTTCACAACAC...|;;<=>>:<=>>;>=;<<...|\n",
      "|      son|ATCTTTGCATTTGACAC...|=>>??><=?>9=;>=?=...|\n",
      "|      son|AACACCAGCCTGGCCAA...|9<:=:>4)>8><==+5,...|\n",
      "|      son|AACACTTCTGTAGAAAA...|1><>>@>>@><>?>?1>...|\n",
      "|      son|GTGAGAAAATAAACCAA...|;9;8>,;==>27=;+83...|\n",
      "|      son|TATACCTGGGAATGGGG...|==>=>??>>>=>>>>>>...|\n",
      "|      son|AGGAAATGTCCAGCTTA...|.<;=>===>>7>>=:<=...|\n",
      "|      son|GAATCTAATTGTCTTGG...|1:>>@@=?>=>>>?=>>...|\n",
      "|      son|TATAGAGCCCCAACCAC...|;;<<>>>=:>=>><=><...|\n",
      "|      son|TTTGAGAAAACTTACAG...|====@@>>>>=?=>=??...|\n",
      "|      son|ATCTGCTACTATAAGCA...|;<<>=9><=?<===>>=...|\n",
      "+---------+--------------------+--------------------+\n",
      "only showing top 20 rows\n",
      "\n"
     ]
    }
   ],
   "source": [
    "fastq_all.printSchema()\n",
    "fastq_all.show() "
   ]
  },
  {
   "cell_type": "markdown",
   "metadata": {},
   "source": [
    "Jeśli chcemy zachować wynik działania transformacji (w celu późniejszego wykorzystania) trzeba wynik zachować w zmiennej."
   ]
  },
  {
   "cell_type": "code",
   "execution_count": 33,
   "metadata": {},
   "outputs": [],
   "source": [
    "fastq_sample_only = fastq_all.select(\"sample_id\")  "
   ]
  },
  {
   "cell_type": "code",
   "execution_count": 34,
   "metadata": {},
   "outputs": [
    {
     "name": "stdout",
     "output_type": "stream",
     "text": [
      "root\n",
      " |-- sample_id: string (nullable = true)\n",
      "\n",
      "+---------+\n",
      "|sample_id|\n",
      "+---------+\n",
      "|      son|\n",
      "|      son|\n",
      "|      son|\n",
      "|      son|\n",
      "|      son|\n",
      "|      son|\n",
      "|      son|\n",
      "|      son|\n",
      "|      son|\n",
      "|      son|\n",
      "|      son|\n",
      "|      son|\n",
      "|      son|\n",
      "|      son|\n",
      "|      son|\n",
      "|      son|\n",
      "|      son|\n",
      "|      son|\n",
      "|      son|\n",
      "|      son|\n",
      "+---------+\n",
      "only showing top 20 rows\n",
      "\n"
     ]
    }
   ],
   "source": [
    "fastq_sample_only.printSchema()\n",
    "fastq_sample_only.show()"
   ]
  },
  {
   "cell_type": "code",
   "execution_count": 35,
   "metadata": {},
   "outputs": [
    {
     "name": "stdout",
     "output_type": "stream",
     "text": [
      "+---------+--------------------+\n",
      "|sample_id|                 seq|\n",
      "+---------+--------------------+\n",
      "|      son|GATGCTCAAACTCCAGG...|\n",
      "|      son|ATTGTGCTTAACAATGC...|\n",
      "|      son|CATCTATTTAGCTGAAA...|\n",
      "|      son|TTCCTGTACCTCCTTCC...|\n",
      "|      son|CATACCTAGCATGGCCT...|\n",
      "|      son|ACTAAATTGCCATGGTA...|\n",
      "|      son|AACACAGGTGGGAATTG...|\n",
      "|      son|CATGTTAAGCTGCATGT...|\n",
      "|      son|CTTTAGTAATTTTCCTC...|\n",
      "|      son|TAAATATTTCACAACAC...|\n",
      "|      son|ATCTTTGCATTTGACAC...|\n",
      "|      son|AACACCAGCCTGGCCAA...|\n",
      "|      son|AACACTTCTGTAGAAAA...|\n",
      "|      son|GTGAGAAAATAAACCAA...|\n",
      "|      son|TATACCTGGGAATGGGG...|\n",
      "|      son|AGGAAATGTCCAGCTTA...|\n",
      "|      son|GAATCTAATTGTCTTGG...|\n",
      "|      son|TATAGAGCCCCAACCAC...|\n",
      "|      son|TTTGAGAAAACTTACAG...|\n",
      "|      son|ATCTGCTACTATAAGCA...|\n",
      "+---------+--------------------+\n",
      "only showing top 20 rows\n",
      "\n"
     ]
    }
   ],
   "source": [
    "fastq_all.select(\"sample_id\",\"seq\").show()"
   ]
  },
  {
   "cell_type": "markdown",
   "metadata": {},
   "source": [
    "Powiedzmy, że interesują nas wszystkie kolumny poza qual. Jak to zrobic? Można wylistować wszystkie kolumny poza qual, ale to uciazliwe. Mozna skorzystac z operacji drop."
   ]
  },
  {
   "cell_type": "code",
   "execution_count": 36,
   "metadata": {},
   "outputs": [],
   "source": [
    "fastq_no_qual=fastq_all.drop('qual')"
   ]
  },
  {
   "cell_type": "markdown",
   "metadata": {},
   "source": [
    "`Czy operacja usunięcia kolumny qual wpłynęła na oryginalny data frame fastq_all?`"
   ]
  },
  {
   "cell_type": "code",
   "execution_count": 37,
   "metadata": {},
   "outputs": [
    {
     "name": "stdout",
     "output_type": "stream",
     "text": [
      "root\n",
      " |-- sample_id: string (nullable = true)\n",
      " |-- seq: string (nullable = true)\n",
      "\n",
      "+---------+--------------------+\n",
      "|sample_id|                 seq|\n",
      "+---------+--------------------+\n",
      "|      son|GATGCTCAAACTCCAGG...|\n",
      "|      son|ATTGTGCTTAACAATGC...|\n",
      "|      son|CATCTATTTAGCTGAAA...|\n",
      "|      son|TTCCTGTACCTCCTTCC...|\n",
      "|      son|CATACCTAGCATGGCCT...|\n",
      "|      son|ACTAAATTGCCATGGTA...|\n",
      "|      son|AACACAGGTGGGAATTG...|\n",
      "|      son|CATGTTAAGCTGCATGT...|\n",
      "|      son|CTTTAGTAATTTTCCTC...|\n",
      "|      son|TAAATATTTCACAACAC...|\n",
      "|      son|ATCTTTGCATTTGACAC...|\n",
      "|      son|AACACCAGCCTGGCCAA...|\n",
      "|      son|AACACTTCTGTAGAAAA...|\n",
      "|      son|GTGAGAAAATAAACCAA...|\n",
      "|      son|TATACCTGGGAATGGGG...|\n",
      "|      son|AGGAAATGTCCAGCTTA...|\n",
      "|      son|GAATCTAATTGTCTTGG...|\n",
      "|      son|TATAGAGCCCCAACCAC...|\n",
      "|      son|TTTGAGAAAACTTACAG...|\n",
      "|      son|ATCTGCTACTATAAGCA...|\n",
      "+---------+--------------------+\n",
      "only showing top 20 rows\n",
      "\n"
     ]
    }
   ],
   "source": [
    "fastq_no_qual.printSchema()\n",
    "fastq_no_qual.show()"
   ]
  },
  {
   "cell_type": "markdown",
   "metadata": {},
   "source": [
    "## Wartości unikalne\n",
    "Jeśli chcemy uzyskać unikalne wartości w określonych kolumnach korzystamy z metody distinct().\n",
    "Operacje na DF można łańcuchowo łączyć, zatem na wyniku działania select() można wywołać kolejne metody."
   ]
  },
  {
   "cell_type": "code",
   "execution_count": 38,
   "metadata": {},
   "outputs": [
    {
     "name": "stdout",
     "output_type": "stream",
     "text": [
      "+---------+\n",
      "|sample_id|\n",
      "+---------+\n",
      "|   father|\n",
      "|   mother|\n",
      "|      son|\n",
      "+---------+\n",
      "\n"
     ]
    }
   ],
   "source": [
    "fastq_all.select('sample_id').distinct().show()"
   ]
  },
  {
   "cell_type": "code",
   "execution_count": 40,
   "metadata": {},
   "outputs": [
    {
     "data": {
      "text/plain": [
       "241114"
      ]
     },
     "execution_count": 40,
     "metadata": {},
     "output_type": "execute_result"
    }
   ],
   "source": [
    "fastq_all.count()"
   ]
  },
  {
   "cell_type": "markdown",
   "metadata": {},
   "source": [
    "# Sortowanie\n",
    "\n",
    "Do sortowania służy metoda orderBy. Domyślne sortowanie jest rosnące."
   ]
  },
  {
   "cell_type": "code",
   "execution_count": 41,
   "metadata": {},
   "outputs": [
    {
     "name": "stdout",
     "output_type": "stream",
     "text": [
      "+---------+\n",
      "|sample_id|\n",
      "+---------+\n",
      "|   father|\n",
      "|   mother|\n",
      "|      son|\n",
      "+---------+\n",
      "\n"
     ]
    }
   ],
   "source": [
    "fastq_all.select('sample_id').distinct().orderBy('sample_id').show()"
   ]
  },
  {
   "cell_type": "code",
   "execution_count": 42,
   "metadata": {},
   "outputs": [
    {
     "name": "stdout",
     "output_type": "stream",
     "text": [
      "+---------+\n",
      "|sample_id|\n",
      "+---------+\n",
      "|      son|\n",
      "|   mother|\n",
      "|   father|\n",
      "+---------+\n",
      "\n"
     ]
    }
   ],
   "source": [
    "fastq_all.select('sample_id').distinct().orderBy('sample_id', ascending=False).show()"
   ]
  },
  {
   "cell_type": "code",
   "execution_count": 43,
   "metadata": {},
   "outputs": [
    {
     "name": "stdout",
     "output_type": "stream",
     "text": [
      "+---------+--------------------+--------------------+\n",
      "|sample_id|                 seq|                qual|\n",
      "+---------+--------------------+--------------------+\n",
      "|      son|TTTTTTTTTTTTTTTTT...|..--61<:::5:+5:<1...|\n",
      "|      son|TTTTTTTTTTTTTTTTT...|;:;:=++<<=++=<<=+...|\n",
      "|      son|TTTTTTTTTTTTTTTTT...|;;;<=<<+1:1<<9<2+...|\n",
      "|      son|TTTTTTTTTTTTTTTTT...|;;--=+<1<2+<:<<=+...|\n",
      "|      son|TTTTTTTTTTTTTTTTT...|;;;<==<1+:<<<<:<<...|\n",
      "|      son|TTTTTTTTTTTTTTTTT...|;;;<=+<:<=:511:69...|\n",
      "|      son|TTTTTTTTTTTTTTTTT...|.:-<61<<56+<<1++<...|\n",
      "|      son|TTTTTTTTTTTTTTTTT...|;;;<=9+5=,<+<+6<<...|\n",
      "|      son|TTTTTTTTTTTTTTTTT...|;;;<=<<1+=+1:5+<1...|\n",
      "|      son|TTTTTTTTTTTTTTTTT...|;:;<==<<==<<<<<<+...|\n",
      "|      son|TTTTTTTTTTTTTTTTT...|9:-:==:<5:15:<:+9...|\n",
      "|      son|TTTTTTTTTTTTTTTTT...|;:;<==<<56<<1<<<<...|\n",
      "|      son|TTTTTTTTTTTTTTTTT...|;:;<==<<<2<<:<<<<...|\n",
      "|      son|TTTTTTTTTTTTTTTTG...|;:;<=9++5=1+++<<1...|\n",
      "|      son|TTTTTTTTTTTTTTTTG...|;:8<=+<5+255<1<<8...|\n",
      "|      son|TTTTTTTTTTTTTTTTC...|;;;<=+5:5,<<+<663...|\n",
      "|      son|TTTTTTTTTTTTTTTTA...|;;;<=1+<=,1<=<+=9...|\n",
      "|      son|TTTTTTTTTTTTTTTTA...|;;;<==<+<6++:5:++...|\n",
      "|      son|TTTTTTTTTTTTTTTCT...|;.5-;9:<<,+1=+++....|\n",
      "|      son|TTTTTTTTTTTTTTTAA...|.:8:6955<:<5+56+3...|\n",
      "+---------+--------------------+--------------------+\n",
      "only showing top 20 rows\n",
      "\n"
     ]
    }
   ],
   "source": [
    "fastq_all.orderBy('sample_id', 'seq', ascending=False).show()  # kierunek sortowania jest wspólny dla listy kolumn"
   ]
  },
  {
   "cell_type": "code",
   "execution_count": 44,
   "metadata": {},
   "outputs": [
    {
     "name": "stdout",
     "output_type": "stream",
     "text": [
      "+---------+--------------------+--------------------+\n",
      "|sample_id|                 seq|                qual|\n",
      "+---------+--------------------+--------------------+\n",
      "|   mother|AAAAAAAAAAAAAAAAA...|====??=>>>8>>>>>>...|\n",
      "|   mother|AAAAAAAAAAAAAAAAA...|;<9<=>>==:=======...|\n",
      "|   father|AAAAAAAAAAAAAAAAA...|/;.:/78844<8,=<47...|\n",
      "|   mother|AAAAAAAAAAAAAAAAA...|====??>>>>>>>>>>>...|\n",
      "|   mother|AAAAAAAAAAAAAAAAA...|==;=??=>=>9>:>>>>...|\n",
      "|   mother|AAAAAAAAAAAAAAAAA...|====??>>>>>>>>>>>...|\n",
      "|   mother|AAAAAAAAAAAAAAAAA...|;;;<=>===9<==7===...|\n",
      "|   mother|AAAAAAAAAAAAAAAAA...|==;<=?>>=>9>9>==>...|\n",
      "|   mother|AAAAAAAAAAAAAAAAA...|;;;<=>>==>======<...|\n",
      "|   mother|AAAAAAAAAAAAAAAAA...|===<??>>>>>>>>>:>...|\n",
      "|   mother|AAAAAAAAAAAAAAAAA...|===<??>>>>>>=>>>>...|\n",
      "|   mother|AAAAAAAAAAAAAAAAA...|;;;<=>>==>=======...|\n",
      "|   mother|AAAAAAAAAAAAAAAAA...|====??>=>><>>>>>>...|\n",
      "|   mother|AAAAAAAAAAAAAAAAA...|;;9:/9;:=.83=####...|\n",
      "|   mother|AAAAAAAAAAAAAAAAA...|;;;<=>>==>=======...|\n",
      "|   mother|AAAAAAAAAAAAAAAAA...|=====?>>=>>>=>>==...|\n",
      "|   mother|AAAAAAAAAAAAAAAAA...|=====?>>>>>>9=>>=...|\n",
      "|   father|AAAAAAAAAAAAAAAAA...|/07.=;3--8=88=8,,...|\n",
      "|   mother|AAAAAAAAAAAAAAAAA...|====??=>>>>>>>>>>...|\n",
      "|      son|AAAAAAAAAAAAAAAAA...|;<<=>>===>7=;==<=...|\n",
      "+---------+--------------------+--------------------+\n",
      "only showing top 20 rows\n",
      "\n"
     ]
    }
   ],
   "source": [
    "fastq_all.orderBy('sample_id', ascending=False).orderBy('seq', ascending=True).show() # sortowanie malejace i rosnące na dwóch roznych kolumnach "
   ]
  },
  {
   "cell_type": "markdown",
   "metadata": {},
   "source": [
    "### Filtrowanie wynikow\n",
    "Nasz zbiór danych posiada odczyty z 3 próbek. Ograniczmy się do wybranych próbek."
   ]
  },
  {
   "cell_type": "code",
   "execution_count": 45,
   "metadata": {},
   "outputs": [],
   "source": [
    "fastq_mother = fastq_all.filter(\"sample_id = 'mother'\")"
   ]
  },
  {
   "cell_type": "markdown",
   "metadata": {},
   "source": [
    "`Czy już odbył się odczyt danych z fastq?`"
   ]
  },
  {
   "cell_type": "code",
   "execution_count": 46,
   "metadata": {},
   "outputs": [
    {
     "name": "stdout",
     "output_type": "stream",
     "text": [
      "+---------+--------------------+--------------------+\n",
      "|sample_id|                 seq|                qual|\n",
      "+---------+--------------------+--------------------+\n",
      "|   mother|TGGAGTTCTAAATTGTG...|==:=?>=>?>>>>>>>>...|\n",
      "|   mother|GCATGTGCAAGTATCTT...|;;<<9>>>>9>:=<=?<...|\n",
      "|   mother|GCCATTAGACGACATTT...|=<=2?<0?=;5>>?>70...|\n",
      "|   mother|AGGCAGGACTAGTTCCT...|::;,::*-=0:>88-+;...|\n",
      "|   mother|ATAAGGGGGCCACTTTT...|==8=??>>>?>?>@>==...|\n",
      "|   mother|TGAAAAACCACATGGAA...|/99;;9=8=>=-2=::3...|\n",
      "|   mother|GAAATGCTTAATTACCC...|====2??@<=>>==8=0...|\n",
      "|   mother|CCACAAAAGCCTTTATC...|;;<6<.>=>2+>=8,=9...|\n",
      "|   mother|CAACTTAACAAATTCAT...|=>;<?>?>>?>=>=>?>...|\n",
      "|   mother|TTCTCCTAAGTGAAATA...|;:;=9>?==?===<==>...|\n",
      "|   mother|AGAATTACTGTTTGACT...|</;=:>>>?9/:7;<>4...|\n",
      "|   mother|AGATATAAATTATATTG...|:.9/;-?.=8+>->-+7...|\n",
      "|   mother|TTTGAACCTTTACTACA...|====??>>?==?>?=>?...|\n",
      "|   mother|TCAAGGACTAAGATATA...|;0:<=>>=>?<=9=>=>...|\n",
      "|   mother|AGTAAAGGTTCTAGTTA...|<=;==?>>=><@7<;9=...|\n",
      "|   mother|GAGGGTGTCATGGGAAC...|;;8:+.>:;.==*=-=;...|\n",
      "|   mother|ATAAATGGTCCTTAAAT...|===<??>>>>>@==>>>...|\n",
      "|   mother|TTAATTTATGTACTCAA...|;;;<===>=>=>=>=>=...|\n",
      "|   mother|AGTTTCCTGGGGCATGC...|==9=??>?>><>??>>?...|\n",
      "|   mother|AATGCTAGACTTTTCAT...|:;;<;??>=><<<<=>=...|\n",
      "+---------+--------------------+--------------------+\n",
      "only showing top 20 rows\n",
      "\n"
     ]
    }
   ],
   "source": [
    "fastq_mother.show()"
   ]
  },
  {
   "cell_type": "code",
   "execution_count": 47,
   "metadata": {},
   "outputs": [
    {
     "name": "stdout",
     "output_type": "stream",
     "text": [
      "+---------+\n",
      "|sample_id|\n",
      "+---------+\n",
      "|   mother|\n",
      "+---------+\n",
      "\n"
     ]
    }
   ],
   "source": [
    "fastq_mother.select('sample_id').distinct().show()"
   ]
  },
  {
   "cell_type": "code",
   "execution_count": 48,
   "metadata": {},
   "outputs": [
    {
     "data": {
      "text/plain": [
       "133160"
      ]
     },
     "execution_count": 48,
     "metadata": {},
     "output_type": "execute_result"
    }
   ],
   "source": [
    "fastq_mother.count()"
   ]
  },
  {
   "cell_type": "markdown",
   "metadata": {},
   "source": [
    "Warunki można łączyć spójnikami logicznymi. \n",
    "Można używać\n",
    "* operatorów arytmetycznych (=, !=, >, >=, <, <=)\n",
    "* przynależności do zbioru (IN/NOT IN) \n",
    "* porównania znaków (LIKE/NOT LIKE)\n",
    "* przyrównania do wartości NULL (IS NULL/ IS NOT NULL)\n",
    "\n",
    "Przy korzystaniu z LIKE można użyć % jako oznaczenie dowolnego ciągu znaków.\n",
    "\n",
    "Konstrukcja warunku w metodzie filter() jak taka jak w klauzuli WHERE W SQL."
   ]
  },
  {
   "cell_type": "markdown",
   "metadata": {},
   "source": [
    "Pokaż odczyty spełniające warunek ze nazwa instrumentu jest pusta, run_id jest >=0 a odczyt zaczyna sie od liter GCA. Pokaz tylko kolumny z filtra oraz nazwe probki"
   ]
  },
  {
   "cell_type": "code",
   "execution_count": 49,
   "metadata": {},
   "outputs": [
    {
     "name": "stdout",
     "output_type": "stream",
     "text": [
      "+---------+--------------------+\n",
      "|sample_id|                 seq|\n",
      "+---------+--------------------+\n",
      "|   mother|GCATGTGCAAGTATCTT...|\n",
      "|   mother|GCAGGTACTCATGTTCA...|\n",
      "|   mother|GCACATCCTGGCCTCCT...|\n",
      "|   mother|GCAACCTCCACCTCCTA...|\n",
      "|   mother|GCAGAAGGTGCAAAAGC...|\n",
      "|   mother|GCATCGAATTTTTTTTC...|\n",
      "|   mother|GCACTTCCCTGGCCACA...|\n",
      "|   mother|GCAGTCACCTTCCCAGC...|\n",
      "|   mother|GCACCTCTGATGCTGGA...|\n",
      "|   mother|GCAGAAAGCTGGGTGCA...|\n",
      "|   mother|GCATAATAGACACTAGG...|\n",
      "|   mother|GCAATCAATCAGATGGC...|\n",
      "|   mother|GCAACTTCAGTAAAGTC...|\n",
      "|   mother|GCAAACGAACACAGGAA...|\n",
      "|   mother|GCATATCATTTCCCATA...|\n",
      "|   mother|GCATTTTCACTTGCATG...|\n",
      "|   mother|GCAGTTACAGTCTTAGA...|\n",
      "|   mother|GCAACTTATAAAATGGG...|\n",
      "|   mother|GCAACATATAAAATGGG...|\n",
      "|   mother|GCAACGGACAAGGAGAA...|\n",
      "+---------+--------------------+\n",
      "only showing top 20 rows\n",
      "\n"
     ]
    }
   ],
   "source": [
    "fastq_mother.filter('seq LIKE \"GCA%\"').select('sample_id',  'seq').show()"
   ]
  },
  {
   "cell_type": "code",
   "execution_count": 50,
   "metadata": {},
   "outputs": [
    {
     "name": "stdout",
     "output_type": "stream",
     "text": [
      "+---------+--------------------+\n",
      "|sample_id|                 seq|\n",
      "+---------+--------------------+\n",
      "|   mother|GCATGTGCAAGTATCTT...|\n",
      "|   mother|GCAGGTACTCATGTTCA...|\n",
      "|   mother|GCACATCCTGGCCTCCT...|\n",
      "|   mother|GCAACCTCCACCTCCTA...|\n",
      "|   mother|GCAGAAGGTGCAAAAGC...|\n",
      "|   mother|GCATCGAATTTTTTTTC...|\n",
      "|   mother|GCACTTCCCTGGCCACA...|\n",
      "|   mother|GCAGTCACCTTCCCAGC...|\n",
      "|   mother|GCACCTCTGATGCTGGA...|\n",
      "|   mother|GCAGAAAGCTGGGTGCA...|\n",
      "|   mother|GCATAATAGACACTAGG...|\n",
      "|   mother|GCAATCAATCAGATGGC...|\n",
      "|   mother|GCAACTTCAGTAAAGTC...|\n",
      "|   mother|GCAAACGAACACAGGAA...|\n",
      "|   mother|GCATATCATTTCCCATA...|\n",
      "|   mother|GCATTTTCACTTGCATG...|\n",
      "|   mother|GCAGTTACAGTCTTAGA...|\n",
      "|   mother|GCAACTTATAAAATGGG...|\n",
      "|   mother|GCAACATATAAAATGGG...|\n",
      "|   mother|GCAACGGACAAGGAGAA...|\n",
      "+---------+--------------------+\n",
      "only showing top 20 rows\n",
      "\n"
     ]
    }
   ],
   "source": [
    "fastq_mother.select('sample_id', 'seq').filter('seq LIKE \"GCA%\"').show() # kolejnosc select i filter bez znaczenia"
   ]
  },
  {
   "cell_type": "markdown",
   "metadata": {},
   "source": [
    "<div class=\"alert alert-block alert-warning\">\n",
    "\n",
    "<b>Zadanie 2_2:</b>Napisz polecenie które policzy ile jest rekordów dla próbki syna które spełniają warunki, że sekwencja odczytu konczy się na TGG a qual zaczyna się od ==. </div>\n",
    "\n"
   ]
  },
  {
   "cell_type": "code",
   "execution_count": null,
   "metadata": {},
   "outputs": [],
   "source": []
  },
  {
   "cell_type": "markdown",
   "metadata": {},
   "source": [
    "## Używanie funkcji, kolumny wyliczane\n",
    "\n",
    "Dostępne są funkcje skalarne (przykład: ROUND, UPPER, CURRENT_DATE) oraz agregujące (MIN, MAX, AVG, SUM, COUNT).\n",
    "Niektóre funkcje są dostępne \"od razu\" bez dodatkowych poleceń import. \n",
    "Lista funkcji znajduje się : https://spark.apache.org/docs/latest/api/sql/index.html "
   ]
  },
  {
   "cell_type": "code",
   "execution_count": 51,
   "metadata": {},
   "outputs": [
    {
     "name": "stdout",
     "output_type": "stream",
     "text": [
      "+---------+--------------------+--------------------+\n",
      "|sample_id|                 seq|                qual|\n",
      "+---------+--------------------+--------------------+\n",
      "|      son|GATGCTCAAACTCCAGG...|=>>=@==?>>=>>>?9<...|\n",
      "|      son|ATTGTGCTTAACAATGC...|995+7))>:,,94=,=9...|\n",
      "|      son|CATCTATTTAGCTGAAA...|=>:>A?>0=:?=?>;1>...|\n",
      "|      son|TTCCTGTACCTCCTTCC...|..6=:8,:=>.=+;<>=...|\n",
      "|      son|CATACCTAGCATGGCCT...|=>>=>??>?>?>>=>?@...|\n",
      "|      son|ACTAAATTGCCATGGTA...|;:=<>>=<>>=>==<=9...|\n",
      "|      son|AACACAGGTGGGAATTG...|10<:;=.>>78:>==>>...|\n",
      "|      son|CATGTTAAGCTGCATGT...|;<<+7===?>>9>=:=<...|\n",
      "|      son|CTTTAGTAATTTTCCTC...|=?7=?@>>>>===>>?>...|\n",
      "|      son|TAAATATTTCACAACAC...|;;<=>>:<=>>;>=;<<...|\n",
      "|      son|ATCTTTGCATTTGACAC...|=>>??><=?>9=;>=?=...|\n",
      "|      son|AACACCAGCCTGGCCAA...|9<:=:>4)>8><==+5,...|\n",
      "|      son|AACACTTCTGTAGAAAA...|1><>>@>>@><>?>?1>...|\n",
      "|      son|GTGAGAAAATAAACCAA...|;9;8>,;==>27=;+83...|\n",
      "|      son|TATACCTGGGAATGGGG...|==>=>??>>>=>>>>>>...|\n",
      "|      son|AGGAAATGTCCAGCTTA...|.<;=>===>>7>>=:<=...|\n",
      "|      son|GAATCTAATTGTCTTGG...|1:>>@@=?>=>>>?=>>...|\n",
      "|      son|TATAGAGCCCCAACCAC...|;;<<>>>=:>=>><=><...|\n",
      "|      son|TTTGAGAAAACTTACAG...|====@@>>>>=?=>=??...|\n",
      "|      son|ATCTGCTACTATAAGCA...|;<<>=9><=?<===>>=...|\n",
      "+---------+--------------------+--------------------+\n",
      "only showing top 20 rows\n",
      "\n"
     ]
    }
   ],
   "source": [
    "fastq_all.selectExpr(\"*\").show()  # pokaż wszystkie kolumny tego DF"
   ]
  },
  {
   "cell_type": "markdown",
   "metadata": {},
   "source": [
    "Dodanie dwóch dodatkowych kolumn wyliczanych "
   ]
  },
  {
   "cell_type": "code",
   "execution_count": 52,
   "metadata": {},
   "outputs": [
    {
     "name": "stdout",
     "output_type": "stream",
     "text": [
      "+---------+--------------------+--------------------+-------+--------+\n",
      "|sample_id|                 seq|                qual|len_seq|len_qual|\n",
      "+---------+--------------------+--------------------+-------+--------+\n",
      "|      son|GATGCTCAAACTCCAGG...|=>>=@==?>>=>>>?9<...|    151|     151|\n",
      "|      son|ATTGTGCTTAACAATGC...|995+7))>:,,94=,=9...|    151|     151|\n",
      "|      son|CATCTATTTAGCTGAAA...|=>:>A?>0=:?=?>;1>...|    151|     151|\n",
      "|      son|TTCCTGTACCTCCTTCC...|..6=:8,:=>.=+;<>=...|    151|     151|\n",
      "|      son|CATACCTAGCATGGCCT...|=>>=>??>?>?>>=>?@...|    151|     151|\n",
      "|      son|ACTAAATTGCCATGGTA...|;:=<>>=<>>=>==<=9...|    151|     151|\n",
      "|      son|AACACAGGTGGGAATTG...|10<:;=.>>78:>==>>...|    151|     151|\n",
      "|      son|CATGTTAAGCTGCATGT...|;<<+7===?>>9>=:=<...|    151|     151|\n",
      "|      son|CTTTAGTAATTTTCCTC...|=?7=?@>>>>===>>?>...|    151|     151|\n",
      "|      son|TAAATATTTCACAACAC...|;;<=>>:<=>>;>=;<<...|    151|     151|\n",
      "|      son|ATCTTTGCATTTGACAC...|=>>??><=?>9=;>=?=...|    151|     151|\n",
      "|      son|AACACCAGCCTGGCCAA...|9<:=:>4)>8><==+5,...|    151|     151|\n",
      "|      son|AACACTTCTGTAGAAAA...|1><>>@>>@><>?>?1>...|    151|     151|\n",
      "|      son|GTGAGAAAATAAACCAA...|;9;8>,;==>27=;+83...|    151|     151|\n",
      "|      son|TATACCTGGGAATGGGG...|==>=>??>>>=>>>>>>...|    151|     151|\n",
      "|      son|AGGAAATGTCCAGCTTA...|.<;=>===>>7>>=:<=...|    151|     151|\n",
      "|      son|GAATCTAATTGTCTTGG...|1:>>@@=?>=>>>?=>>...|    151|     151|\n",
      "|      son|TATAGAGCCCCAACCAC...|;;<<>>>=:>=>><=><...|    151|     151|\n",
      "|      son|TTTGAGAAAACTTACAG...|====@@>>>>=?=>=??...|    151|     151|\n",
      "|      son|ATCTGCTACTATAAGCA...|;<<>=9><=?<===>>=...|    151|     151|\n",
      "+---------+--------------------+--------------------+-------+--------+\n",
      "only showing top 20 rows\n",
      "\n"
     ]
    }
   ],
   "source": [
    "fastq_all.selectExpr(\"*\", \"length(seq) as len_seq\", \"length(qual) as len_qual\" ).show() ## dodanie dwóch kolumn wyliczanych przy uzyciu funkcji LENGTH"
   ]
  },
  {
   "cell_type": "markdown",
   "metadata": {},
   "source": [
    "Alias - nadanie kolumnie lub kolumnie wyliczanej nazwy"
   ]
  },
  {
   "cell_type": "code",
   "execution_count": 54,
   "metadata": {},
   "outputs": [],
   "source": [
    "extended_fastq = fastq_all.selectExpr(\"*\", \"length(seq) as len_s\", \"length(qual) as len_q\" ) # AS alias"
   ]
  },
  {
   "cell_type": "code",
   "execution_count": 55,
   "metadata": {},
   "outputs": [
    {
     "name": "stdout",
     "output_type": "stream",
     "text": [
      "root\n",
      " |-- sample_id: string (nullable = true)\n",
      " |-- seq: string (nullable = true)\n",
      " |-- qual: string (nullable = true)\n",
      " |-- len_s: integer (nullable = true)\n",
      " |-- len_q: integer (nullable = true)\n",
      "\n"
     ]
    }
   ],
   "source": [
    "extended_fastq.printSchema()"
   ]
  },
  {
   "cell_type": "markdown",
   "metadata": {},
   "source": [
    "Dodanie nowej kolumny, dla każdego wiersza zostanie dodana wartość zwracana przez funkcję current_date()"
   ]
  },
  {
   "cell_type": "code",
   "execution_count": 56,
   "metadata": {},
   "outputs": [
    {
     "name": "stdout",
     "output_type": "stream",
     "text": [
      "+---------+--------------------+--------------------+-----+-----+----------+\n",
      "|sample_id|                 seq|                qual|len_s|len_q|      date|\n",
      "+---------+--------------------+--------------------+-----+-----+----------+\n",
      "|      son|GATGCTCAAACTCCAGG...|=>>=@==?>>=>>>?9<...|  151|  151|2022-05-13|\n",
      "|      son|ATTGTGCTTAACAATGC...|995+7))>:,,94=,=9...|  151|  151|2022-05-13|\n",
      "|      son|CATCTATTTAGCTGAAA...|=>:>A?>0=:?=?>;1>...|  151|  151|2022-05-13|\n",
      "|      son|TTCCTGTACCTCCTTCC...|..6=:8,:=>.=+;<>=...|  151|  151|2022-05-13|\n",
      "|      son|CATACCTAGCATGGCCT...|=>>=>??>?>?>>=>?@...|  151|  151|2022-05-13|\n",
      "|      son|ACTAAATTGCCATGGTA...|;:=<>>=<>>=>==<=9...|  151|  151|2022-05-13|\n",
      "|      son|AACACAGGTGGGAATTG...|10<:;=.>>78:>==>>...|  151|  151|2022-05-13|\n",
      "|      son|CATGTTAAGCTGCATGT...|;<<+7===?>>9>=:=<...|  151|  151|2022-05-13|\n",
      "|      son|CTTTAGTAATTTTCCTC...|=?7=?@>>>>===>>?>...|  151|  151|2022-05-13|\n",
      "|      son|TAAATATTTCACAACAC...|;;<=>>:<=>>;>=;<<...|  151|  151|2022-05-13|\n",
      "|      son|ATCTTTGCATTTGACAC...|=>>??><=?>9=;>=?=...|  151|  151|2022-05-13|\n",
      "|      son|AACACCAGCCTGGCCAA...|9<:=:>4)>8><==+5,...|  151|  151|2022-05-13|\n",
      "|      son|AACACTTCTGTAGAAAA...|1><>>@>>@><>?>?1>...|  151|  151|2022-05-13|\n",
      "|      son|GTGAGAAAATAAACCAA...|;9;8>,;==>27=;+83...|  151|  151|2022-05-13|\n",
      "|      son|TATACCTGGGAATGGGG...|==>=>??>>>=>>>>>>...|  151|  151|2022-05-13|\n",
      "|      son|AGGAAATGTCCAGCTTA...|.<;=>===>>7>>=:<=...|  151|  151|2022-05-13|\n",
      "|      son|GAATCTAATTGTCTTGG...|1:>>@@=?>=>>>?=>>...|  151|  151|2022-05-13|\n",
      "|      son|TATAGAGCCCCAACCAC...|;;<<>>>=:>=>><=><...|  151|  151|2022-05-13|\n",
      "|      son|TTTGAGAAAACTTACAG...|====@@>>>>=?=>=??...|  151|  151|2022-05-13|\n",
      "|      son|ATCTGCTACTATAAGCA...|;<<>=9><=?<===>>=...|  151|  151|2022-05-13|\n",
      "+---------+--------------------+--------------------+-----+-----+----------+\n",
      "only showing top 20 rows\n",
      "\n"
     ]
    }
   ],
   "source": [
    "from pyspark.sql.functions import current_date\n",
    "extended_fastq.withColumn (\"date\", current_date()).show()"
   ]
  },
  {
   "cell_type": "markdown",
   "metadata": {},
   "source": [
    "Dodanie kolumny o stałej wartości dla każdej wartości wymaga wykorzystania funkcji lit (), która przekształci stała wartość w kolumnę."
   ]
  },
  {
   "cell_type": "code",
   "execution_count": 57,
   "metadata": {},
   "outputs": [
    {
     "name": "stdout",
     "output_type": "stream",
     "text": [
      "+---------+--------------------+--------------------+-----+-----+-----------+------+\n",
      "|sample_id|                 seq|                qual|len_s|len_q|imported_by|format|\n",
      "+---------+--------------------+--------------------+-----+-----+-----------+------+\n",
      "|      son|GATGCTCAAACTCCAGG...|=>>=@==?>>=>>>?9<...|  151|  151|    tgambin| FASTQ|\n",
      "|      son|ATTGTGCTTAACAATGC...|995+7))>:,,94=,=9...|  151|  151|    tgambin| FASTQ|\n",
      "|      son|CATCTATTTAGCTGAAA...|=>:>A?>0=:?=?>;1>...|  151|  151|    tgambin| FASTQ|\n",
      "|      son|TTCCTGTACCTCCTTCC...|..6=:8,:=>.=+;<>=...|  151|  151|    tgambin| FASTQ|\n",
      "|      son|CATACCTAGCATGGCCT...|=>>=>??>?>?>>=>?@...|  151|  151|    tgambin| FASTQ|\n",
      "|      son|ACTAAATTGCCATGGTA...|;:=<>>=<>>=>==<=9...|  151|  151|    tgambin| FASTQ|\n",
      "|      son|AACACAGGTGGGAATTG...|10<:;=.>>78:>==>>...|  151|  151|    tgambin| FASTQ|\n",
      "|      son|CATGTTAAGCTGCATGT...|;<<+7===?>>9>=:=<...|  151|  151|    tgambin| FASTQ|\n",
      "|      son|CTTTAGTAATTTTCCTC...|=?7=?@>>>>===>>?>...|  151|  151|    tgambin| FASTQ|\n",
      "|      son|TAAATATTTCACAACAC...|;;<=>>:<=>>;>=;<<...|  151|  151|    tgambin| FASTQ|\n",
      "|      son|ATCTTTGCATTTGACAC...|=>>??><=?>9=;>=?=...|  151|  151|    tgambin| FASTQ|\n",
      "|      son|AACACCAGCCTGGCCAA...|9<:=:>4)>8><==+5,...|  151|  151|    tgambin| FASTQ|\n",
      "|      son|AACACTTCTGTAGAAAA...|1><>>@>>@><>?>?1>...|  151|  151|    tgambin| FASTQ|\n",
      "|      son|GTGAGAAAATAAACCAA...|;9;8>,;==>27=;+83...|  151|  151|    tgambin| FASTQ|\n",
      "|      son|TATACCTGGGAATGGGG...|==>=>??>>>=>>>>>>...|  151|  151|    tgambin| FASTQ|\n",
      "|      son|AGGAAATGTCCAGCTTA...|.<;=>===>>7>>=:<=...|  151|  151|    tgambin| FASTQ|\n",
      "|      son|GAATCTAATTGTCTTGG...|1:>>@@=?>=>>>?=>>...|  151|  151|    tgambin| FASTQ|\n",
      "|      son|TATAGAGCCCCAACCAC...|;;<<>>>=:>=>><=><...|  151|  151|    tgambin| FASTQ|\n",
      "|      son|TTTGAGAAAACTTACAG...|====@@>>>>=?=>=??...|  151|  151|    tgambin| FASTQ|\n",
      "|      son|ATCTGCTACTATAAGCA...|;<<>=9><=?<===>>=...|  151|  151|    tgambin| FASTQ|\n",
      "+---------+--------------------+--------------------+-----+-----+-----------+------+\n",
      "only showing top 20 rows\n",
      "\n"
     ]
    }
   ],
   "source": [
    "from pyspark.sql.functions import lit\n",
    "\n",
    "extended_fastq.withColumn(\"imported_by\", lit(user_name)).withColumn(\"format\", lit('FASTQ')).show()"
   ]
  },
  {
   "cell_type": "markdown",
   "metadata": {},
   "source": [
    "<div class=\"alert alert-block alert-warning\">\n",
    "\n",
    "<b>Zadanie 2_3:</b>\n",
    "\n",
    "Napisz polecenie które stworzy ramkę danych zawierającą sklejenie wartości dwóch kolumn (sample_id) oraz daty eksperymentu (dodaj kolumne z wartościami 2019-01-15) . W wynikach chcemy mieć tylko dane matki i ojca. Kolumny wynikowe: nazwa próbki, seq, qual, data eksperymentu oraz scalona nazwa probki oraz data eksperymenty (np father-2019-01-15). Posortuj po nazwie próbki. Pokaż schemat ramki. Upewnij się, że data eksperymentu jest typu date. \n",
    "\n",
    "* Zwróć uwagę na potrzebę konwersji ciągu znaków na datę\n",
    "</div>\n"
   ]
  },
  {
   "cell_type": "code",
   "execution_count": null,
   "metadata": {},
   "outputs": [],
   "source": []
  },
  {
   "cell_type": "markdown",
   "metadata": {},
   "source": [
    "### Instrukcje warunkowe przy kolumnach wyliczanych"
   ]
  },
  {
   "cell_type": "code",
   "execution_count": 58,
   "metadata": {},
   "outputs": [],
   "source": [
    "fastq_dates=fastq_all.selectExpr('*', 'if(sample_id = \"son\",to_date(\"2018-11-10\"), to_date(\"2019-01-15\")) as experiment_date')"
   ]
  },
  {
   "cell_type": "markdown",
   "metadata": {},
   "source": [
    "<div class=\"alert alert-block alert-warning\">\n",
    "<b>Zadanie 2_4:</b> Napisz polecenia, które zweryfikuje czy daty eksperymentów zostały dodane poprawnie </div>\n"
   ]
  },
  {
   "cell_type": "code",
   "execution_count": null,
   "metadata": {},
   "outputs": [],
   "source": []
  },
  {
   "cell_type": "markdown",
   "metadata": {},
   "source": [
    "## Grupowanie"
   ]
  },
  {
   "cell_type": "code",
   "execution_count": 61,
   "metadata": {},
   "outputs": [
    {
     "ename": "AttributeError",
     "evalue": "'GroupedData' object has no attribute 'show'",
     "output_type": "error",
     "traceback": [
      "\u001b[0;31m---------------------------------------------------------------------------\u001b[0m",
      "\u001b[0;31mAttributeError\u001b[0m                            Traceback (most recent call last)",
      "\u001b[0;32m<ipython-input-61-94a969d9aa65>\u001b[0m in \u001b[0;36m<module>\u001b[0;34m\u001b[0m\n\u001b[0;32m----> 1\u001b[0;31m \u001b[0mfastq_all\u001b[0m\u001b[0;34m.\u001b[0m\u001b[0mgroupBy\u001b[0m\u001b[0;34m(\u001b[0m\u001b[0;34m\"sample_id\"\u001b[0m\u001b[0;34m)\u001b[0m\u001b[0;34m.\u001b[0m\u001b[0mshow\u001b[0m\u001b[0;34m(\u001b[0m\u001b[0;34m)\u001b[0m\u001b[0;34m\u001b[0m\u001b[0;34m\u001b[0m\u001b[0m\n\u001b[0m",
      "\u001b[0;31mAttributeError\u001b[0m: 'GroupedData' object has no attribute 'show'"
     ]
    }
   ],
   "source": [
    "fastq_all.groupBy(\"sample_id\").show()"
   ]
  },
  {
   "cell_type": "code",
   "execution_count": 62,
   "metadata": {},
   "outputs": [
    {
     "data": {
      "text/plain": [
       "pyspark.sql.group.GroupedData"
      ]
     },
     "execution_count": 62,
     "metadata": {},
     "output_type": "execute_result"
    }
   ],
   "source": [
    "type(fastq_all.groupBy(\"sample_id\")) # to nie jest DF"
   ]
  },
  {
   "cell_type": "code",
   "execution_count": 63,
   "metadata": {},
   "outputs": [],
   "source": [
    "sample_count=fastq_all.groupBy(\"sample_id\").count()"
   ]
  },
  {
   "cell_type": "code",
   "execution_count": 64,
   "metadata": {},
   "outputs": [
    {
     "data": {
      "text/plain": [
       "pyspark.sql.dataframe.DataFrame"
      ]
     },
     "execution_count": 64,
     "metadata": {},
     "output_type": "execute_result"
    }
   ],
   "source": [
    "type(sample_count)"
   ]
  },
  {
   "cell_type": "code",
   "execution_count": 65,
   "metadata": {},
   "outputs": [
    {
     "name": "stdout",
     "output_type": "stream",
     "text": [
      "+---------+------+\n",
      "|sample_id| count|\n",
      "+---------+------+\n",
      "|   father| 53770|\n",
      "|   mother|133160|\n",
      "|      son| 54184|\n",
      "+---------+------+\n",
      "\n"
     ]
    }
   ],
   "source": [
    "sample_count.show()"
   ]
  },
  {
   "cell_type": "code",
   "execution_count": 66,
   "metadata": {},
   "outputs": [
    {
     "name": "stdout",
     "output_type": "stream",
     "text": [
      "+---------+------+\n",
      "|sample_id| count|\n",
      "+---------+------+\n",
      "|   father| 53770|\n",
      "|      son| 54184|\n",
      "|   mother|133160|\n",
      "+---------+------+\n",
      "\n"
     ]
    }
   ],
   "source": [
    "sample_count.orderBy(\"count\").show()"
   ]
  },
  {
   "cell_type": "markdown",
   "metadata": {},
   "source": [
    "<div class=\"alert alert-block alert-warning\">\n",
    "<b>Zadanie 2_5:</b> Napisz funkcje, ktora znajdzie rozklady jakosci dla 1, 2, 3 i 4 pozycji odczytu.\n",
    "*Nastepnie zaprezentuj wyniki w postaci serii histogramów </div>"
   ]
  },
  {
   "cell_type": "code",
   "execution_count": null,
   "metadata": {},
   "outputs": [],
   "source": []
  },
  {
   "cell_type": "markdown",
   "metadata": {},
   "source": [
    "### Mapowanie do genomu referencyjnego\n",
    "\n",
    "UWAGA - na dzisiejszych zajęciach ten kod nie będzie uruchamiany\n",
    "\n",
    "Wykonamy mapowanie do genomu referencyjnych korzystając z rozproszenia danych miedzy procesy obliczeniowe sparka."
   ]
  },
  {
   "cell_type": "markdown",
   "metadata": {},
   "source": [
    "Przygotowanie ścieżek do plików."
   ]
  },
  {
   "cell_type": "code",
   "execution_count": null,
   "metadata": {},
   "outputs": [],
   "source": [
    "#import os\n",
    "#user_name = os.environ.get('USER')\n",
    "#bucket = f\"gs://edugen-lab-{user_name}\"\n",
    "\n",
    "#reads_file_path = f\"{bucket}/fastq/mother.fastq\"\n",
    "#ref_path = \"/mnt/data/mapping/ref/ref.fasta\""
   ]
  },
  {
   "cell_type": "markdown",
   "metadata": {},
   "source": [
    "Konstruujemy komendę, która będzie uruchamiana na procesach obliczeniowych. Potrzebne narzędzia muszą być dostępne na węzłach obliczeniowych."
   ]
  },
  {
   "cell_type": "code",
   "execution_count": null,
   "metadata": {},
   "outputs": [],
   "source": [
    "#command = f'bwa mem -p {ref_path} - | samtools fixmate -m - - | samtools sort  | samtools markdup -r -S - -  | samtools addreplacerg  -r \"ID:S1\" -r \"SM:S1\"  -r \"PL:ILLUMINA\" - | samtools view -b -'"
   ]
  },
  {
   "cell_type": "markdown",
   "metadata": {},
   "source": [
    "Żeby wykonać rozproszone obliczenia na danych genomicznych nalezy wykorzystac dodatkową bibliotekę."
   ]
  },
  {
   "cell_type": "code",
   "execution_count": null,
   "metadata": {},
   "outputs": [],
   "source": [
    "#from pyseqtender import SeqTenderAlignment\n",
    "\n",
    "#seq_aligner = SeqTenderAlignment(spark, reads_file_path, command)\n",
    "#alignments_rdd = seq_aligner.pipe_reads()"
   ]
  },
  {
   "cell_type": "markdown",
   "metadata": {},
   "source": [
    "Zapisujemy plik na kubełek."
   ]
  },
  {
   "cell_type": "code",
   "execution_count": null,
   "metadata": {},
   "outputs": [],
   "source": [
    "#bam_file_path = f\"{bucket}/bam/mother10.bam\"\n",
    "#seq_aligner.save_reads(bam_file_path, alignments_rdd)"
   ]
  },
  {
   "cell_type": "code",
   "execution_count": null,
   "metadata": {},
   "outputs": [],
   "source": [
    "#!gsutil ls gs://edugen-lab-$USER/bam"
   ]
  },
  {
   "cell_type": "markdown",
   "metadata": {},
   "source": [
    "<div class=\"alert alert-block alert-warning\">\n",
    "<b>Zadanie 2_6:</b> Na podstawie notatników z zajęć z genomiki wyświetl fragment pliku BAM w widge'cie IGV.  </div>\n",
    "\n"
   ]
  },
  {
   "cell_type": "code",
   "execution_count": null,
   "metadata": {},
   "outputs": [],
   "source": []
  },
  {
   "cell_type": "markdown",
   "metadata": {},
   "source": [
    "Kończymy notatniki, należy zamknąć sesję."
   ]
  },
  {
   "cell_type": "code",
   "execution_count": 67,
   "metadata": {},
   "outputs": [],
   "source": [
    "spark.stop()"
   ]
  }
 ],
 "metadata": {
  "kernelspec": {
   "display_name": "edugen",
   "language": "python",
   "name": "edugen"
  },
  "language_info": {
   "codemirror_mode": {
    "name": "ipython",
    "version": 3
   },
   "file_extension": ".py",
   "mimetype": "text/x-python",
   "name": "python",
   "nbconvert_exporter": "python",
   "pygments_lexer": "ipython3",
   "version": "3.7.10"
  }
 },
 "nbformat": 4,
 "nbformat_minor": 4
}
