{
 "cells": [
  {
   "cell_type": "markdown",
   "metadata": {},
   "source": [
    "## Przygotowanie sesji Spark\n",
    "Zainicjowanie sesji Spark oraz stworzenie schematu bazy danych z której będziemy korzystać."
   ]
  },
  {
   "cell_type": "code",
   "execution_count": 1,
   "metadata": {},
   "outputs": [],
   "source": [
    "from pyspark.sql import SparkSession\n",
    "spark = SparkSession \\\n",
    ".builder \\\n",
    ".config('spark.driver.memory','1g') \\\n",
    ".config('spark.executor.memory', '2g') \\\n",
    ".getOrCreate()"
   ]
  },
  {
   "cell_type": "markdown",
   "metadata": {},
   "source": [
    "Pobranie sesji Spark jest proste dla programisty korzystającego z notatnika, wymaga podania tylko kilku parametrów, ale faktyczna konfiguracja jest bardziej rozbudowana"
   ]
  },
  {
   "cell_type": "code",
   "execution_count": 2,
   "metadata": {},
   "outputs": [
    {
     "name": "stdout",
     "output_type": "stream",
     "text": [
      "--repositories https://oss.sonatype.org/content/repositories/snapshots/\n",
      " --jars /tmp/gcs-connector-hadoop2-1.9.17-shaded.jar,/tmp/google-cloud-nio-0.120.0-alpha-shaded.jar\n",
      " --conf spark.hadoop.google.cloud.auth.service.account.enable=true\n",
      " --conf spark.hadoop.google.cloud.auth.service.account.json.keyfile=/tmp/secrets/ds-lab-sa.json\n",
      " --conf spark.kubernetes.driverEnv.GCS_PROJECT_ID=studiapodyplomowe\n",
      " --conf spark.kubernetes.driverEnv.GOOGLE_APPLICATION_CREDENTIALS=/tmp/secrets/ds-lab-sa.json\n",
      " --conf spark.executorEnv.GCS_PROJECT_ID=studiapodyplomowe\n",
      " --conf spark.executorEnv.GOOGLE_APPLICATION_CREDENTIALS=/tmp/secrets/ds-lab-sa.json\n",
      " --conf spark.kubernetes.driver.secrets.ds-lab-sa-secret=/tmp/secrets\n",
      " --conf spark.kubernetes.executor.secrets.ds-lab-sa-secret=/tmp/secrets\n",
      " --conf spark.hadoop.fs.gs.project.id=studiapodyplomowe\n",
      " --conf spark.hadoop.fs.gs.impl=com.google.cloud.hadoop.fs.gcs.GoogleHadoopFileSystem\n",
      " --conf spark.hadoop.fs.AbstractFileSystem.gs.impl=com.google.cloud.hadoop.fs.gcs.GoogleHadoopFS\n",
      " --master k8s://https://10.3.240.1:443\n",
      " --conf spark.kubernetes.container.image=gcr.io/studiapodyplomowe/biodatageeks/spark-py:v2.4.3-edugen-0.1.7-g5a6ab7a\n",
      " --conf spark.kubernetes.authenticate.driver.serviceAccountName=ds-lab-sa\n",
      " --conf spark.kubernetes.authenticate.serviceAccountName=ds-lab-sa\n",
      " --conf spark.kubernetes.executor.podNamePrefix=pyspark-exec-tgambin\n",
      " --conf spark.kubernetes.executor.label.spark-owner=tgambin\n",
      " --conf spark.kubernetes.executor.request.cores=0.4\n",
      " --conf spark.kubernetes.executor.volumes.persistentVolumeClaim.pvc-shared-pipeline.options.claimName=pvc-shared-pipeline\n",
      " --conf spark.kubernetes.executor.volumes.persistentVolumeClaim.pvc-shared-pipeline.mount.path=/mnt/data\n",
      " --conf spark.kubernetes.executor.volumes.persistentVolumeClaim.pvc-shared-pipeline.mount.readOnly=true\n",
      " --conf spark.driver.port=29010\n",
      " --conf spark.blockManager.port=29011\n",
      " --conf spark.kubernetes.namespace=default\n",
      " --conf spark.driver.host=jupyter-service-tgambin\n",
      " --conf spark.driver.bindAddress=jupyter-tgambin\n",
      " --conf spark.executorEnv.PYSPARK_PYTHON=python3\n",
      " --packages org.biodatageeks:sequila_2.11:0.5.20,io.projectglow:glow-spark2_2.11:0.6.0,org.biodatageeks:seqtender_2.11:0.3.7\n",
      "\n",
      "pyspark-shell\n"
     ]
    }
   ],
   "source": [
    "import os\n",
    "args = os.environ['PYSPARK_SUBMIT_ARGS'].replace(\"  \", \"\\n\")\n",
    "print(args)"
   ]
  },
  {
   "cell_type": "markdown",
   "metadata": {},
   "source": [
    "Mamy pobraną sesję sparkową. Powstały dodatkowe pody gotowe na realizację obliczeń. A jak zwolnić te zasoby?"
   ]
  },
  {
   "cell_type": "code",
   "execution_count": null,
   "metadata": {},
   "outputs": [],
   "source": [
    "spark.stop()"
   ]
  },
  {
   "cell_type": "markdown",
   "metadata": {},
   "source": [
    "Ponownie pobieramy sesję Spark. Będziemy z niej korzystać. Po zakończonej pracy należy pamiętać o zastopowaniu sesji."
   ]
  },
  {
   "cell_type": "code",
   "execution_count": null,
   "metadata": {},
   "outputs": [],
   "source": [
    "from pyspark.sql import SparkSession\n",
    "spark = SparkSession \\\n",
    ".builder \\\n",
    ".config('spark.driver.memory','1g') \\\n",
    ".config('spark.executor.memory', '2g') \\\n",
    ".getOrCreate()"
   ]
  },
  {
   "cell_type": "markdown",
   "metadata": {},
   "source": [
    "## Odczyt danych\n",
    "Korzystając z sesji Spark można odczytać dane zapisane w lokalizacji dostępnej dla executorów (procesów obliczeniowych) koordynowanych przez Spark. \n",
    "Konieczne jest podanie ścieżki dostępowej do pliku i formatu danych (nie jest to jednoznazne z rozszerzeniem pliku).\n",
    "Dystrybucja Spark udostępnia kilka tzw Data Sources, które odczytują i zapisują dane w określonych formatach (CSV, formaty kolumnowe: parquet/orc).\n",
    "Data Sources zgodne z opracowanym interfejsem można samodzielnie tworzyć. Na dzisiejszych zajęciach będziemy korzystać z takich zdefiniowanych DS:\n",
    "* FASTQDataSource\n",
    "* BAMDataSource\n",
    "* VCFDataSource\n",
    "\n",
    "*UWAGA - powyższe sposoby odczytu plików nie są częścią głównej dystrybucji Spark. Wymagana jest dodatkowa konfiguracja.*"
   ]
  },
  {
   "cell_type": "code",
   "execution_count": 3,
   "metadata": {},
   "outputs": [
    {
     "name": "stdout",
     "output_type": "stream",
     "text": [
      "gs://edugen-lab-tgambin\n"
     ]
    }
   ],
   "source": [
    "import os                               # moduł OS języka Python\n",
    "user_name = os.environ.get('USER')      # pobieramy zmienną środowiskową USER\n",
    "bucket = f\"gs://edugen-lab-{user_name}\" # konstruujemy sciezke dostepowa do pliku\n",
    "print(bucket)"
   ]
  },
  {
   "cell_type": "markdown",
   "metadata": {},
   "source": [
    "---\n",
    "\n",
    "`Co oznacza f przed cudzysłowem?`\n",
    "\n",
    "`Czy jest różnica między stosowaniem apostrofu i cudzysłowu przy definicji zmiennych przechowywujących łańcuchy znaków?`"
   ]
  },
  {
   "cell_type": "code",
   "execution_count": 4,
   "metadata": {},
   "outputs": [],
   "source": [
    "reads_path = f\"{bucket}/fastq/*\"  # * oznacza wszystkie pliki we wskazanej lokalizacji. Można podać konkretny plik\n",
    "fastq_all = spark.read.load(reads_path, format=\"org.biodatageeks.sequila.datasources.FASTQ.FASTQDataSource\")"
   ]
  },
  {
   "cell_type": "markdown",
   "metadata": {},
   "source": [
    "### Weryfikacja danych"
   ]
  },
  {
   "cell_type": "code",
   "execution_count": 5,
   "metadata": {},
   "outputs": [
    {
     "data": {
      "text/plain": [
       "pyspark.sql.dataframe.DataFrame"
      ]
     },
     "execution_count": 5,
     "metadata": {},
     "output_type": "execute_result"
    }
   ],
   "source": [
    "type(fastq_all)      # jaki jest typ danych utworzonej zmiennej? "
   ]
  },
  {
   "cell_type": "code",
   "execution_count": 6,
   "metadata": {},
   "outputs": [
    {
     "name": "stdout",
     "output_type": "stream",
     "text": [
      "root\n",
      " |-- sample_id: string (nullable = true)\n",
      " |-- instrument_name: string (nullable = true)\n",
      " |-- run_id: integer (nullable = false)\n",
      " |-- flowcell_id: string (nullable = true)\n",
      " |-- lane: integer (nullable = false)\n",
      " |-- tile: integer (nullable = false)\n",
      " |-- pos_x: integer (nullable = false)\n",
      " |-- pos_y: integer (nullable = false)\n",
      " |-- filter_passed: boolean (nullable = false)\n",
      " |-- control_num: integer (nullable = false)\n",
      " |-- index_seq: string (nullable = true)\n",
      " |-- seq: string (nullable = true)\n",
      " |-- qual: string (nullable = true)\n",
      "\n"
     ]
    }
   ],
   "source": [
    "fastq_all.printSchema() # jaki jest schemat danych?"
   ]
  },
  {
   "cell_type": "code",
   "execution_count": 7,
   "metadata": {},
   "outputs": [
    {
     "data": {
      "text/plain": [
       "13"
      ]
     },
     "execution_count": 7,
     "metadata": {},
     "output_type": "execute_result"
    }
   ],
   "source": [
    "len(fastq_all.columns)           # wymiary (liczba kolumn)"
   ]
  },
  {
   "cell_type": "code",
   "execution_count": 8,
   "metadata": {},
   "outputs": [
    {
     "data": {
      "text/plain": [
       "241114"
      ]
     },
     "execution_count": 8,
     "metadata": {},
     "output_type": "execute_result"
    }
   ],
   "source": [
    "fastq_all.count()"
   ]
  },
  {
   "cell_type": "code",
   "execution_count": 9,
   "metadata": {},
   "outputs": [
    {
     "name": "stdout",
     "output_type": "stream",
     "text": [
      "== Parsed Logical Plan ==\n",
      "Relation[sample_id#26,instrument_name#27,run_id#28,flowcell_id#29,lane#30,tile#31,pos_x#32,pos_y#33,filter_passed#34,control_num#35,index_seq#36,seq#37,qual#38] org.biodatageeks.sequila.datasources.FASTQ.SequencedFragmentRelation@4163edb8\n",
      "\n",
      "== Analyzed Logical Plan ==\n",
      "sample_id: string, instrument_name: string, run_id: int, flowcell_id: string, lane: int, tile: int, pos_x: int, pos_y: int, filter_passed: boolean, control_num: int, index_seq: string, seq: string, qual: string\n",
      "Relation[sample_id#26,instrument_name#27,run_id#28,flowcell_id#29,lane#30,tile#31,pos_x#32,pos_y#33,filter_passed#34,control_num#35,index_seq#36,seq#37,qual#38] org.biodatageeks.sequila.datasources.FASTQ.SequencedFragmentRelation@4163edb8\n",
      "\n",
      "== Optimized Logical Plan ==\n",
      "Relation[sample_id#26,instrument_name#27,run_id#28,flowcell_id#29,lane#30,tile#31,pos_x#32,pos_y#33,filter_passed#34,control_num#35,index_seq#36,seq#37,qual#38] org.biodatageeks.sequila.datasources.FASTQ.SequencedFragmentRelation@4163edb8\n",
      "\n",
      "== Physical Plan ==\n",
      "*(1) Scan org.biodatageeks.sequila.datasources.FASTQ.SequencedFragmentRelation@4163edb8 [sample_id#26,instrument_name#27,run_id#28,flowcell_id#29,lane#30,tile#31,pos_x#32,pos_y#33,filter_passed#34,control_num#35,index_seq#36,seq#37,qual#38] PushedFilters: [], ReadSchema: struct<sample_id:string,instrument_name:string,run_id:int,flowcell_id:string,lane:int,tile:int,po...\n"
     ]
    }
   ],
   "source": [
    "fastq_all.explain(True)              # fizyczny plan wykonania"
   ]
  },
  {
   "cell_type": "markdown",
   "metadata": {},
   "source": [
    "DataFrame jest abstrakcją nad innym typem danych (RDD), który jest podstawową rozproszoną strukturą danych. Poprzez DF możemy dostać się do rdd i zweryfikować na przykład liczbę partycji danych."
   ]
  },
  {
   "cell_type": "code",
   "execution_count": 10,
   "metadata": {},
   "outputs": [
    {
     "data": {
      "text/plain": [
       "3"
      ]
     },
     "execution_count": 10,
     "metadata": {},
     "output_type": "execute_result"
    }
   ],
   "source": [
    "fastq_all.rdd.getNumPartitions() # liczba partycji (bloków danych)"
   ]
  },
  {
   "cell_type": "markdown",
   "metadata": {},
   "source": [
    "### Podgląd danych"
   ]
  },
  {
   "cell_type": "code",
   "execution_count": 11,
   "metadata": {},
   "outputs": [
    {
     "name": "stdout",
     "output_type": "stream",
     "text": [
      "+---------+---------------+------+-----------+----+----+-----+-----+-------------+-----------+---------+--------------------+--------------------+\n",
      "|sample_id|instrument_name|run_id|flowcell_id|lane|tile|pos_x|pos_y|filter_passed|control_num|index_seq|                 seq|                qual|\n",
      "+---------+---------------+------+-----------+----+----+-----+-----+-------------+-----------+---------+--------------------+--------------------+\n",
      "|      son|           null|     0|       null|   0|   0|    0|    0|        false|          0|     null|GATGCTCAAACTCCAGG...|=>>=@==?>>=>>>?9<...|\n",
      "|      son|           null|     0|       null|   0|   0|    0|    0|        false|          0|     null|ATTGTGCTTAACAATGC...|995+7))>:,,94=,=9...|\n",
      "|      son|           null|     0|       null|   0|   0|    0|    0|        false|          0|     null|CATCTATTTAGCTGAAA...|=>:>A?>0=:?=?>;1>...|\n",
      "|      son|           null|     0|       null|   0|   0|    0|    0|        false|          0|     null|TTCCTGTACCTCCTTCC...|..6=:8,:=>.=+;<>=...|\n",
      "|      son|           null|     0|       null|   0|   0|    0|    0|        false|          0|     null|CATACCTAGCATGGCCT...|=>>=>??>?>?>>=>?@...|\n",
      "|      son|           null|     0|       null|   0|   0|    0|    0|        false|          0|     null|ACTAAATTGCCATGGTA...|;:=<>>=<>>=>==<=9...|\n",
      "|      son|           null|     0|       null|   0|   0|    0|    0|        false|          0|     null|AACACAGGTGGGAATTG...|10<:;=.>>78:>==>>...|\n",
      "|      son|           null|     0|       null|   0|   0|    0|    0|        false|          0|     null|CATGTTAAGCTGCATGT...|;<<+7===?>>9>=:=<...|\n",
      "|      son|           null|     0|       null|   0|   0|    0|    0|        false|          0|     null|CTTTAGTAATTTTCCTC...|=?7=?@>>>>===>>?>...|\n",
      "|      son|           null|     0|       null|   0|   0|    0|    0|        false|          0|     null|TAAATATTTCACAACAC...|;;<=>>:<=>>;>=;<<...|\n",
      "|      son|           null|     0|       null|   0|   0|    0|    0|        false|          0|     null|ATCTTTGCATTTGACAC...|=>>??><=?>9=;>=?=...|\n",
      "|      son|           null|     0|       null|   0|   0|    0|    0|        false|          0|     null|AACACCAGCCTGGCCAA...|9<:=:>4)>8><==+5,...|\n",
      "|      son|           null|     0|       null|   0|   0|    0|    0|        false|          0|     null|AACACTTCTGTAGAAAA...|1><>>@>>@><>?>?1>...|\n",
      "|      son|           null|     0|       null|   0|   0|    0|    0|        false|          0|     null|GTGAGAAAATAAACCAA...|;9;8>,;==>27=;+83...|\n",
      "|      son|           null|     0|       null|   0|   0|    0|    0|        false|          0|     null|TATACCTGGGAATGGGG...|==>=>??>>>=>>>>>>...|\n",
      "|      son|           null|     0|       null|   0|   0|    0|    0|        false|          0|     null|AGGAAATGTCCAGCTTA...|.<;=>===>>7>>=:<=...|\n",
      "|      son|           null|     0|       null|   0|   0|    0|    0|        false|          0|     null|GAATCTAATTGTCTTGG...|1:>>@@=?>=>>>?=>>...|\n",
      "|      son|           null|     0|       null|   0|   0|    0|    0|        false|          0|     null|TATAGAGCCCCAACCAC...|;;<<>>>=:>=>><=><...|\n",
      "|      son|           null|     0|       null|   0|   0|    0|    0|        false|          0|     null|TTTGAGAAAACTTACAG...|====@@>>>>=?=>=??...|\n",
      "|      son|           null|     0|       null|   0|   0|    0|    0|        false|          0|     null|ATCTGCTACTATAAGCA...|;<<>=9><=?<===>>=...|\n",
      "+---------+---------------+------+-----------+----+----+-----+-----+-------------+-----------+---------+--------------------+--------------------+\n",
      "only showing top 20 rows\n",
      "\n"
     ]
    }
   ],
   "source": [
    "fastq_all.show()"
   ]
  },
  {
   "cell_type": "code",
   "execution_count": 12,
   "metadata": {},
   "outputs": [
    {
     "name": "stdout",
     "output_type": "stream",
     "text": [
      "+---------+---------------+------+-----------+----+----+-----+-----+-------------+-----------+---------+--------------------+--------------------+\n",
      "|sample_id|instrument_name|run_id|flowcell_id|lane|tile|pos_x|pos_y|filter_passed|control_num|index_seq|                 seq|                qual|\n",
      "+---------+---------------+------+-----------+----+----+-----+-----+-------------+-----------+---------+--------------------+--------------------+\n",
      "|      son|           null|     0|       null|   0|   0|    0|    0|        false|          0|     null|GATGCTCAAACTCCAGG...|=>>=@==?>>=>>>?9<...|\n",
      "|      son|           null|     0|       null|   0|   0|    0|    0|        false|          0|     null|ATTGTGCTTAACAATGC...|995+7))>:,,94=,=9...|\n",
      "|      son|           null|     0|       null|   0|   0|    0|    0|        false|          0|     null|CATCTATTTAGCTGAAA...|=>:>A?>0=:?=?>;1>...|\n",
      "|      son|           null|     0|       null|   0|   0|    0|    0|        false|          0|     null|TTCCTGTACCTCCTTCC...|..6=:8,:=>.=+;<>=...|\n",
      "|      son|           null|     0|       null|   0|   0|    0|    0|        false|          0|     null|CATACCTAGCATGGCCT...|=>>=>??>?>?>>=>?@...|\n",
      "+---------+---------------+------+-----------+----+----+-----+-----+-------------+-----------+---------+--------------------+--------------------+\n",
      "only showing top 5 rows\n",
      "\n"
     ]
    }
   ],
   "source": [
    "fastq_all.show(5)  # pierwsze 5 wierszy"
   ]
  },
  {
   "cell_type": "code",
   "execution_count": 13,
   "metadata": {},
   "outputs": [
    {
     "name": "stdout",
     "output_type": "stream",
     "text": [
      "+---------+---------------+------+-----------+----+----+-----+-----+-------------+-----------+---------+-------------------------------------------------------------------------------------------------------------------------------------------------------+-------------------------------------------------------------------------------------------------------------------------------------------------------+\n",
      "|sample_id|instrument_name|run_id|flowcell_id|lane|tile|pos_x|pos_y|filter_passed|control_num|index_seq|seq                                                                                                                                                    |qual                                                                                                                                                   |\n",
      "+---------+---------------+------+-----------+----+----+-----+-----+-------------+-----------+---------+-------------------------------------------------------------------------------------------------------------------------------------------------------+-------------------------------------------------------------------------------------------------------------------------------------------------------+\n",
      "|son      |null           |0     |null       |0   |0   |0    |0    |false        |0          |null     |GATGCTCAAACTCCAGGTAGTAACCTCAGGTTGTATCATAGCTCCTTTAGGGTACCTCACTGTTTTTAATAAGCACATGGTAAGGATGATGACTTCTCGTCATCTGAACGTATAATATAACAAAAACCTAAGCTACCCAAAGATGAGGAGT|=>>=@==?>>=>>>?9<=>?>>9:>?8>=>9<>=:==-=28=58=.;+;?)466;>?1.8>67<+9;>>=>=>:6<5>>':=5'5<=)9*),=-*1,+'*3=,)9)7+)$,,+?>;,,35?.?,@?*6=?@*8A,3,,7>9=..*<7=.-;|\n",
      "|son      |null           |0     |null       |0   |0   |0    |0    |false        |0          |null     |ATTGTGCTTAACAATGCTGTTCTGATCATGTCGAGCCCTAGATCGACAGGAGTTATTCACTATCCAAGATTATCAGGGCATAGCAAGAGAAGTTGTAGCATACACAATGATGCGCATGTCCCCCAGACTCTTCGATATGCGCAAAGTCGCT|995+7))>:,,94=,=96=,+79)6=+.,)6,$,)3++<+=,>269*;*=>)8<+;34?:/:,+?.-*6;>>;?@6???########################################################################|\n",
      "|son      |null           |0     |null       |0   |0   |0    |0    |false        |0          |null     |CATCTATTTAGCTGAAAGTATTAGAATTTCCAACTCAGAATTAAATAATATGAGAGCCATAAGGATTCAAACTGAAATGTCCAAAGATTGATTTGGCTTTAGGTAAAGCTTGATCTAGGCTCTTAACATGTGTGGGTTTCTTTTCTCTAAT|=>:>A?>0=:?=?>;1>?==>=>?9>>==7>=><>=>>:7=6=<=>==>>>>=>,?><?9;;7:<>=>-=,<>=:81<>=4;-0:9=>;=<==*/:=?864?;72=7(=@>5=??@;>?:/</>68*9-+5*8*?)-4?6;?=??:-?70<|\n",
      "|son      |null           |0     |null       |0   |0   |0    |0    |false        |0          |null     |TTCCTGTACCTCCTTCCCTTACCAATCCACCACTAATCTCTTTCTCTCCTCCCTGGATGTTCAGCTGGATTCTTACATCAGAGGCCTGAAATAATATCACCGATTGAGCTGCTTTGCTTACGGTGATGAAAGACTTGTGCTGGTACTGGCG|..6=:8,:=>.=+;<>===;+<7-<7==68=>:9+=>:7>>+;<;8/>>;>>,<1=-,)=6:=)?=638-,8/+7>.:>6*6>7*</)-8,-79-;-8-??%5->*,;>9+;#######################################|\n",
      "|son      |null           |0     |null       |0   |0   |0    |0    |false        |0          |null     |CATACCTAGCATGGCCTGCTACTCAATCCAAAAGATTTTCCGTACAAGGAGGTAAAATTACATACTAGAATGCCCATCACAATTTAACAGGGAGATTGTTTATGAAGATTTGCAGTTTCCTTGCAGCCATTTAACTACATCTTTTCAACTT|=>>=>??>?>?>>=>?@>>?==?>?>>>>?>=>>=8<<<==7==<?=>>>?>>==>>>=><>===?>?>=>=<=<>=>?:>==<;<==>>==>>;=<><)8>>>>?@=>=>=(@@>>=?>/?@5?A*6.<>,<-;@@>?98B@???/=;=;|\n",
      "|son      |null           |0     |null       |0   |0   |0    |0    |false        |0          |null     |ACTAAATTGCCATGGTAAGGGTTTGAGTTCCCACCATCTATCTACATGGTTTCACACCAGCAAAATAGAGAGATCATGCAGGTTTTAATAGTTTTAAGGTGTTATAAAAACAGATAATTTTGGGGTATTGATTATAAACAATGCGAGTGTG|;:=<>>=<>>=>==<=9=>===<<==>=;6=><;=->>?2>:?=8<>>=;;<>==><>??>=:>???;?@?8->?@;9*9@?:>>,????9?>>,;@A9@?-=;;,?<8@+.*@9;-;,>5*)9?5,@?*9>6A@;6;:>###########|\n",
      "|son      |null           |0     |null       |0   |0   |0    |0    |false        |0          |null     |AACACAGGTGGGAATTGACCCCAGAGACTTGGGATAGACACAATTCTTCAATAACATAGAATAGGCCTGAAGTGCTCAGTTCTGTCTAGAAGCTCACTACTCAAATATATACTGTGGGGGAAAGTAACCGCCTGATGGTTAAAAGGCTGGC|10<:;=.>>78:>==>>>=<>>>;>>>=.:>8>6==>:<>)>==;6><>9>8>==?;>>><;=>>9>=<+=>509<49?4<;>5<5.>839=9>;;1:2'>928==?+>?39@==??==?---2>@8:,:4;9@=@@)6?>.A@*?8><<<|\n",
      "|son      |null           |0     |null       |0   |0   |0    |0    |false        |0          |null     |CATGTTAAGCTGCATGTTAAGTTGTCGCAATCTATTTAAACCAGGAACCCCTAACTATGAGTGTCTTAGAAAGTCTGGGCTGAAGTAAATCTCCAAAATGTCTACTGATTTCATGAATGAGGAAACTGAGGAAGAGGATGAAATACGGGGC|;<<+7===?>>9>=:=<+==)=:<;:7><=6>=<,22>;==+58>><<>9,7==:?>7><*48>>?;?@??>;,???=6>@=;?>??;?7+@8,.6@5,)-?9,:=)?78-,.-?>--@-5;6>-*/?@A)-5B:?@A5@@.-@@######|\n",
      "|son      |null           |0     |null       |0   |0   |0    |0    |false        |0          |null     |CTTTAGTAATTTTCCTCCTTTCCTGTCTTATTTCCTCACTCCTGTCCATTGTTTCCTGGGATCACTCCCGAAGCAAATCACTTGCACTCACATCCACATCTCTACTTCTGGGGAGTCCCAAACTCACACGACATTTTTCTACAAAGGAAAA|=?7=?@>>>>===>>?>>?==>>=>>>?=<><===>=><>==>==>=>>=>>=<>>?>>><==>=?>>>3><>=<=<>>><><=<=<?=><>9=<><?<===?>9@>=>=????>7?576<?*?,<?A*&@=A=>???@?><A@@@>=9=<|\n",
      "|son      |null           |0     |null       |0   |0   |0    |0    |false        |0          |null     |TAAATATTTCACAACACTGCAAAACTTGCACCGCTGCTGCACACAGGCAAACAGTATGAATTCCCACAGGGCTTGGCCAAGACACTGTGTCATCAGTGCATCCATAGTGTTATCTACAGTTTTTAATTGCCGCTATTCTTGCTGCTTAATC|;;<=>>:<=>>;>=;<<>==>=;=<><=<>;>7:>>7?>>5=?<=?>:?98;??;;>=<>>=9:?@>@>??>@>?=??>?@?>?>>??=:?@??@?@@:-?@>??;@;999@@@B=??8;9?3>;????8?.7>8@?A=?@:??@?==::=|\n",
      "|son      |null           |0     |null       |0   |0   |0    |0    |false        |0          |null     |ATCTTTGCATTTGACACAATGGAACATTTTTTAAAATAAACTAAAAATTCAAATGAAAGCAAATGGTTTCCAGTGTGTGTCCTTTTTTAGATTGATGTTGGCATTTTTAAAATAAGGAACTTAATCAACTGTAAGTTTTTTGTTGTTGTTT|=>>??><=?>9=;>=?=?>>=>9><?>==<=<>==<==3=<>======;5?>>=>>><?=<4+=;>>;+==9>+)3(>>==;><;-44=53=<;<;:;;1=5?>+>>:+>?>???6???</>;?@@??:>*@@@=-??>?7AA8@--:<;8|\n",
      "|son      |null           |0     |null       |0   |0   |0    |0    |false        |0          |null     |AACACCAGCCTGGCCAACAAGGCAAAACCGCGCCTCTACTAACAATGCAAAAAAAAATTAGCCAGGGGAGGTGACGGCGCCTGTAATAACAGTTGCTTAGAATACAAAGGCAAAATTGAAACTTAAAGTACATAGGCAAAGGTTGAAGATA|9<:=:>4)>8><==+5,9><)==>=,=5<6=,94>:?69>+><>>4>:>>>><><9>:=>?79?@=?:-*7,=?*7)>/4?;=;=?-+->@>;;#########################################################|\n",
      "|son      |null           |0     |null       |0   |0   |0    |0    |false        |0          |null     |AACACTTCTGTAGAAAAGCAGTTGAAATAACCTAGTGTCATTCTAAAATGATTTGTATACTATGCAGACCAGAATCTAGGGCTATACCTAAAAATACATAAATGAAATTATTCTAGAAGTTATATCTTTATGAAAAAACAAATTAAATGGT|1><>>@>>@><>?>?1><=>?>=4>>>>>>:=?;;56==>=<:>=>==>>>>=<8>;>>=:==2)??+==?4<=9==>=;=;>=<88>>=<===7=<?;6<+5;4;;===,>5@;?<,@:;<-=@,=;,57*--75-:?@9A9?,->>9,<|\n",
      "|son      |null           |0     |null       |0   |0   |0    |0    |false        |0          |null     |GTGAGAAAATAAACCAACACATAAGCCAACTCTCAGAATATGGTTATACATAGGTGTAGCCTATGACTTTGAATGTATTTGTTTGAATAGCGTAAAACAAAATAAAAATAAAATCTGTTTACGGTGCAAGAGAGGGCATTGATACAACGAA|;9;8>,;==>27=;+83<>0>>=88=+5<8;,.=>:>84+,<==<7>6=?>>>),>;6<*8:9,??*?=;?>?7=?;:,;?8+>?:-?46)/6,-6<=78-9:,-@,-,8.6=@,@*-,6,4%?>3*.=4=*;*;>###############|\n",
      "|son      |null           |0     |null       |0   |0   |0    |0    |false        |0          |null     |TATACCTGGGAATGGGGCAAGAATATCTCGTGCGATTTTATTGATACTAGCGGAGAAGGGCATCACACTTCTGCCAGCTCACAGGCACCAGCCTAGGCAAGGCACATTCTAAGACATCAGCAGATTGCATCAATAATCTCTTGGTCATGGT|==>=>??>>>=>>>>>>>?>?>>>>>>?>8>=>5==<;<==<=<=><>>?>8>=?>>?><=;==?=8=?<>>=:=8>>?<><;>.<-=3><=>=<>=>==>>><=@::=@??=?:@??@>?AA?@>@??@@A@@?@@@@@A@A@;??=<<;|\n",
      "|son      |null           |0     |null       |0   |0   |0    |0    |false        |0          |null     |AGGAAATGTCCAGCTTAACCTGCTGGGCACAACAATTTTGCTGCTTCAACCCATCTGCTATGGAAAATGAGGAGCCAACAAAAAAGGGAGAAACAGAGGTGAAGGCACCTGATGATCGAAGCTTCGAGAAGGGGAAGGGGTAAGTACATGC|.<;=>===>>7>>=:<==<=>==>==<=<<>><>:>===>>?>=?=>?;:>>?><=>)=>><>=?>?>?>@>9@;?>?>@?????@==>>??<>@?@A=>3?,?:*7:+/A-8*@-5%--3*?+,%-8:6*)@A@?@<6@>=6A@-7<9:=|\n",
      "|son      |null           |0     |null       |0   |0   |0    |0    |false        |0          |null     |GAATCTAATTGTCTTGGAGTCCTTCAGCTGACTGATTTTTCAACTGGTTTGGAGGAGGTTTTTTGGACATTTTGGTGGAATATAAGGAAACAGAGTTTGTCTCTTTGACTACCTTCATCACAGAGTAACAGCTACATACTTACCTGAAGCC|1:>>@@=?>=>>>?=>>>?=>>?=>??>;>><?==<<<<<=>=:>>====>>>>>>?>=<<<<:>>>=?=<<<====>><====7=<===<=?<==<=<:=><?=>?83<?<=@>???:>?A?:3@,@*@A?>=>A?????A5@=?7>=-:|\n",
      "|son      |null           |0     |null       |0   |0   |0    |0    |false        |0          |null     |TATAGAGCCCCAACCACTCATAGTTTATCCGTAGCTTTTTTTGAAGCCATTCTTCATGTTTATTGAAGGAGCCACCCACTGAGCCCAACATCTGCTTTCCTCAGAAGCTCAAGGGCTAGGTCAACTGAAATAGTAAGTCACGTGGAGTTGT|;;<<>>>=:>=>><=><>;>==>:<<==<=7>=>=>======>9>;7>>>=:?:8?;>;==>>=???>9?@)>@>8>@>?=?>8??@>>@9>@??A>?:@@@;??9@@@<@@<)??8;@>>,?5>@>@@?@<:?@8AA5@?2=?;@>7;:;|\n",
      "|son      |null           |0     |null       |0   |0   |0    |0    |false        |0          |null     |TTTGAGAAAACTTACAGTAAAGATTTACATTCATCTTCTAGGTACCAGAAACTACACTGTTATCTTGTCCAGGCAAAAACTGGTCCACAAGAGAGTCCTATCATATTTGGGTTGTACCAGCAAAAAATAAGTTGGGCTGGGTCTAGATCTG|====@@>>>>=?=>=??>>>>>>>==>=?>==?==><=>=>===:>>>><>=?==?<?=<<===?=>>>=?>;=>==>><>==2<<>=>=>===;7=><==>?>>?><>???>???>?;>@A@,-@@?6@A;??<@@A>@@AAA>;>9<<9|\n",
      "|son      |null           |0     |null       |0   |0   |0    |0    |false        |0          |null     |ATCTGCTACTATAAGCAATTTTATAAGTTCCTTGAGGTTGAAGAAATTAAACAATATGCTTGATCTGGTCTTTGGATTACAGATCTTTCATTTCAGATCTAGACCCAGCCCAACTTATTGTTTGCTGGTACAACCCAAATATGATAGGACT|;<<>=9><=?<===>>==><5<===;>=<===5==?>::>==6<>>>==>>=?>8>>>9?=<,>?@?????8>??>;>?>@@???@>>?@=>>?@A@@>A>A@=??@A?@AAA@B>4??>>?=??@?@@@;?>@@@AA@@7@9@<@>5<9>|\n",
      "+---------+---------------+------+-----------+----+----+-----+-----+-------------+-----------+---------+-------------------------------------------------------------------------------------------------------------------------------------------------------+-------------------------------------------------------------------------------------------------------------------------------------------------------+\n",
      "only showing top 20 rows\n",
      "\n"
     ]
    }
   ],
   "source": [
    "fastq_all.show(truncate=False) # bez skracania zawartości kolumn"
   ]
  },
  {
   "cell_type": "markdown",
   "metadata": {},
   "source": [
    "## Dostęp do wybranych danych"
   ]
  },
  {
   "cell_type": "markdown",
   "metadata": {},
   "source": [
    "#### Operacja projekcji (SELECT)"
   ]
  },
  {
   "cell_type": "code",
   "execution_count": 14,
   "metadata": {},
   "outputs": [
    {
     "name": "stdout",
     "output_type": "stream",
     "text": [
      "+---------+\n",
      "|sample_id|\n",
      "+---------+\n",
      "|      son|\n",
      "|      son|\n",
      "|      son|\n",
      "|      son|\n",
      "|      son|\n",
      "|      son|\n",
      "|      son|\n",
      "|      son|\n",
      "|      son|\n",
      "|      son|\n",
      "|      son|\n",
      "|      son|\n",
      "|      son|\n",
      "|      son|\n",
      "|      son|\n",
      "|      son|\n",
      "|      son|\n",
      "|      son|\n",
      "|      son|\n",
      "|      son|\n",
      "+---------+\n",
      "only showing top 20 rows\n",
      "\n"
     ]
    }
   ],
   "source": [
    "fastq_all.select(\"sample_id\").show()"
   ]
  },
  {
   "cell_type": "markdown",
   "metadata": {},
   "source": [
    "`Czy operacja select (sample_id) wpłynęła na fastq_all?`"
   ]
  },
  {
   "cell_type": "code",
   "execution_count": 15,
   "metadata": {},
   "outputs": [
    {
     "name": "stdout",
     "output_type": "stream",
     "text": [
      "root\n",
      " |-- sample_id: string (nullable = true)\n",
      " |-- instrument_name: string (nullable = true)\n",
      " |-- run_id: integer (nullable = false)\n",
      " |-- flowcell_id: string (nullable = true)\n",
      " |-- lane: integer (nullable = false)\n",
      " |-- tile: integer (nullable = false)\n",
      " |-- pos_x: integer (nullable = false)\n",
      " |-- pos_y: integer (nullable = false)\n",
      " |-- filter_passed: boolean (nullable = false)\n",
      " |-- control_num: integer (nullable = false)\n",
      " |-- index_seq: string (nullable = true)\n",
      " |-- seq: string (nullable = true)\n",
      " |-- qual: string (nullable = true)\n",
      "\n",
      "+---------+---------------+------+-----------+----+----+-----+-----+-------------+-----------+---------+--------------------+--------------------+\n",
      "|sample_id|instrument_name|run_id|flowcell_id|lane|tile|pos_x|pos_y|filter_passed|control_num|index_seq|                 seq|                qual|\n",
      "+---------+---------------+------+-----------+----+----+-----+-----+-------------+-----------+---------+--------------------+--------------------+\n",
      "|      son|           null|     0|       null|   0|   0|    0|    0|        false|          0|     null|GATGCTCAAACTCCAGG...|=>>=@==?>>=>>>?9<...|\n",
      "|      son|           null|     0|       null|   0|   0|    0|    0|        false|          0|     null|ATTGTGCTTAACAATGC...|995+7))>:,,94=,=9...|\n",
      "|      son|           null|     0|       null|   0|   0|    0|    0|        false|          0|     null|CATCTATTTAGCTGAAA...|=>:>A?>0=:?=?>;1>...|\n",
      "|      son|           null|     0|       null|   0|   0|    0|    0|        false|          0|     null|TTCCTGTACCTCCTTCC...|..6=:8,:=>.=+;<>=...|\n",
      "|      son|           null|     0|       null|   0|   0|    0|    0|        false|          0|     null|CATACCTAGCATGGCCT...|=>>=>??>?>?>>=>?@...|\n",
      "|      son|           null|     0|       null|   0|   0|    0|    0|        false|          0|     null|ACTAAATTGCCATGGTA...|;:=<>>=<>>=>==<=9...|\n",
      "|      son|           null|     0|       null|   0|   0|    0|    0|        false|          0|     null|AACACAGGTGGGAATTG...|10<:;=.>>78:>==>>...|\n",
      "|      son|           null|     0|       null|   0|   0|    0|    0|        false|          0|     null|CATGTTAAGCTGCATGT...|;<<+7===?>>9>=:=<...|\n",
      "|      son|           null|     0|       null|   0|   0|    0|    0|        false|          0|     null|CTTTAGTAATTTTCCTC...|=?7=?@>>>>===>>?>...|\n",
      "|      son|           null|     0|       null|   0|   0|    0|    0|        false|          0|     null|TAAATATTTCACAACAC...|;;<=>>:<=>>;>=;<<...|\n",
      "|      son|           null|     0|       null|   0|   0|    0|    0|        false|          0|     null|ATCTTTGCATTTGACAC...|=>>??><=?>9=;>=?=...|\n",
      "|      son|           null|     0|       null|   0|   0|    0|    0|        false|          0|     null|AACACCAGCCTGGCCAA...|9<:=:>4)>8><==+5,...|\n",
      "|      son|           null|     0|       null|   0|   0|    0|    0|        false|          0|     null|AACACTTCTGTAGAAAA...|1><>>@>>@><>?>?1>...|\n",
      "|      son|           null|     0|       null|   0|   0|    0|    0|        false|          0|     null|GTGAGAAAATAAACCAA...|;9;8>,;==>27=;+83...|\n",
      "|      son|           null|     0|       null|   0|   0|    0|    0|        false|          0|     null|TATACCTGGGAATGGGG...|==>=>??>>>=>>>>>>...|\n",
      "|      son|           null|     0|       null|   0|   0|    0|    0|        false|          0|     null|AGGAAATGTCCAGCTTA...|.<;=>===>>7>>=:<=...|\n",
      "|      son|           null|     0|       null|   0|   0|    0|    0|        false|          0|     null|GAATCTAATTGTCTTGG...|1:>>@@=?>=>>>?=>>...|\n",
      "|      son|           null|     0|       null|   0|   0|    0|    0|        false|          0|     null|TATAGAGCCCCAACCAC...|;;<<>>>=:>=>><=><...|\n",
      "|      son|           null|     0|       null|   0|   0|    0|    0|        false|          0|     null|TTTGAGAAAACTTACAG...|====@@>>>>=?=>=??...|\n",
      "|      son|           null|     0|       null|   0|   0|    0|    0|        false|          0|     null|ATCTGCTACTATAAGCA...|;<<>=9><=?<===>>=...|\n",
      "+---------+---------------+------+-----------+----+----+-----+-----+-------------+-----------+---------+--------------------+--------------------+\n",
      "only showing top 20 rows\n",
      "\n"
     ]
    }
   ],
   "source": [
    "fastq_all.printSchema()\n",
    "fastq_all.show() "
   ]
  },
  {
   "cell_type": "markdown",
   "metadata": {},
   "source": [
    "Jeśli chcemy zachować wynik działania transformacji (w celu późniejszego wykorzystania) trzeba wynik zachować w zmiennej."
   ]
  },
  {
   "cell_type": "code",
   "execution_count": 16,
   "metadata": {},
   "outputs": [],
   "source": [
    "fastq_sample_only = fastq_all.select(\"sample_id\")  "
   ]
  },
  {
   "cell_type": "code",
   "execution_count": 17,
   "metadata": {},
   "outputs": [
    {
     "name": "stdout",
     "output_type": "stream",
     "text": [
      "root\n",
      " |-- sample_id: string (nullable = true)\n",
      "\n",
      "+---------+\n",
      "|sample_id|\n",
      "+---------+\n",
      "|      son|\n",
      "|      son|\n",
      "|      son|\n",
      "|      son|\n",
      "|      son|\n",
      "|      son|\n",
      "|      son|\n",
      "|      son|\n",
      "|      son|\n",
      "|      son|\n",
      "|      son|\n",
      "|      son|\n",
      "|      son|\n",
      "|      son|\n",
      "|      son|\n",
      "|      son|\n",
      "|      son|\n",
      "|      son|\n",
      "|      son|\n",
      "|      son|\n",
      "+---------+\n",
      "only showing top 20 rows\n",
      "\n"
     ]
    }
   ],
   "source": [
    "fastq_sample_only.printSchema()\n",
    "fastq_sample_only.show()"
   ]
  },
  {
   "cell_type": "code",
   "execution_count": 18,
   "metadata": {},
   "outputs": [
    {
     "name": "stdout",
     "output_type": "stream",
     "text": [
      "+---------+--------------------+\n",
      "|sample_id|                 seq|\n",
      "+---------+--------------------+\n",
      "|      son|GATGCTCAAACTCCAGG...|\n",
      "|      son|ATTGTGCTTAACAATGC...|\n",
      "|      son|CATCTATTTAGCTGAAA...|\n",
      "|      son|TTCCTGTACCTCCTTCC...|\n",
      "|      son|CATACCTAGCATGGCCT...|\n",
      "|      son|ACTAAATTGCCATGGTA...|\n",
      "|      son|AACACAGGTGGGAATTG...|\n",
      "|      son|CATGTTAAGCTGCATGT...|\n",
      "|      son|CTTTAGTAATTTTCCTC...|\n",
      "|      son|TAAATATTTCACAACAC...|\n",
      "|      son|ATCTTTGCATTTGACAC...|\n",
      "|      son|AACACCAGCCTGGCCAA...|\n",
      "|      son|AACACTTCTGTAGAAAA...|\n",
      "|      son|GTGAGAAAATAAACCAA...|\n",
      "|      son|TATACCTGGGAATGGGG...|\n",
      "|      son|AGGAAATGTCCAGCTTA...|\n",
      "|      son|GAATCTAATTGTCTTGG...|\n",
      "|      son|TATAGAGCCCCAACCAC...|\n",
      "|      son|TTTGAGAAAACTTACAG...|\n",
      "|      son|ATCTGCTACTATAAGCA...|\n",
      "+---------+--------------------+\n",
      "only showing top 20 rows\n",
      "\n"
     ]
    }
   ],
   "source": [
    "fastq_all.select(\"sample_id\",\"seq\").show()"
   ]
  },
  {
   "cell_type": "markdown",
   "metadata": {},
   "source": [
    "Powiedzmy, że interesują nas wszystkie kolumny poza qual. Jak to zrobic? Można wylistować wszystkie kolumny poza qual, ale to uciazliwe. Mozna skorzystac z operacji drop."
   ]
  },
  {
   "cell_type": "code",
   "execution_count": 19,
   "metadata": {},
   "outputs": [],
   "source": [
    "fastq_no_qual=fastq_all.drop('qual')"
   ]
  },
  {
   "cell_type": "code",
   "execution_count": 20,
   "metadata": {},
   "outputs": [
    {
     "name": "stdout",
     "output_type": "stream",
     "text": [
      "root\n",
      " |-- sample_id: string (nullable = true)\n",
      " |-- instrument_name: string (nullable = true)\n",
      " |-- run_id: integer (nullable = false)\n",
      " |-- flowcell_id: string (nullable = true)\n",
      " |-- lane: integer (nullable = false)\n",
      " |-- tile: integer (nullable = false)\n",
      " |-- pos_x: integer (nullable = false)\n",
      " |-- pos_y: integer (nullable = false)\n",
      " |-- filter_passed: boolean (nullable = false)\n",
      " |-- control_num: integer (nullable = false)\n",
      " |-- index_seq: string (nullable = true)\n",
      " |-- seq: string (nullable = true)\n",
      "\n",
      "+---------+---------------+------+-----------+----+----+-----+-----+-------------+-----------+---------+--------------------+\n",
      "|sample_id|instrument_name|run_id|flowcell_id|lane|tile|pos_x|pos_y|filter_passed|control_num|index_seq|                 seq|\n",
      "+---------+---------------+------+-----------+----+----+-----+-----+-------------+-----------+---------+--------------------+\n",
      "|      son|           null|     0|       null|   0|   0|    0|    0|        false|          0|     null|GATGCTCAAACTCCAGG...|\n",
      "|      son|           null|     0|       null|   0|   0|    0|    0|        false|          0|     null|ATTGTGCTTAACAATGC...|\n",
      "|      son|           null|     0|       null|   0|   0|    0|    0|        false|          0|     null|CATCTATTTAGCTGAAA...|\n",
      "|      son|           null|     0|       null|   0|   0|    0|    0|        false|          0|     null|TTCCTGTACCTCCTTCC...|\n",
      "|      son|           null|     0|       null|   0|   0|    0|    0|        false|          0|     null|CATACCTAGCATGGCCT...|\n",
      "|      son|           null|     0|       null|   0|   0|    0|    0|        false|          0|     null|ACTAAATTGCCATGGTA...|\n",
      "|      son|           null|     0|       null|   0|   0|    0|    0|        false|          0|     null|AACACAGGTGGGAATTG...|\n",
      "|      son|           null|     0|       null|   0|   0|    0|    0|        false|          0|     null|CATGTTAAGCTGCATGT...|\n",
      "|      son|           null|     0|       null|   0|   0|    0|    0|        false|          0|     null|CTTTAGTAATTTTCCTC...|\n",
      "|      son|           null|     0|       null|   0|   0|    0|    0|        false|          0|     null|TAAATATTTCACAACAC...|\n",
      "|      son|           null|     0|       null|   0|   0|    0|    0|        false|          0|     null|ATCTTTGCATTTGACAC...|\n",
      "|      son|           null|     0|       null|   0|   0|    0|    0|        false|          0|     null|AACACCAGCCTGGCCAA...|\n",
      "|      son|           null|     0|       null|   0|   0|    0|    0|        false|          0|     null|AACACTTCTGTAGAAAA...|\n",
      "|      son|           null|     0|       null|   0|   0|    0|    0|        false|          0|     null|GTGAGAAAATAAACCAA...|\n",
      "|      son|           null|     0|       null|   0|   0|    0|    0|        false|          0|     null|TATACCTGGGAATGGGG...|\n",
      "|      son|           null|     0|       null|   0|   0|    0|    0|        false|          0|     null|AGGAAATGTCCAGCTTA...|\n",
      "|      son|           null|     0|       null|   0|   0|    0|    0|        false|          0|     null|GAATCTAATTGTCTTGG...|\n",
      "|      son|           null|     0|       null|   0|   0|    0|    0|        false|          0|     null|TATAGAGCCCCAACCAC...|\n",
      "|      son|           null|     0|       null|   0|   0|    0|    0|        false|          0|     null|TTTGAGAAAACTTACAG...|\n",
      "|      son|           null|     0|       null|   0|   0|    0|    0|        false|          0|     null|ATCTGCTACTATAAGCA...|\n",
      "+---------+---------------+------+-----------+----+----+-----+-----+-------------+-----------+---------+--------------------+\n",
      "only showing top 20 rows\n",
      "\n"
     ]
    }
   ],
   "source": [
    "fastq_no_qual.printSchema()\n",
    "fastq_no_qual.show()"
   ]
  },
  {
   "cell_type": "markdown",
   "metadata": {},
   "source": [
    "## <span style='background:yellow'> ZADANIE  </span>\n",
    "\n",
    "Stwórz nową ramkę danych która będzie zawierać wszystkie kolumny z fastq_all poza pos_x i pos_y. Wyświetl 10 wierszy z tej kolekcji pokazując pełną zawartość kolumn"
   ]
  },
  {
   "cell_type": "code",
   "execution_count": 21,
   "metadata": {},
   "outputs": [
    {
     "name": "stdout",
     "output_type": "stream",
     "text": [
      "+---------+---------------+------+-----------+----+----+-------------+-----------+---------+-------------------------------------------------------------------------------------------------------------------------------------------------------+-------------------------------------------------------------------------------------------------------------------------------------------------------+\n",
      "|sample_id|instrument_name|run_id|flowcell_id|lane|tile|filter_passed|control_num|index_seq|seq                                                                                                                                                    |qual                                                                                                                                                   |\n",
      "+---------+---------------+------+-----------+----+----+-------------+-----------+---------+-------------------------------------------------------------------------------------------------------------------------------------------------------+-------------------------------------------------------------------------------------------------------------------------------------------------------+\n",
      "|son      |null           |0     |null       |0   |0   |false        |0          |null     |GATGCTCAAACTCCAGGTAGTAACCTCAGGTTGTATCATAGCTCCTTTAGGGTACCTCACTGTTTTTAATAAGCACATGGTAAGGATGATGACTTCTCGTCATCTGAACGTATAATATAACAAAAACCTAAGCTACCCAAAGATGAGGAGT|=>>=@==?>>=>>>?9<=>?>>9:>?8>=>9<>=:==-=28=58=.;+;?)466;>?1.8>67<+9;>>=>=>:6<5>>':=5'5<=)9*),=-*1,+'*3=,)9)7+)$,,+?>;,,35?.?,@?*6=?@*8A,3,,7>9=..*<7=.-;|\n",
      "|son      |null           |0     |null       |0   |0   |false        |0          |null     |ATTGTGCTTAACAATGCTGTTCTGATCATGTCGAGCCCTAGATCGACAGGAGTTATTCACTATCCAAGATTATCAGGGCATAGCAAGAGAAGTTGTAGCATACACAATGATGCGCATGTCCCCCAGACTCTTCGATATGCGCAAAGTCGCT|995+7))>:,,94=,=96=,+79)6=+.,)6,$,)3++<+=,>269*;*=>)8<+;34?:/:,+?.-*6;>>;?@6???########################################################################|\n",
      "|son      |null           |0     |null       |0   |0   |false        |0          |null     |CATCTATTTAGCTGAAAGTATTAGAATTTCCAACTCAGAATTAAATAATATGAGAGCCATAAGGATTCAAACTGAAATGTCCAAAGATTGATTTGGCTTTAGGTAAAGCTTGATCTAGGCTCTTAACATGTGTGGGTTTCTTTTCTCTAAT|=>:>A?>0=:?=?>;1>?==>=>?9>>==7>=><>=>>:7=6=<=>==>>>>=>,?><?9;;7:<>=>-=,<>=:81<>=4;-0:9=>;=<==*/:=?864?;72=7(=@>5=??@;>?:/</>68*9-+5*8*?)-4?6;?=??:-?70<|\n",
      "|son      |null           |0     |null       |0   |0   |false        |0          |null     |TTCCTGTACCTCCTTCCCTTACCAATCCACCACTAATCTCTTTCTCTCCTCCCTGGATGTTCAGCTGGATTCTTACATCAGAGGCCTGAAATAATATCACCGATTGAGCTGCTTTGCTTACGGTGATGAAAGACTTGTGCTGGTACTGGCG|..6=:8,:=>.=+;<>===;+<7-<7==68=>:9+=>:7>>+;<;8/>>;>>,<1=-,)=6:=)?=638-,8/+7>.:>6*6>7*</)-8,-79-;-8-??%5->*,;>9+;#######################################|\n",
      "|son      |null           |0     |null       |0   |0   |false        |0          |null     |CATACCTAGCATGGCCTGCTACTCAATCCAAAAGATTTTCCGTACAAGGAGGTAAAATTACATACTAGAATGCCCATCACAATTTAACAGGGAGATTGTTTATGAAGATTTGCAGTTTCCTTGCAGCCATTTAACTACATCTTTTCAACTT|=>>=>??>?>?>>=>?@>>?==?>?>>>>?>=>>=8<<<==7==<?=>>>?>>==>>>=><>===?>?>=>=<=<>=>?:>==<;<==>>==>>;=<><)8>>>>?@=>=>=(@@>>=?>/?@5?A*6.<>,<-;@@>?98B@???/=;=;|\n",
      "|son      |null           |0     |null       |0   |0   |false        |0          |null     |ACTAAATTGCCATGGTAAGGGTTTGAGTTCCCACCATCTATCTACATGGTTTCACACCAGCAAAATAGAGAGATCATGCAGGTTTTAATAGTTTTAAGGTGTTATAAAAACAGATAATTTTGGGGTATTGATTATAAACAATGCGAGTGTG|;:=<>>=<>>=>==<=9=>===<<==>=;6=><;=->>?2>:?=8<>>=;;<>==><>??>=:>???;?@?8->?@;9*9@?:>>,????9?>>,;@A9@?-=;;,?<8@+.*@9;-;,>5*)9?5,@?*9>6A@;6;:>###########|\n",
      "|son      |null           |0     |null       |0   |0   |false        |0          |null     |AACACAGGTGGGAATTGACCCCAGAGACTTGGGATAGACACAATTCTTCAATAACATAGAATAGGCCTGAAGTGCTCAGTTCTGTCTAGAAGCTCACTACTCAAATATATACTGTGGGGGAAAGTAACCGCCTGATGGTTAAAAGGCTGGC|10<:;=.>>78:>==>>>=<>>>;>>>=.:>8>6==>:<>)>==;6><>9>8>==?;>>><;=>>9>=<+=>509<49?4<;>5<5.>839=9>;;1:2'>928==?+>?39@==??==?---2>@8:,:4;9@=@@)6?>.A@*?8><<<|\n",
      "|son      |null           |0     |null       |0   |0   |false        |0          |null     |CATGTTAAGCTGCATGTTAAGTTGTCGCAATCTATTTAAACCAGGAACCCCTAACTATGAGTGTCTTAGAAAGTCTGGGCTGAAGTAAATCTCCAAAATGTCTACTGATTTCATGAATGAGGAAACTGAGGAAGAGGATGAAATACGGGGC|;<<+7===?>>9>=:=<+==)=:<;:7><=6>=<,22>;==+58>><<>9,7==:?>7><*48>>?;?@??>;,???=6>@=;?>??;?7+@8,.6@5,)-?9,:=)?78-,.-?>--@-5;6>-*/?@A)-5B:?@A5@@.-@@######|\n",
      "|son      |null           |0     |null       |0   |0   |false        |0          |null     |CTTTAGTAATTTTCCTCCTTTCCTGTCTTATTTCCTCACTCCTGTCCATTGTTTCCTGGGATCACTCCCGAAGCAAATCACTTGCACTCACATCCACATCTCTACTTCTGGGGAGTCCCAAACTCACACGACATTTTTCTACAAAGGAAAA|=?7=?@>>>>===>>?>>?==>>=>>>?=<><===>=><>==>==>=>>=>>=<>>?>>><==>=?>>>3><>=<=<>>><><=<=<?=><>9=<><?<===?>9@>=>=????>7?576<?*?,<?A*&@=A=>???@?><A@@@>=9=<|\n",
      "|son      |null           |0     |null       |0   |0   |false        |0          |null     |TAAATATTTCACAACACTGCAAAACTTGCACCGCTGCTGCACACAGGCAAACAGTATGAATTCCCACAGGGCTTGGCCAAGACACTGTGTCATCAGTGCATCCATAGTGTTATCTACAGTTTTTAATTGCCGCTATTCTTGCTGCTTAATC|;;<=>>:<=>>;>=;<<>==>=;=<><=<>;>7:>>7?>>5=?<=?>:?98;??;;>=<>>=9:?@>@>??>@>?=??>?@?>?>>??=:?@??@?@@:-?@>??;@;999@@@B=??8;9?3>;????8?.7>8@?A=?@:??@?==::=|\n",
      "+---------+---------------+------+-----------+----+----+-------------+-----------+---------+-------------------------------------------------------------------------------------------------------------------------------------------------------+-------------------------------------------------------------------------------------------------------------------------------------------------------+\n",
      "only showing top 10 rows\n",
      "\n"
     ]
    }
   ],
   "source": [
    "fastq_cropped = fastq_all.drop('pos_x', 'pos_y')\n",
    "fastq_cropped.show(10, truncate=False)"
   ]
  },
  {
   "cell_type": "markdown",
   "metadata": {},
   "source": [
    "## Wartości unikalne\n",
    "Jeśli chcemy uzyskać unikalne wartości w określonych kolumnach korzystamy z metody distinct().\n",
    "Operacje na DF można łańcuchowo łączyć, zatem na wyniku działania select() można wywołać kolejne metody."
   ]
  },
  {
   "cell_type": "code",
   "execution_count": 22,
   "metadata": {},
   "outputs": [
    {
     "name": "stdout",
     "output_type": "stream",
     "text": [
      "+---------+\n",
      "|sample_id|\n",
      "+---------+\n",
      "|   father|\n",
      "|   mother|\n",
      "|      son|\n",
      "+---------+\n",
      "\n"
     ]
    }
   ],
   "source": [
    "fastq_all.select('sample_id').distinct().show()"
   ]
  },
  {
   "cell_type": "code",
   "execution_count": 23,
   "metadata": {},
   "outputs": [
    {
     "name": "stdout",
     "output_type": "stream",
     "text": [
      "+---------+-------------+\n",
      "|sample_id|filter_passed|\n",
      "+---------+-------------+\n",
      "|   mother|        false|\n",
      "|      son|        false|\n",
      "|   father|        false|\n",
      "+---------+-------------+\n",
      "\n"
     ]
    }
   ],
   "source": [
    "fastq_all.select('sample_id', 'filter_passed').distinct().show()"
   ]
  },
  {
   "cell_type": "code",
   "execution_count": 24,
   "metadata": {},
   "outputs": [
    {
     "data": {
      "text/plain": [
       "241114"
      ]
     },
     "execution_count": 24,
     "metadata": {},
     "output_type": "execute_result"
    }
   ],
   "source": [
    "fastq_all.count()"
   ]
  },
  {
   "cell_type": "markdown",
   "metadata": {},
   "source": [
    "### Filtrowanie wynikow\n",
    "Nasz zbiór danych posiada odczyty z 3 próbek. Ograniczmy się do wybranych próbek."
   ]
  },
  {
   "cell_type": "code",
   "execution_count": 25,
   "metadata": {},
   "outputs": [],
   "source": [
    "fastq_mother = fastq_all.filter(\"sample_id = 'mother'\")"
   ]
  },
  {
   "cell_type": "markdown",
   "metadata": {},
   "source": [
    "`Czy już odbył się odczyt danych z fastq?`"
   ]
  },
  {
   "cell_type": "code",
   "execution_count": 26,
   "metadata": {},
   "outputs": [
    {
     "name": "stdout",
     "output_type": "stream",
     "text": [
      "+---------+---------------+------+-----------+----+----+-----+-----+-------------+-----------+---------+--------------------+--------------------+\n",
      "|sample_id|instrument_name|run_id|flowcell_id|lane|tile|pos_x|pos_y|filter_passed|control_num|index_seq|                 seq|                qual|\n",
      "+---------+---------------+------+-----------+----+----+-----+-----+-------------+-----------+---------+--------------------+--------------------+\n",
      "|   mother|           null|     0|       null|   0|   0|    0|    0|        false|          0|     null|TGGAGTTCTAAATTGTG...|==:=?>=>?>>>>>>>>...|\n",
      "|   mother|           null|     0|       null|   0|   0|    0|    0|        false|          0|     null|GCATGTGCAAGTATCTT...|;;<<9>>>>9>:=<=?<...|\n",
      "|   mother|           null|     0|       null|   0|   0|    0|    0|        false|          0|     null|GCCATTAGACGACATTT...|=<=2?<0?=;5>>?>70...|\n",
      "|   mother|           null|     0|       null|   0|   0|    0|    0|        false|          0|     null|AGGCAGGACTAGTTCCT...|::;,::*-=0:>88-+;...|\n",
      "|   mother|           null|     0|       null|   0|   0|    0|    0|        false|          0|     null|ATAAGGGGGCCACTTTT...|==8=??>>>?>?>@>==...|\n",
      "|   mother|           null|     0|       null|   0|   0|    0|    0|        false|          0|     null|TGAAAAACCACATGGAA...|/99;;9=8=>=-2=::3...|\n",
      "|   mother|           null|     0|       null|   0|   0|    0|    0|        false|          0|     null|GAAATGCTTAATTACCC...|====2??@<=>>==8=0...|\n",
      "|   mother|           null|     0|       null|   0|   0|    0|    0|        false|          0|     null|CCACAAAAGCCTTTATC...|;;<6<.>=>2+>=8,=9...|\n",
      "|   mother|           null|     0|       null|   0|   0|    0|    0|        false|          0|     null|CAACTTAACAAATTCAT...|=>;<?>?>>?>=>=>?>...|\n",
      "|   mother|           null|     0|       null|   0|   0|    0|    0|        false|          0|     null|TTCTCCTAAGTGAAATA...|;:;=9>?==?===<==>...|\n",
      "|   mother|           null|     0|       null|   0|   0|    0|    0|        false|          0|     null|AGAATTACTGTTTGACT...|</;=:>>>?9/:7;<>4...|\n",
      "|   mother|           null|     0|       null|   0|   0|    0|    0|        false|          0|     null|AGATATAAATTATATTG...|:.9/;-?.=8+>->-+7...|\n",
      "|   mother|           null|     0|       null|   0|   0|    0|    0|        false|          0|     null|TTTGAACCTTTACTACA...|====??>>?==?>?=>?...|\n",
      "|   mother|           null|     0|       null|   0|   0|    0|    0|        false|          0|     null|TCAAGGACTAAGATATA...|;0:<=>>=>?<=9=>=>...|\n",
      "|   mother|           null|     0|       null|   0|   0|    0|    0|        false|          0|     null|AGTAAAGGTTCTAGTTA...|<=;==?>>=><@7<;9=...|\n",
      "|   mother|           null|     0|       null|   0|   0|    0|    0|        false|          0|     null|GAGGGTGTCATGGGAAC...|;;8:+.>:;.==*=-=;...|\n",
      "|   mother|           null|     0|       null|   0|   0|    0|    0|        false|          0|     null|ATAAATGGTCCTTAAAT...|===<??>>>>>@==>>>...|\n",
      "|   mother|           null|     0|       null|   0|   0|    0|    0|        false|          0|     null|TTAATTTATGTACTCAA...|;;;<===>=>=>=>=>=...|\n",
      "|   mother|           null|     0|       null|   0|   0|    0|    0|        false|          0|     null|AGTTTCCTGGGGCATGC...|==9=??>?>><>??>>?...|\n",
      "|   mother|           null|     0|       null|   0|   0|    0|    0|        false|          0|     null|AATGCTAGACTTTTCAT...|:;;<;??>=><<<<=>=...|\n",
      "+---------+---------------+------+-----------+----+----+-----+-----+-------------+-----------+---------+--------------------+--------------------+\n",
      "only showing top 20 rows\n",
      "\n"
     ]
    }
   ],
   "source": [
    "fastq_mother.show()"
   ]
  },
  {
   "cell_type": "code",
   "execution_count": 27,
   "metadata": {},
   "outputs": [
    {
     "name": "stdout",
     "output_type": "stream",
     "text": [
      "+---------+\n",
      "|sample_id|\n",
      "+---------+\n",
      "|   mother|\n",
      "+---------+\n",
      "\n"
     ]
    }
   ],
   "source": [
    "fastq_mother.select('sample_id').distinct().show()"
   ]
  },
  {
   "cell_type": "code",
   "execution_count": 28,
   "metadata": {},
   "outputs": [
    {
     "data": {
      "text/plain": [
       "133160"
      ]
     },
     "execution_count": 28,
     "metadata": {},
     "output_type": "execute_result"
    }
   ],
   "source": [
    "fastq_mother.count()"
   ]
  },
  {
   "cell_type": "markdown",
   "metadata": {},
   "source": [
    "Warunki można łączyć spójnikami logicznymi. Można używać operatorów arytmetycznych, przynależności do zbioru (IN), porównania znaków (LIKE), przyrównania do wartości NULL (IS NULL i IS NOT NULL)\n",
    "\n",
    "Przy korzystaniu z LIKE można użyć % jako oznaczenie dowolnego ciągu znaków"
   ]
  },
  {
   "cell_type": "markdown",
   "metadata": {},
   "source": [
    "Pokaż odczyty spełniające warunek ze nazwa instrumentu jest pusta, run_id jest >=0 a odczyt zaczyna sie od liter GCA. Pokaz tylko kolumny z filtra oraz nazwe probki"
   ]
  },
  {
   "cell_type": "code",
   "execution_count": 29,
   "metadata": {},
   "outputs": [
    {
     "name": "stdout",
     "output_type": "stream",
     "text": [
      "+---------+---------------+------+--------------------+\n",
      "|sample_id|instrument_name|run_id|                 seq|\n",
      "+---------+---------------+------+--------------------+\n",
      "|   mother|           null|     0|GCATGTGCAAGTATCTT...|\n",
      "|   mother|           null|     0|GCAGGTACTCATGTTCA...|\n",
      "|   mother|           null|     0|GCACATCCTGGCCTCCT...|\n",
      "|   mother|           null|     0|GCAACCTCCACCTCCTA...|\n",
      "|   mother|           null|     0|GCAGAAGGTGCAAAAGC...|\n",
      "|   mother|           null|     0|GCATCGAATTTTTTTTC...|\n",
      "|   mother|           null|     0|GCACTTCCCTGGCCACA...|\n",
      "|   mother|           null|     0|GCAGTCACCTTCCCAGC...|\n",
      "|   mother|           null|     0|GCACCTCTGATGCTGGA...|\n",
      "|   mother|           null|     0|GCAGAAAGCTGGGTGCA...|\n",
      "|   mother|           null|     0|GCATAATAGACACTAGG...|\n",
      "|   mother|           null|     0|GCAATCAATCAGATGGC...|\n",
      "|   mother|           null|     0|GCAACTTCAGTAAAGTC...|\n",
      "|   mother|           null|     0|GCAAACGAACACAGGAA...|\n",
      "|   mother|           null|     0|GCATATCATTTCCCATA...|\n",
      "|   mother|           null|     0|GCATTTTCACTTGCATG...|\n",
      "|   mother|           null|     0|GCAGTTACAGTCTTAGA...|\n",
      "|   mother|           null|     0|GCAACTTATAAAATGGG...|\n",
      "|   mother|           null|     0|GCAACATATAAAATGGG...|\n",
      "|   mother|           null|     0|GCAACGGACAAGGAGAA...|\n",
      "+---------+---------------+------+--------------------+\n",
      "only showing top 20 rows\n",
      "\n"
     ]
    }
   ],
   "source": [
    "fastq_mother.filter('instrument_name IS NULL and run_id>=0 and seq LIKE \"GCA%\"').select('sample_id', 'instrument_name', 'run_id', 'seq').show()"
   ]
  },
  {
   "cell_type": "code",
   "execution_count": 30,
   "metadata": {},
   "outputs": [
    {
     "name": "stdout",
     "output_type": "stream",
     "text": [
      "+---------+---------------+------+--------------------+\n",
      "|sample_id|instrument_name|run_id|                 seq|\n",
      "+---------+---------------+------+--------------------+\n",
      "|   mother|           null|     0|GCATGTGCAAGTATCTT...|\n",
      "|   mother|           null|     0|GCAGGTACTCATGTTCA...|\n",
      "|   mother|           null|     0|GCACATCCTGGCCTCCT...|\n",
      "|   mother|           null|     0|GCAACCTCCACCTCCTA...|\n",
      "|   mother|           null|     0|GCAGAAGGTGCAAAAGC...|\n",
      "|   mother|           null|     0|GCATCGAATTTTTTTTC...|\n",
      "|   mother|           null|     0|GCACTTCCCTGGCCACA...|\n",
      "|   mother|           null|     0|GCAGTCACCTTCCCAGC...|\n",
      "|   mother|           null|     0|GCACCTCTGATGCTGGA...|\n",
      "|   mother|           null|     0|GCAGAAAGCTGGGTGCA...|\n",
      "|   mother|           null|     0|GCATAATAGACACTAGG...|\n",
      "|   mother|           null|     0|GCAATCAATCAGATGGC...|\n",
      "|   mother|           null|     0|GCAACTTCAGTAAAGTC...|\n",
      "|   mother|           null|     0|GCAAACGAACACAGGAA...|\n",
      "|   mother|           null|     0|GCATATCATTTCCCATA...|\n",
      "|   mother|           null|     0|GCATTTTCACTTGCATG...|\n",
      "|   mother|           null|     0|GCAGTTACAGTCTTAGA...|\n",
      "|   mother|           null|     0|GCAACTTATAAAATGGG...|\n",
      "|   mother|           null|     0|GCAACATATAAAATGGG...|\n",
      "|   mother|           null|     0|GCAACGGACAAGGAGAA...|\n",
      "+---------+---------------+------+--------------------+\n",
      "only showing top 20 rows\n",
      "\n"
     ]
    }
   ],
   "source": [
    "fastq_mother.select('sample_id', 'instrument_name', 'run_id', 'seq').filter('instrument_name IS NULL and run_id>=0 and seq LIKE \"GCA%\"').show() # kolejnosc select i filter bez znaczenia"
   ]
  },
  {
   "cell_type": "markdown",
   "metadata": {},
   "source": [
    "## <span style='background:yellow'> ZADANIE  </span>\n",
    "\n",
    "Napisz polecenie które policzy ile jest rekordów dla próbki syna które spełniają warunki, że sekwencja odczytu konczy się na TGG a qual zaczyna się od ==."
   ]
  },
  {
   "cell_type": "code",
   "execution_count": 31,
   "metadata": {},
   "outputs": [
    {
     "data": {
      "text/plain": [
       "83"
      ]
     },
     "execution_count": 31,
     "metadata": {},
     "output_type": "execute_result"
    }
   ],
   "source": [
    "fastq_all.filter(\"sample_id='son' and seq LIKE '%TGG' and qual LIKE '==%' \").count()"
   ]
  },
  {
   "cell_type": "markdown",
   "metadata": {},
   "source": [
    "## Uzywanie funkcji, kolumny wyliczane"
   ]
  },
  {
   "cell_type": "code",
   "execution_count": 32,
   "metadata": {},
   "outputs": [
    {
     "name": "stdout",
     "output_type": "stream",
     "text": [
      "+---------+---------------+------+-----------+----+----+-----+-----+-------------+-----------+---------+--------------------+--------------------+\n",
      "|sample_id|instrument_name|run_id|flowcell_id|lane|tile|pos_x|pos_y|filter_passed|control_num|index_seq|                 seq|                qual|\n",
      "+---------+---------------+------+-----------+----+----+-----+-----+-------------+-----------+---------+--------------------+--------------------+\n",
      "|      son|           null|     0|       null|   0|   0|    0|    0|        false|          0|     null|GATGCTCAAACTCCAGG...|=>>=@==?>>=>>>?9<...|\n",
      "|      son|           null|     0|       null|   0|   0|    0|    0|        false|          0|     null|ATTGTGCTTAACAATGC...|995+7))>:,,94=,=9...|\n",
      "|      son|           null|     0|       null|   0|   0|    0|    0|        false|          0|     null|CATCTATTTAGCTGAAA...|=>:>A?>0=:?=?>;1>...|\n",
      "|      son|           null|     0|       null|   0|   0|    0|    0|        false|          0|     null|TTCCTGTACCTCCTTCC...|..6=:8,:=>.=+;<>=...|\n",
      "|      son|           null|     0|       null|   0|   0|    0|    0|        false|          0|     null|CATACCTAGCATGGCCT...|=>>=>??>?>?>>=>?@...|\n",
      "|      son|           null|     0|       null|   0|   0|    0|    0|        false|          0|     null|ACTAAATTGCCATGGTA...|;:=<>>=<>>=>==<=9...|\n",
      "|      son|           null|     0|       null|   0|   0|    0|    0|        false|          0|     null|AACACAGGTGGGAATTG...|10<:;=.>>78:>==>>...|\n",
      "|      son|           null|     0|       null|   0|   0|    0|    0|        false|          0|     null|CATGTTAAGCTGCATGT...|;<<+7===?>>9>=:=<...|\n",
      "|      son|           null|     0|       null|   0|   0|    0|    0|        false|          0|     null|CTTTAGTAATTTTCCTC...|=?7=?@>>>>===>>?>...|\n",
      "|      son|           null|     0|       null|   0|   0|    0|    0|        false|          0|     null|TAAATATTTCACAACAC...|;;<=>>:<=>>;>=;<<...|\n",
      "|      son|           null|     0|       null|   0|   0|    0|    0|        false|          0|     null|ATCTTTGCATTTGACAC...|=>>??><=?>9=;>=?=...|\n",
      "|      son|           null|     0|       null|   0|   0|    0|    0|        false|          0|     null|AACACCAGCCTGGCCAA...|9<:=:>4)>8><==+5,...|\n",
      "|      son|           null|     0|       null|   0|   0|    0|    0|        false|          0|     null|AACACTTCTGTAGAAAA...|1><>>@>>@><>?>?1>...|\n",
      "|      son|           null|     0|       null|   0|   0|    0|    0|        false|          0|     null|GTGAGAAAATAAACCAA...|;9;8>,;==>27=;+83...|\n",
      "|      son|           null|     0|       null|   0|   0|    0|    0|        false|          0|     null|TATACCTGGGAATGGGG...|==>=>??>>>=>>>>>>...|\n",
      "|      son|           null|     0|       null|   0|   0|    0|    0|        false|          0|     null|AGGAAATGTCCAGCTTA...|.<;=>===>>7>>=:<=...|\n",
      "|      son|           null|     0|       null|   0|   0|    0|    0|        false|          0|     null|GAATCTAATTGTCTTGG...|1:>>@@=?>=>>>?=>>...|\n",
      "|      son|           null|     0|       null|   0|   0|    0|    0|        false|          0|     null|TATAGAGCCCCAACCAC...|;;<<>>>=:>=>><=><...|\n",
      "|      son|           null|     0|       null|   0|   0|    0|    0|        false|          0|     null|TTTGAGAAAACTTACAG...|====@@>>>>=?=>=??...|\n",
      "|      son|           null|     0|       null|   0|   0|    0|    0|        false|          0|     null|ATCTGCTACTATAAGCA...|;<<>=9><=?<===>>=...|\n",
      "+---------+---------------+------+-----------+----+----+-----+-----+-------------+-----------+---------+--------------------+--------------------+\n",
      "only showing top 20 rows\n",
      "\n"
     ]
    }
   ],
   "source": [
    "fastq_all.selectExpr(\"*\").show()"
   ]
  },
  {
   "cell_type": "code",
   "execution_count": 33,
   "metadata": {},
   "outputs": [
    {
     "name": "stdout",
     "output_type": "stream",
     "text": [
      "+---------+---------------+------+-----------+----+----+-----+-----+-------------+-----------+---------+--------------------+--------------------+-------+--------+\n",
      "|sample_id|instrument_name|run_id|flowcell_id|lane|tile|pos_x|pos_y|filter_passed|control_num|index_seq|                 seq|                qual|len_seq|len_qual|\n",
      "+---------+---------------+------+-----------+----+----+-----+-----+-------------+-----------+---------+--------------------+--------------------+-------+--------+\n",
      "|      son|           null|     0|       null|   0|   0|    0|    0|        false|          0|     null|GATGCTCAAACTCCAGG...|=>>=@==?>>=>>>?9<...|    151|     151|\n",
      "|      son|           null|     0|       null|   0|   0|    0|    0|        false|          0|     null|ATTGTGCTTAACAATGC...|995+7))>:,,94=,=9...|    151|     151|\n",
      "|      son|           null|     0|       null|   0|   0|    0|    0|        false|          0|     null|CATCTATTTAGCTGAAA...|=>:>A?>0=:?=?>;1>...|    151|     151|\n",
      "|      son|           null|     0|       null|   0|   0|    0|    0|        false|          0|     null|TTCCTGTACCTCCTTCC...|..6=:8,:=>.=+;<>=...|    151|     151|\n",
      "|      son|           null|     0|       null|   0|   0|    0|    0|        false|          0|     null|CATACCTAGCATGGCCT...|=>>=>??>?>?>>=>?@...|    151|     151|\n",
      "|      son|           null|     0|       null|   0|   0|    0|    0|        false|          0|     null|ACTAAATTGCCATGGTA...|;:=<>>=<>>=>==<=9...|    151|     151|\n",
      "|      son|           null|     0|       null|   0|   0|    0|    0|        false|          0|     null|AACACAGGTGGGAATTG...|10<:;=.>>78:>==>>...|    151|     151|\n",
      "|      son|           null|     0|       null|   0|   0|    0|    0|        false|          0|     null|CATGTTAAGCTGCATGT...|;<<+7===?>>9>=:=<...|    151|     151|\n",
      "|      son|           null|     0|       null|   0|   0|    0|    0|        false|          0|     null|CTTTAGTAATTTTCCTC...|=?7=?@>>>>===>>?>...|    151|     151|\n",
      "|      son|           null|     0|       null|   0|   0|    0|    0|        false|          0|     null|TAAATATTTCACAACAC...|;;<=>>:<=>>;>=;<<...|    151|     151|\n",
      "|      son|           null|     0|       null|   0|   0|    0|    0|        false|          0|     null|ATCTTTGCATTTGACAC...|=>>??><=?>9=;>=?=...|    151|     151|\n",
      "|      son|           null|     0|       null|   0|   0|    0|    0|        false|          0|     null|AACACCAGCCTGGCCAA...|9<:=:>4)>8><==+5,...|    151|     151|\n",
      "|      son|           null|     0|       null|   0|   0|    0|    0|        false|          0|     null|AACACTTCTGTAGAAAA...|1><>>@>>@><>?>?1>...|    151|     151|\n",
      "|      son|           null|     0|       null|   0|   0|    0|    0|        false|          0|     null|GTGAGAAAATAAACCAA...|;9;8>,;==>27=;+83...|    151|     151|\n",
      "|      son|           null|     0|       null|   0|   0|    0|    0|        false|          0|     null|TATACCTGGGAATGGGG...|==>=>??>>>=>>>>>>...|    151|     151|\n",
      "|      son|           null|     0|       null|   0|   0|    0|    0|        false|          0|     null|AGGAAATGTCCAGCTTA...|.<;=>===>>7>>=:<=...|    151|     151|\n",
      "|      son|           null|     0|       null|   0|   0|    0|    0|        false|          0|     null|GAATCTAATTGTCTTGG...|1:>>@@=?>=>>>?=>>...|    151|     151|\n",
      "|      son|           null|     0|       null|   0|   0|    0|    0|        false|          0|     null|TATAGAGCCCCAACCAC...|;;<<>>>=:>=>><=><...|    151|     151|\n",
      "|      son|           null|     0|       null|   0|   0|    0|    0|        false|          0|     null|TTTGAGAAAACTTACAG...|====@@>>>>=?=>=??...|    151|     151|\n",
      "|      son|           null|     0|       null|   0|   0|    0|    0|        false|          0|     null|ATCTGCTACTATAAGCA...|;<<>=9><=?<===>>=...|    151|     151|\n",
      "+---------+---------------+------+-----------+----+----+-----+-----+-------------+-----------+---------+--------------------+--------------------+-------+--------+\n",
      "only showing top 20 rows\n",
      "\n"
     ]
    }
   ],
   "source": [
    "fastq_all.selectExpr(\"*\", \"length(seq) as len_seq\", \"length(qual) as len_qual\" ).show() ## dodanie dwóch kolumn wyliczanych przy uzyciu funkcji LENGTH"
   ]
  },
  {
   "cell_type": "code",
   "execution_count": 34,
   "metadata": {},
   "outputs": [],
   "source": [
    "extended_fastq = fastq_all.selectExpr(\"*\", \"length(seq) as len_seq\", \"length(qual) as len_qual\" )"
   ]
  },
  {
   "cell_type": "code",
   "execution_count": 35,
   "metadata": {},
   "outputs": [
    {
     "name": "stdout",
     "output_type": "stream",
     "text": [
      "+---------+---------------+------+-----------+----+----+-----+-----+-------------+-----------+---------+--------------------+--------------------+-------+--------+----------+\n",
      "|sample_id|instrument_name|run_id|flowcell_id|lane|tile|pos_x|pos_y|filter_passed|control_num|index_seq|                 seq|                qual|len_seq|len_qual|      date|\n",
      "+---------+---------------+------+-----------+----+----+-----+-----+-------------+-----------+---------+--------------------+--------------------+-------+--------+----------+\n",
      "|      son|           null|     0|       null|   0|   0|    0|    0|        false|          0|     null|GATGCTCAAACTCCAGG...|=>>=@==?>>=>>>?9<...|    151|     151|2021-01-15|\n",
      "|      son|           null|     0|       null|   0|   0|    0|    0|        false|          0|     null|ATTGTGCTTAACAATGC...|995+7))>:,,94=,=9...|    151|     151|2021-01-15|\n",
      "|      son|           null|     0|       null|   0|   0|    0|    0|        false|          0|     null|CATCTATTTAGCTGAAA...|=>:>A?>0=:?=?>;1>...|    151|     151|2021-01-15|\n",
      "|      son|           null|     0|       null|   0|   0|    0|    0|        false|          0|     null|TTCCTGTACCTCCTTCC...|..6=:8,:=>.=+;<>=...|    151|     151|2021-01-15|\n",
      "|      son|           null|     0|       null|   0|   0|    0|    0|        false|          0|     null|CATACCTAGCATGGCCT...|=>>=>??>?>?>>=>?@...|    151|     151|2021-01-15|\n",
      "|      son|           null|     0|       null|   0|   0|    0|    0|        false|          0|     null|ACTAAATTGCCATGGTA...|;:=<>>=<>>=>==<=9...|    151|     151|2021-01-15|\n",
      "|      son|           null|     0|       null|   0|   0|    0|    0|        false|          0|     null|AACACAGGTGGGAATTG...|10<:;=.>>78:>==>>...|    151|     151|2021-01-15|\n",
      "|      son|           null|     0|       null|   0|   0|    0|    0|        false|          0|     null|CATGTTAAGCTGCATGT...|;<<+7===?>>9>=:=<...|    151|     151|2021-01-15|\n",
      "|      son|           null|     0|       null|   0|   0|    0|    0|        false|          0|     null|CTTTAGTAATTTTCCTC...|=?7=?@>>>>===>>?>...|    151|     151|2021-01-15|\n",
      "|      son|           null|     0|       null|   0|   0|    0|    0|        false|          0|     null|TAAATATTTCACAACAC...|;;<=>>:<=>>;>=;<<...|    151|     151|2021-01-15|\n",
      "|      son|           null|     0|       null|   0|   0|    0|    0|        false|          0|     null|ATCTTTGCATTTGACAC...|=>>??><=?>9=;>=?=...|    151|     151|2021-01-15|\n",
      "|      son|           null|     0|       null|   0|   0|    0|    0|        false|          0|     null|AACACCAGCCTGGCCAA...|9<:=:>4)>8><==+5,...|    151|     151|2021-01-15|\n",
      "|      son|           null|     0|       null|   0|   0|    0|    0|        false|          0|     null|AACACTTCTGTAGAAAA...|1><>>@>>@><>?>?1>...|    151|     151|2021-01-15|\n",
      "|      son|           null|     0|       null|   0|   0|    0|    0|        false|          0|     null|GTGAGAAAATAAACCAA...|;9;8>,;==>27=;+83...|    151|     151|2021-01-15|\n",
      "|      son|           null|     0|       null|   0|   0|    0|    0|        false|          0|     null|TATACCTGGGAATGGGG...|==>=>??>>>=>>>>>>...|    151|     151|2021-01-15|\n",
      "|      son|           null|     0|       null|   0|   0|    0|    0|        false|          0|     null|AGGAAATGTCCAGCTTA...|.<;=>===>>7>>=:<=...|    151|     151|2021-01-15|\n",
      "|      son|           null|     0|       null|   0|   0|    0|    0|        false|          0|     null|GAATCTAATTGTCTTGG...|1:>>@@=?>=>>>?=>>...|    151|     151|2021-01-15|\n",
      "|      son|           null|     0|       null|   0|   0|    0|    0|        false|          0|     null|TATAGAGCCCCAACCAC...|;;<<>>>=:>=>><=><...|    151|     151|2021-01-15|\n",
      "|      son|           null|     0|       null|   0|   0|    0|    0|        false|          0|     null|TTTGAGAAAACTTACAG...|====@@>>>>=?=>=??...|    151|     151|2021-01-15|\n",
      "|      son|           null|     0|       null|   0|   0|    0|    0|        false|          0|     null|ATCTGCTACTATAAGCA...|;<<>=9><=?<===>>=...|    151|     151|2021-01-15|\n",
      "+---------+---------------+------+-----------+----+----+-----+-----+-------------+-----------+---------+--------------------+--------------------+-------+--------+----------+\n",
      "only showing top 20 rows\n",
      "\n"
     ]
    }
   ],
   "source": [
    "from pyspark.sql.functions import current_date\n",
    "extended_fastq.withColumn (\"date\", current_date()).show()"
   ]
  },
  {
   "cell_type": "code",
   "execution_count": 36,
   "metadata": {},
   "outputs": [
    {
     "name": "stdout",
     "output_type": "stream",
     "text": [
      "+---------+---------------+------+-----------+----+----+-----+-----+-------------+-----------+---------+--------------------+--------------------+------+\n",
      "|sample_id|instrument_name|run_id|flowcell_id|lane|tile|pos_x|pos_y|filter_passed|control_num|index_seq|                 seq|                qual|format|\n",
      "+---------+---------------+------+-----------+----+----+-----+-----+-------------+-----------+---------+--------------------+--------------------+------+\n",
      "|      son|           null|     0|       null|   0|   0|    0|    0|        false|          0|     null|GATGCTCAAACTCCAGG...|=>>=@==?>>=>>>?9<...| FASTQ|\n",
      "|      son|           null|     0|       null|   0|   0|    0|    0|        false|          0|     null|ATTGTGCTTAACAATGC...|995+7))>:,,94=,=9...| FASTQ|\n",
      "|      son|           null|     0|       null|   0|   0|    0|    0|        false|          0|     null|CATCTATTTAGCTGAAA...|=>:>A?>0=:?=?>;1>...| FASTQ|\n",
      "|      son|           null|     0|       null|   0|   0|    0|    0|        false|          0|     null|TTCCTGTACCTCCTTCC...|..6=:8,:=>.=+;<>=...| FASTQ|\n",
      "|      son|           null|     0|       null|   0|   0|    0|    0|        false|          0|     null|CATACCTAGCATGGCCT...|=>>=>??>?>?>>=>?@...| FASTQ|\n",
      "|      son|           null|     0|       null|   0|   0|    0|    0|        false|          0|     null|ACTAAATTGCCATGGTA...|;:=<>>=<>>=>==<=9...| FASTQ|\n",
      "|      son|           null|     0|       null|   0|   0|    0|    0|        false|          0|     null|AACACAGGTGGGAATTG...|10<:;=.>>78:>==>>...| FASTQ|\n",
      "|      son|           null|     0|       null|   0|   0|    0|    0|        false|          0|     null|CATGTTAAGCTGCATGT...|;<<+7===?>>9>=:=<...| FASTQ|\n",
      "|      son|           null|     0|       null|   0|   0|    0|    0|        false|          0|     null|CTTTAGTAATTTTCCTC...|=?7=?@>>>>===>>?>...| FASTQ|\n",
      "|      son|           null|     0|       null|   0|   0|    0|    0|        false|          0|     null|TAAATATTTCACAACAC...|;;<=>>:<=>>;>=;<<...| FASTQ|\n",
      "|      son|           null|     0|       null|   0|   0|    0|    0|        false|          0|     null|ATCTTTGCATTTGACAC...|=>>??><=?>9=;>=?=...| FASTQ|\n",
      "|      son|           null|     0|       null|   0|   0|    0|    0|        false|          0|     null|AACACCAGCCTGGCCAA...|9<:=:>4)>8><==+5,...| FASTQ|\n",
      "|      son|           null|     0|       null|   0|   0|    0|    0|        false|          0|     null|AACACTTCTGTAGAAAA...|1><>>@>>@><>?>?1>...| FASTQ|\n",
      "|      son|           null|     0|       null|   0|   0|    0|    0|        false|          0|     null|GTGAGAAAATAAACCAA...|;9;8>,;==>27=;+83...| FASTQ|\n",
      "|      son|           null|     0|       null|   0|   0|    0|    0|        false|          0|     null|TATACCTGGGAATGGGG...|==>=>??>>>=>>>>>>...| FASTQ|\n",
      "|      son|           null|     0|       null|   0|   0|    0|    0|        false|          0|     null|AGGAAATGTCCAGCTTA...|.<;=>===>>7>>=:<=...| FASTQ|\n",
      "|      son|           null|     0|       null|   0|   0|    0|    0|        false|          0|     null|GAATCTAATTGTCTTGG...|1:>>@@=?>=>>>?=>>...| FASTQ|\n",
      "|      son|           null|     0|       null|   0|   0|    0|    0|        false|          0|     null|TATAGAGCCCCAACCAC...|;;<<>>>=:>=>><=><...| FASTQ|\n",
      "|      son|           null|     0|       null|   0|   0|    0|    0|        false|          0|     null|TTTGAGAAAACTTACAG...|====@@>>>>=?=>=??...| FASTQ|\n",
      "|      son|           null|     0|       null|   0|   0|    0|    0|        false|          0|     null|ATCTGCTACTATAAGCA...|;<<>=9><=?<===>>=...| FASTQ|\n",
      "+---------+---------------+------+-----------+----+----+-----+-----+-------------+-----------+---------+--------------------+--------------------+------+\n",
      "only showing top 20 rows\n",
      "\n"
     ]
    }
   ],
   "source": [
    "from pyspark.sql.functions import lit\n",
    "\n",
    "fastq_all.withColumn(\"format\", lit('FASTQ')).show()"
   ]
  },
  {
   "cell_type": "markdown",
   "metadata": {},
   "source": [
    "## <span style='background:yellow'> ZADANIE  </span>\n",
    "\n",
    "Napisz polecenie które zwróci ramkę danych zawierającą sklejenie wartości dwóch kolumn (sample_id) oraz daty eksperymentu (dodaj kolumne z wartościami 2019-01-15). W wynikach chcemy mieć tylko dane matki i ojca. Kolumny wynikowe: nazwa próbki, seq, qual, data eksperymentu oraz scalona nazwa probki oraz data eksperymenty (np father2019-01-15)."
   ]
  },
  {
   "cell_type": "code",
   "execution_count": 37,
   "metadata": {},
   "outputs": [
    {
     "name": "stdout",
     "output_type": "stream",
     "text": [
      "+---------+----------------+--------------------+--------------------+---------------+\n",
      "|sample_id|     sample_date|                 seq|                qual|experiment_date|\n",
      "+---------+----------------+--------------------+--------------------+---------------+\n",
      "|   mother|mother2019-01-15|TGGAGTTCTAAATTGTG...|==:=?>=>?>>>>>>>>...|     2019-01-15|\n",
      "|   mother|mother2019-01-15|GCATGTGCAAGTATCTT...|;;<<9>>>>9>:=<=?<...|     2019-01-15|\n",
      "|   mother|mother2019-01-15|GCCATTAGACGACATTT...|=<=2?<0?=;5>>?>70...|     2019-01-15|\n",
      "|   mother|mother2019-01-15|AGGCAGGACTAGTTCCT...|::;,::*-=0:>88-+;...|     2019-01-15|\n",
      "|   mother|mother2019-01-15|ATAAGGGGGCCACTTTT...|==8=??>>>?>?>@>==...|     2019-01-15|\n",
      "|   mother|mother2019-01-15|TGAAAAACCACATGGAA...|/99;;9=8=>=-2=::3...|     2019-01-15|\n",
      "|   mother|mother2019-01-15|GAAATGCTTAATTACCC...|====2??@<=>>==8=0...|     2019-01-15|\n",
      "|   mother|mother2019-01-15|CCACAAAAGCCTTTATC...|;;<6<.>=>2+>=8,=9...|     2019-01-15|\n",
      "|   mother|mother2019-01-15|CAACTTAACAAATTCAT...|=>;<?>?>>?>=>=>?>...|     2019-01-15|\n",
      "|   mother|mother2019-01-15|TTCTCCTAAGTGAAATA...|;:;=9>?==?===<==>...|     2019-01-15|\n",
      "|   mother|mother2019-01-15|AGAATTACTGTTTGACT...|</;=:>>>?9/:7;<>4...|     2019-01-15|\n",
      "|   mother|mother2019-01-15|AGATATAAATTATATTG...|:.9/;-?.=8+>->-+7...|     2019-01-15|\n",
      "|   mother|mother2019-01-15|TTTGAACCTTTACTACA...|====??>>?==?>?=>?...|     2019-01-15|\n",
      "|   mother|mother2019-01-15|TCAAGGACTAAGATATA...|;0:<=>>=>?<=9=>=>...|     2019-01-15|\n",
      "|   mother|mother2019-01-15|AGTAAAGGTTCTAGTTA...|<=;==?>>=><@7<;9=...|     2019-01-15|\n",
      "|   mother|mother2019-01-15|GAGGGTGTCATGGGAAC...|;;8:+.>:;.==*=-=;...|     2019-01-15|\n",
      "|   mother|mother2019-01-15|ATAAATGGTCCTTAAAT...|===<??>>>>>@==>>>...|     2019-01-15|\n",
      "|   mother|mother2019-01-15|TTAATTTATGTACTCAA...|;;;<===>=>=>=>=>=...|     2019-01-15|\n",
      "|   mother|mother2019-01-15|AGTTTCCTGGGGCATGC...|==9=??>?>><>??>>?...|     2019-01-15|\n",
      "|   mother|mother2019-01-15|AATGCTAGACTTTTCAT...|:;;<;??>=><<<<=>=...|     2019-01-15|\n",
      "+---------+----------------+--------------------+--------------------+---------------+\n",
      "only showing top 20 rows\n",
      "\n"
     ]
    }
   ],
   "source": [
    "from pyspark.sql.functions import to_date, lit, concat\n",
    "\n",
    "fastq_all.withColumn(\"experiment_date\", to_date(lit('2019-01-15')))\\\n",
    "        .withColumn(\"sample_date\", concat(\"sample_id\", \"experiment_date\"))\\\n",
    "        .select (\"sample_id\", \"sample_date\", \"seq\", \"qual\", \"experiment_date\")\\\n",
    "        .filter (\"sample_id IN ('mother', 'father')\")\\\n",
    "        .show()"
   ]
  },
  {
   "cell_type": "markdown",
   "metadata": {},
   "source": [
    "## Grupowanie"
   ]
  },
  {
   "cell_type": "code",
   "execution_count": 38,
   "metadata": {},
   "outputs": [
    {
     "ename": "AttributeError",
     "evalue": "'GroupedData' object has no attribute 'show'",
     "output_type": "error",
     "traceback": [
      "\u001b[0;31m---------------------------------------------------------------------------\u001b[0m",
      "\u001b[0;31mAttributeError\u001b[0m                            Traceback (most recent call last)",
      "\u001b[0;32m<ipython-input-38-94a969d9aa65>\u001b[0m in \u001b[0;36m<module>\u001b[0;34m\u001b[0m\n\u001b[0;32m----> 1\u001b[0;31m \u001b[0mfastq_all\u001b[0m\u001b[0;34m.\u001b[0m\u001b[0mgroupBy\u001b[0m\u001b[0;34m(\u001b[0m\u001b[0;34m\"sample_id\"\u001b[0m\u001b[0;34m)\u001b[0m\u001b[0;34m.\u001b[0m\u001b[0mshow\u001b[0m\u001b[0;34m(\u001b[0m\u001b[0;34m)\u001b[0m\u001b[0;34m\u001b[0m\u001b[0;34m\u001b[0m\u001b[0m\n\u001b[0m",
      "\u001b[0;31mAttributeError\u001b[0m: 'GroupedData' object has no attribute 'show'"
     ]
    }
   ],
   "source": [
    "fastq_all.groupBy(\"sample_id\").show()"
   ]
  },
  {
   "cell_type": "code",
   "execution_count": 39,
   "metadata": {},
   "outputs": [
    {
     "data": {
      "text/plain": [
       "pyspark.sql.group.GroupedData"
      ]
     },
     "execution_count": 39,
     "metadata": {},
     "output_type": "execute_result"
    }
   ],
   "source": [
    "type(fastq_all.groupBy(\"sample_id\")) # to nie jest DF"
   ]
  },
  {
   "cell_type": "code",
   "execution_count": 40,
   "metadata": {},
   "outputs": [],
   "source": [
    "sample_count=fastq_all.groupBy(\"sample_id\").count()"
   ]
  },
  {
   "cell_type": "code",
   "execution_count": 41,
   "metadata": {},
   "outputs": [
    {
     "data": {
      "text/plain": [
       "pyspark.sql.dataframe.DataFrame"
      ]
     },
     "execution_count": 41,
     "metadata": {},
     "output_type": "execute_result"
    }
   ],
   "source": [
    "type(sample_count)"
   ]
  },
  {
   "cell_type": "code",
   "execution_count": 42,
   "metadata": {},
   "outputs": [
    {
     "name": "stdout",
     "output_type": "stream",
     "text": [
      "+---------+------+\n",
      "|sample_id| count|\n",
      "+---------+------+\n",
      "|   father| 53770|\n",
      "|   mother|133160|\n",
      "|      son| 54184|\n",
      "+---------+------+\n",
      "\n"
     ]
    }
   ],
   "source": [
    "sample_count.show()"
   ]
  },
  {
   "cell_type": "code",
   "execution_count": 43,
   "metadata": {},
   "outputs": [
    {
     "name": "stdout",
     "output_type": "stream",
     "text": [
      "+---------+------+\n",
      "|sample_id| count|\n",
      "+---------+------+\n",
      "|   father| 53770|\n",
      "|      son| 54184|\n",
      "|   mother|133160|\n",
      "+---------+------+\n",
      "\n"
     ]
    }
   ],
   "source": [
    "sample_count.orderBy(\"count\").show()"
   ]
  },
  {
   "cell_type": "markdown",
   "metadata": {},
   "source": [
    "## <span style='background:yellow'> ZADANIE  </span>\n",
    "\n",
    "Napisz funkcje, ktora znajdzie rozklady jakosci dla 1, 2, 3 i 4 pozycji odczytu.\n",
    "*Nastepnie zaprezentuj wyniki w postaci serii histogramów"
   ]
  },
  {
   "cell_type": "code",
   "execution_count": 74,
   "metadata": {},
   "outputs": [
    {
     "data": {
      "text/plain": [
       "<AxesSubplot:>"
      ]
     },
     "execution_count": 74,
     "metadata": {},
     "output_type": "execute_result"
    },
    {
     "data": {
      "image/png": "[encoded data removed]",
      "text/plain": [
       "<Figure size 432x288 with 1 Axes>"
      ]
     },
     "metadata": {
      "needs_background": "light"
     },
     "output_type": "display_data"
    }
   ],
   "source": [
    "quals = fastq_all.selectExpr( \"ascii(SUBSTR(qual,1)) -33 as p1\", \n",
    "                                    \"ascii(SUBSTR(qual,2))-33 as p2\",\n",
    "                                    \"ascii(SUBSTR(qual,3))-33 as p3\",\n",
    "                                    \"ascii(SUBSTR(qual,4))-33 as p4\")\n",
    "\n",
    "\n",
    "import matplotlib.pyplot as plt\n",
    "quals.toPandas().boxplot()"
   ]
  },
  {
   "cell_type": "markdown",
   "metadata": {},
   "source": [
    "### Mapowanie do genomu referencyjnego\n",
    "Wykonamy mapowanie do genomu referencyjnych korzystając z rozproszenia danych miedzy procesy obliczeniowe sparka."
   ]
  },
  {
   "cell_type": "markdown",
   "metadata": {},
   "source": [
    "Przygotowanie ścieżek do plików."
   ]
  },
  {
   "cell_type": "code",
   "execution_count": 44,
   "metadata": {},
   "outputs": [],
   "source": [
    "import os\n",
    "user_name = os.environ.get('USER')\n",
    "bucket = f\"gs://edugen-lab-{user_name}\"\n",
    "\n",
    "reads_file_path = f\"{bucket}/fastq/mother.fastq\"\n",
    "ref_path = \"/mnt/data/mapping/ref/ref.fasta\""
   ]
  },
  {
   "cell_type": "markdown",
   "metadata": {},
   "source": [
    "Konstruujemy komendę, która będzie uruchamiana na procesach obliczeniowych. Potrzebne narzędzia muszą być dostępne na węzłach obliczeniowych."
   ]
  },
  {
   "cell_type": "code",
   "execution_count": 45,
   "metadata": {},
   "outputs": [],
   "source": [
    "command = f'bwa mem -p {ref_path} - | samtools fixmate -m - - | samtools sort  | samtools markdup -r -S - -  | samtools addreplacerg  -r \"ID:S1\" -r \"SM:S1\"  -r \"PL:ILLUMINA\" - | samtools view -b -'"
   ]
  },
  {
   "cell_type": "markdown",
   "metadata": {},
   "source": [
    "Żeby wykonać rozproszone obliczenia na danych genomicznych nalezy wykorzystac dodatkową bibliotekę."
   ]
  },
  {
   "cell_type": "code",
   "execution_count": 46,
   "metadata": {},
   "outputs": [],
   "source": [
    "from pyseqtender import SeqTenderAlignment\n",
    "\n",
    "seq_aligner = SeqTenderAlignment(spark, reads_file_path, command)\n",
    "alignments_rdd = seq_aligner.pipe_reads()"
   ]
  },
  {
   "cell_type": "markdown",
   "metadata": {},
   "source": [
    "Zapisujemy plik na kubełek."
   ]
  },
  {
   "cell_type": "code",
   "execution_count": 47,
   "metadata": {},
   "outputs": [],
   "source": [
    "bam_file_path = f\"{bucket}/bam/mother10.bam\"\n",
    "seq_aligner.save_reads(bam_file_path, alignments_rdd)"
   ]
  },
  {
   "cell_type": "code",
   "execution_count": 48,
   "metadata": {},
   "outputs": [
    {
     "name": "stdout",
     "output_type": "stream",
     "text": [
      "gs://edugen-lab-tgambin/bam/\n",
      "gs://edugen-lab-tgambin/bam/mother10.bam\n",
      "gs://edugen-lab-tgambin/bam/mother10.bam.bai\n",
      "gs://edugen-lab-tgambin/bam/mother10.bam.sbi\n"
     ]
    }
   ],
   "source": [
    "!gsutil ls gs://edugen-lab-$USER/bam"
   ]
  },
  {
   "cell_type": "markdown",
   "metadata": {},
   "source": [
    "## <span style='background:yellow'> ZADANIE  </span>\n",
    "\n",
    "Na podstawie notatników z zajęć z genomiki wyświetl fragment pliku BAM w widge'cie IGV. "
   ]
  },
  {
   "cell_type": "code",
   "execution_count": 58,
   "metadata": {},
   "outputs": [
    {
     "name": "stdout",
     "output_type": "stream",
     "text": [
      "No changes made to gs://edugen-lab-tgambin/\n"
     ]
    },
    {
     "data": {
      "application/vnd.jupyter.widget-view+json": {
       "model_id": "c87462d340c7452d84f1f444650881ed",
       "version_major": 2,
       "version_minor": 0
      },
      "text/plain": [
       "IGV(id='igv_1409546', initialConfig={'id': 'igv_1409546', 'locus': '', 'genome': 'hg19'})"
      ]
     },
     "metadata": {},
     "output_type": "display_data"
    }
   ],
   "source": [
    "# najpierw trzeba upublicznić kubełek\n",
    "!gsutil iam ch allUsers:objectViewer $bucket\n",
    "\n",
    "from igv_jupyterlab import IGV\n",
    "igv = IGV(genome=\"hg19\" )\n",
    "display(igv)\n",
    "import time\n",
    "time.sleep(3)\n",
    "t1 = igv.create_track(\n",
    "        name = \"mother BAM\",\n",
    "        url = f\"{bucket}/bam/mother10.bam\",\n",
    "        index_url= f\"{bucket}/bam/mother10.bam.bai\",\n",
    "        indexed= True\n",
    ")\n",
    "\n",
    "igv.load_track(t1)\n",
    "\n",
    "igv.search_locus(\"20\", 10002294, 10002623)"
   ]
  },
  {
   "cell_type": "markdown",
   "metadata": {},
   "source": [
    "Kończymy notatniki, należy zamknąć sesję."
   ]
  },
  {
   "cell_type": "code",
   "execution_count": null,
   "metadata": {},
   "outputs": [],
   "source": [
    "spark.stop()"
   ]
  }
 ],
 "metadata": {
  "kernelspec": {
   "display_name": "edugen",
   "language": "python",
   "name": "edugen"
  },
  "language_info": {
   "codemirror_mode": {
    "name": "ipython",
    "version": 3
   },
   "file_extension": ".py",
   "mimetype": "text/x-python",
   "name": "python",
   "nbconvert_exporter": "python",
   "pygments_lexer": "ipython3",
   "version": "3.6.9"
  }
 },
 "nbformat": 4,
 "nbformat_minor": 4
}
